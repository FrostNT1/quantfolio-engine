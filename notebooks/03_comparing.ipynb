{
 "cells": [
  {
   "cell_type": "markdown",
   "metadata": {},
   "source": [
    "# 03: Black-Litterman vs Monte Carlo Diagnostics\n",
    "\n",
    "This notebook demonstrates, step by step, how to align the Black-Litterman and Monte Carlo optimizers by calibrating risk aversion, view strength, constraints, and risk-free rate treatment."
   ]
  },
  {
   "cell_type": "code",
   "execution_count": 1,
   "metadata": {},
   "outputs": [
    {
     "name": "stderr",
     "output_type": "stream",
     "text": [
      "\u001b[32m2025-07-04 18:28:28.968\u001b[0m | \u001b[1mINFO    \u001b[0m | \u001b[36mquantfolio_engine.config\u001b[0m:\u001b[36m<module>\u001b[0m:\u001b[36m12\u001b[0m - \u001b[1mPROJ_ROOT path is: /Users/dominusdeorum/Documents/Vanderbilt/Projects/quantfolio-engine\u001b[0m\n"
     ]
    }
   ],
   "source": [
    "import pandas as pd\n",
    "import numpy as np\n",
    "from quantfolio_engine.optimizer.black_litterman import BlackLittermanOptimizer\n",
    "from quantfolio_engine.optimizer.monte_carlo import MonteCarloOptimizer\n",
    "from quantfolio_engine.config import PROCESSED_DATA_DIR, ASSET_UNIVERSE\n",
    "import matplotlib.pyplot as plt\n",
    "\n",
    "# Load data\n",
    "returns = pd.read_csv(PROCESSED_DATA_DIR / 'returns_monthly.csv', index_col=0, parse_dates=True)\n",
    "macro = pd.read_csv(PROCESSED_DATA_DIR / 'macro_monthly.csv', index_col=0, parse_dates=True)\n",
    "exposures = pd.read_csv(PROCESSED_DATA_DIR / 'factor_exposures.csv', index_col=0, parse_dates=True)\n",
    "regimes = pd.read_csv(PROCESSED_DATA_DIR / 'factor_regimes_hmm.csv', index_col=0, parse_dates=True)\n",
    "assets = list(ASSET_UNIVERSE.keys())\n",
    "returns = returns[assets]\n"
   ]
  },
  {
   "cell_type": "markdown",
   "metadata": {},
   "source": [
    "## 1. Calibrate λ for Black-Litterman\n",
    "Find λ so that annualized mean(π) slightly exceeds rf."
   ]
  },
  {
   "cell_type": "code",
   "execution_count": 2,
   "metadata": {},
   "outputs": [
    {
     "name": "stdout",
     "output_type": "stream",
     "text": [
      "λ=0.05, mean(π)=0.0928% p.a., rf=4.50%\n",
      "λ=0.08, mean(π)=0.1484% p.a., rf=4.50%\n",
      "λ=0.10, mean(π)=0.1856% p.a., rf=4.50%\n",
      "λ=0.15, mean(π)=0.2783% p.a., rf=4.50%\n",
      "λ=0.20, mean(π)=0.3711% p.a., rf=4.50%\n",
      "λ=0.25, mean(π)=0.4639% p.a., rf=4.50%\n",
      "λ=0.30, mean(π)=0.5567% p.a., rf=4.50%\n"
     ]
    }
   ],
   "source": [
    "rf_annual = 0.045\n",
    "rf_monthly = rf_annual / 12\n",
    "cov = returns.cov()\n",
    "w_mkt = np.ones(len(assets)) / len(assets)\n",
    "for lam in [0.05, 0.08, 0.10, 0.15, 0.20, 0.25, 0.30]:\n",
    "    pi = lam * cov.values @ w_mkt\n",
    "    print(f'λ={lam:.2f}, mean(π)={pi.mean()*12:.4%} p.a., rf={rf_annual:.2%}')"
   ]
  },
  {
   "cell_type": "markdown",
   "metadata": {},
   "source": [
    "## 2. Boost view returns/strength\n",
    "Double the base view returns or set view_strength=3–4. Show effect on posterior μ and weights."
   ]
  },
  {
   "cell_type": "code",
   "execution_count": 3,
   "metadata": {},
   "outputs": [
    {
     "name": "stdout",
     "output_type": "stream",
     "text": [
      "\u001b[32m2025-07-04 18:28:29.859\u001b[0m | \u001b[1mINFO    \u001b[0m | \u001b[36mquantfolio_engine.optimizer.black_litterman\u001b[0m:\u001b[36mcalculate_equilibrium_returns\u001b[0m:\u001b[36m142\u001b[0m - \u001b[1mMarket cap weights: {'SPY': np.float64(0.08333333333333333), 'TLT': np.float64(0.08333333333333333), 'GLD': np.float64(0.08333333333333333), 'AAPL': np.float64(0.08333333333333333), 'MSFT': np.float64(0.08333333333333333), 'JPM': np.float64(0.08333333333333333), 'UNH': np.float64(0.08333333333333333), 'WMT': np.float64(0.08333333333333333), 'XLE': np.float64(0.08333333333333333), 'BA': np.float64(0.08333333333333333), 'IWM': np.float64(0.08333333333333333), 'EFA': np.float64(0.08333333333333333)}\u001b[0m\n",
      "\u001b[32m2025-07-04 18:28:29.874\u001b[0m | \u001b[1mINFO    \u001b[0m | \u001b[36mquantfolio_engine.optimizer.black_litterman\u001b[0m:\u001b[36mcalculate_equilibrium_returns\u001b[0m:\u001b[36m143\u001b[0m - \u001b[1mLambda market: 0.1\u001b[0m\n",
      "\u001b[32m2025-07-04 18:28:29.875\u001b[0m | \u001b[1mINFO    \u001b[0m | \u001b[36mquantfolio_engine.optimizer.black_litterman\u001b[0m:\u001b[36mcalculate_equilibrium_returns\u001b[0m:\u001b[36m144\u001b[0m - \u001b[1mEquilibrium returns (monthly): {'SPY': 0.00016391536516665098, 'TLT': 2.2722002476780584e-05, 'GLD': 2.010381562853374e-05, 'AAPL': 0.00020361102364882544, 'MSFT': 0.00015509684337050692, 'JPM': 0.0002043634712122172, 'UNH': 0.00011964350326657157, 'WMT': 8.853489463907703e-05, 'XLE': 0.0002236257327056571, 'BA': 0.0003008858228290939, 'IWM': 0.0002029611279144284, 'EFA': 0.00015006283339535814}\u001b[0m\n",
      "\u001b[32m2025-07-04 18:28:29.875\u001b[0m | \u001b[1mINFO    \u001b[0m | \u001b[36mquantfolio_engine.optimizer.black_litterman\u001b[0m:\u001b[36mcalculate_equilibrium_returns\u001b[0m:\u001b[36m145\u001b[0m - \u001b[1mMean equilibrium return: 0.000155\u001b[0m\n",
      "\u001b[32m2025-07-04 18:28:29.875\u001b[0m | \u001b[1mINFO    \u001b[0m | \u001b[36mquantfolio_engine.optimizer.black_litterman\u001b[0m:\u001b[36mcalculate_equilibrium_returns\u001b[0m:\u001b[36m146\u001b[0m - \u001b[1mRisk-free rate (monthly): 0.003750\u001b[0m\n",
      "\u001b[32m2025-07-04 18:28:29.875\u001b[0m | \u001b[1mINFO    \u001b[0m | \u001b[36mquantfolio_engine.optimizer.black_litterman\u001b[0m:\u001b[36mcreate_factor_timing_views\u001b[0m:\u001b[36m170\u001b[0m - \u001b[1mCreating factor timing views...\u001b[0m\n",
      "\u001b[32m2025-07-04 18:28:29.877\u001b[0m | \u001b[34m\u001b[1mDEBUG   \u001b[0m | \u001b[36mquantfolio_engine.optimizer.black_litterman\u001b[0m:\u001b[36mcreate_factor_timing_views\u001b[0m:\u001b[36m185\u001b[0m - \u001b[34m\u001b[1mLatest exposures: SPY_CPIAUCSL     -0.004272\n",
      "SPY_UNRATE       -0.046889\n",
      "SPY_FEDFUNDS     -0.010778\n",
      "SPY_INDPRO        0.030844\n",
      "SPY_GDPC1         0.000000\n",
      "                    ...   \n",
      "EFA_UMCSENT      -0.026476\n",
      "EFA_GS10         -0.133057\n",
      "EFA_M2SL          0.014120\n",
      "EFA_DCOILWTICO    0.048314\n",
      "EFA_^VIX         -0.087354\n",
      "Name: 2025-07-31 00:00:00, Length: 120, dtype: float64\u001b[0m\n",
      "\u001b[32m2025-07-04 18:28:29.877\u001b[0m | \u001b[34m\u001b[1mDEBUG   \u001b[0m | \u001b[36mquantfolio_engine.optimizer.black_litterman\u001b[0m:\u001b[36mcreate_factor_timing_views\u001b[0m:\u001b[36m186\u001b[0m - \u001b[34m\u001b[1mLatest exposures index: Index(['SPY_CPIAUCSL', 'SPY_UNRATE', 'SPY_FEDFUNDS', 'SPY_INDPRO', 'SPY_GDPC1',\n",
      "       'SPY_UMCSENT', 'SPY_GS10', 'SPY_M2SL', 'SPY_DCOILWTICO', 'SPY_^VIX',\n",
      "       ...\n",
      "       'EFA_CPIAUCSL', 'EFA_UNRATE', 'EFA_FEDFUNDS', 'EFA_INDPRO', 'EFA_GDPC1',\n",
      "       'EFA_UMCSENT', 'EFA_GS10', 'EFA_M2SL', 'EFA_DCOILWTICO', 'EFA_^VIX'],\n",
      "      dtype='object', length=120)\u001b[0m\n",
      "\u001b[32m2025-07-04 18:28:29.877\u001b[0m | \u001b[1mINFO    \u001b[0m | \u001b[36mquantfolio_engine.optimizer.black_litterman\u001b[0m:\u001b[36mcreate_factor_timing_views\u001b[0m:\u001b[36m237\u001b[0m - \u001b[1mRegime 0.0: Using view strength multiplier 2.00\u001b[0m\n",
      "\u001b[32m2025-07-04 18:28:29.877\u001b[0m | \u001b[1mINFO    \u001b[0m | \u001b[36mquantfolio_engine.optimizer.black_litterman\u001b[0m:\u001b[36mcreate_factor_timing_views\u001b[0m:\u001b[36m238\u001b[0m - \u001b[1mAdjusted view strength: 6.000\u001b[0m\n",
      "\u001b[32m2025-07-04 18:28:29.879\u001b[0m | \u001b[1mINFO    \u001b[0m | \u001b[36mquantfolio_engine.optimizer.black_litterman\u001b[0m:\u001b[36mcreate_factor_timing_views\u001b[0m:\u001b[36m407\u001b[0m - \u001b[1mCreated 24 factor timing views\u001b[0m\n",
      "\u001b[32m2025-07-04 18:28:29.879\u001b[0m | \u001b[1mINFO    \u001b[0m | \u001b[36mquantfolio_engine.optimizer.black_litterman\u001b[0m:\u001b[36mcreate_factor_timing_views\u001b[0m:\u001b[36m411\u001b[0m - \u001b[1mView returns (Q): [0.0018, 0.0018, 0.0018, 0.0018, 0.0018, 0.0018, 0.0018, 0.0018, 0.0018, np.float64(0.0023866139576397037), np.float64(0.0023866139576397037), np.float64(0.0023866139576397037), np.float64(0.0023866139576397037), np.float64(0.0023866139576397037), np.float64(0.0031374027041076594), np.float64(0.0031374027041076594), np.float64(0.0031374027041076594), np.float64(0.0031374027041076594), np.float64(0.0031374027041076594), np.float64(0.006430807798359821), np.float64(0.006430807798359821), np.float64(0.006430807798359821), np.float64(0.006430807798359821), np.float64(0.006430807798359821)]\u001b[0m\n",
      "\u001b[32m2025-07-04 18:28:29.879\u001b[0m | \u001b[1mINFO    \u001b[0m | \u001b[36mquantfolio_engine.optimizer.black_litterman\u001b[0m:\u001b[36mcreate_factor_timing_views\u001b[0m:\u001b[36m412\u001b[0m - \u001b[1mMean view return: 0.003166\u001b[0m\n",
      "\u001b[32m2025-07-04 18:28:29.879\u001b[0m | \u001b[1mINFO    \u001b[0m | \u001b[36mquantfolio_engine.optimizer.black_litterman\u001b[0m:\u001b[36mcreate_factor_timing_views\u001b[0m:\u001b[36m413\u001b[0m - \u001b[1mView uncertainties (Omega diagonal): [0.0009, 0.0009, 0.0009, 0.0009, 0.0009, 0.0009, 0.0009, 0.0009, 0.0009, np.float64(0.0011933069788198519), np.float64(0.0011933069788198519), np.float64(0.0011933069788198519), np.float64(0.0011933069788198519), np.float64(0.0011933069788198519), np.float64(0.0015687013520538297), np.float64(0.0015687013520538297), np.float64(0.0015687013520538297), np.float64(0.0015687013520538297), np.float64(0.0015687013520538297), np.float64(0.0032154038991799106), np.float64(0.0032154038991799106), np.float64(0.0032154038991799106), np.float64(0.0032154038991799106), np.float64(0.0032154038991799106)]\u001b[0m\n",
      "Mean Q (monthly): 0.0031655884291889973\n",
      "Mean π (monthly): 0.00015462720302114174\n",
      "Posterior μ (monthly): [-0.00083187  0.00101711 -0.00055662  0.00089439 -0.00513538 -0.00121117\n",
      "  0.00133384  0.00261361  0.0001018  -0.0012124   0.00012491 -0.00104505]\n",
      "Posterior μ (annual): [-0.00998247  0.01220528 -0.00667946  0.01073271 -0.06162457 -0.01453407\n",
      "  0.0160061   0.03136335  0.00122161 -0.01454874  0.0014989  -0.01254056]\n"
     ]
    }
   ],
   "source": [
    "bl = BlackLittermanOptimizer(risk_free_rate=rf_annual, lambda_mkt=0.10)  # Use λ from above\n",
    "cov = returns.cov()\n",
    "pi = bl.calculate_equilibrium_returns(cov)\n",
    "P, Q, Omega = bl.create_factor_timing_views(exposures, regimes, returns, view_strength=3.0)\n",
    "print('Mean Q (monthly):', np.mean(Q))\n",
    "print('Mean π (monthly):', pi.mean())\n",
    "# Posterior\n",
    "tau_sigma = bl.tau * cov.values\n",
    "M1 = np.linalg.inv(tau_sigma)\n",
    "M2 = P.T @ np.linalg.inv(Omega) @ P\n",
    "M = M1 + M2\n",
    "m1 = M1 @ pi.values\n",
    "m2 = P.T @ np.linalg.inv(Omega) @ Q\n",
    "mu_bl = np.linalg.inv(M) @ (m1 + m2)\n",
    "print('Posterior μ (monthly):', mu_bl)\n",
    "print('Posterior μ (annual):', mu_bl*12)\n"
   ]
  },
  {
   "cell_type": "markdown",
   "metadata": {},
   "source": [
    "## 3. Add a 'grand view' using Monte Carlo mean as a BL view\n",
    "Add a view: 'The equal-weight portfolio will return X% per month.' Show effect."
   ]
  },
  {
   "cell_type": "code",
   "execution_count": 4,
   "metadata": {},
   "outputs": [
    {
     "name": "stdout",
     "output_type": "stream",
     "text": [
      "Posterior μ with grand view (annual): [ 0.02895806  0.04683708  0.02797559  0.04547313 -0.02677143  0.0201681\n",
      "  0.05071998  0.06608159  0.03593005  0.02017794  0.04369731  0.02550707]\n"
     ]
    }
   ],
   "source": [
    "mc_mean = returns.mean(axis=1).mean()\n",
    "grand_P = np.ones((1, len(assets))) / len(assets)\n",
    "grand_Q = np.array([mc_mean])\n",
    "grand_Omega = np.array([[0.0001]])  # Small uncertainty\n",
    "# Combine with previous views\n",
    "P2 = np.vstack([P, grand_P])\n",
    "Q2 = np.concatenate([Q, grand_Q])\n",
    "Omega2 = np.block([\n",
    "    [Omega, np.zeros((Omega.shape[0], 1))],\n",
    "    [np.zeros((1, Omega.shape[0])), grand_Omega]\n",
    "])\n",
    "M1 = np.linalg.inv(tau_sigma)\n",
    "M2 = P2.T @ np.linalg.inv(Omega2) @ P2\n",
    "M = M1 + M2\n",
    "m1 = M1 @ pi.values\n",
    "m2 = P2.T @ np.linalg.inv(Omega2) @ Q2\n",
    "mu_bl2 = np.linalg.inv(M) @ (m1 + m2)\n",
    "print('Posterior μ with grand view (annual):', mu_bl2*12)\n"
   ]
  },
  {
   "cell_type": "markdown",
   "metadata": {},
   "source": [
    "## 4. Relax weight caps\n",
    "Try max_weight=0.4, min_weight=0.0 and show optimizer's preference."
   ]
  },
  {
   "cell_type": "code",
   "execution_count": 5,
   "metadata": {},
   "outputs": [
    {
     "name": "stdout",
     "output_type": "stream",
     "text": [
      "\u001b[32m2025-07-04 18:28:29.893\u001b[0m | \u001b[1mINFO    \u001b[0m | \u001b[36mquantfolio_engine.optimizer.black_litterman\u001b[0m:\u001b[36moptimize_portfolio\u001b[0m:\u001b[36m444\u001b[0m - \u001b[1mStarting Black-Litterman portfolio optimization...\u001b[0m\n",
      "\u001b[32m2025-07-04 18:28:29.893\u001b[0m | \u001b[1mINFO    \u001b[0m | \u001b[36mquantfolio_engine.optimizer.black_litterman\u001b[0m:\u001b[36mestimate_covariance_matrix\u001b[0m:\u001b[36m81\u001b[0m - \u001b[1mEstimating covariance matrix using sample method...\u001b[0m\n",
      "\u001b[32m2025-07-04 18:28:29.894\u001b[0m | \u001b[1mINFO    \u001b[0m | \u001b[36mquantfolio_engine.optimizer.black_litterman\u001b[0m:\u001b[36mestimate_covariance_matrix\u001b[0m:\u001b[36m109\u001b[0m - \u001b[1mCovariance matrix shape: (12, 12)\u001b[0m\n",
      "\u001b[32m2025-07-04 18:28:29.894\u001b[0m | \u001b[1mINFO    \u001b[0m | \u001b[36mquantfolio_engine.optimizer.black_litterman\u001b[0m:\u001b[36mcalculate_equilibrium_returns\u001b[0m:\u001b[36m142\u001b[0m - \u001b[1mMarket cap weights: {'SPY': np.float64(0.08333333333333333), 'TLT': np.float64(0.08333333333333333), 'GLD': np.float64(0.08333333333333333), 'AAPL': np.float64(0.08333333333333333), 'MSFT': np.float64(0.08333333333333333), 'JPM': np.float64(0.08333333333333333), 'UNH': np.float64(0.08333333333333333), 'WMT': np.float64(0.08333333333333333), 'XLE': np.float64(0.08333333333333333), 'BA': np.float64(0.08333333333333333), 'IWM': np.float64(0.08333333333333333), 'EFA': np.float64(0.08333333333333333)}\u001b[0m\n",
      "\u001b[32m2025-07-04 18:28:29.894\u001b[0m | \u001b[1mINFO    \u001b[0m | \u001b[36mquantfolio_engine.optimizer.black_litterman\u001b[0m:\u001b[36mcalculate_equilibrium_returns\u001b[0m:\u001b[36m143\u001b[0m - \u001b[1mLambda market: 0.1\u001b[0m\n",
      "\u001b[32m2025-07-04 18:28:29.894\u001b[0m | \u001b[1mINFO    \u001b[0m | \u001b[36mquantfolio_engine.optimizer.black_litterman\u001b[0m:\u001b[36mcalculate_equilibrium_returns\u001b[0m:\u001b[36m144\u001b[0m - \u001b[1mEquilibrium returns (monthly): {'SPY': 0.00016391536516665098, 'TLT': 2.2722002476780584e-05, 'GLD': 2.010381562853374e-05, 'AAPL': 0.00020361102364882544, 'MSFT': 0.00015509684337050692, 'JPM': 0.0002043634712122172, 'UNH': 0.00011964350326657157, 'WMT': 8.853489463907703e-05, 'XLE': 0.0002236257327056571, 'BA': 0.0003008858228290939, 'IWM': 0.0002029611279144284, 'EFA': 0.00015006283339535814}\u001b[0m\n",
      "\u001b[32m2025-07-04 18:28:29.894\u001b[0m | \u001b[1mINFO    \u001b[0m | \u001b[36mquantfolio_engine.optimizer.black_litterman\u001b[0m:\u001b[36mcalculate_equilibrium_returns\u001b[0m:\u001b[36m145\u001b[0m - \u001b[1mMean equilibrium return: 0.000155\u001b[0m\n",
      "\u001b[32m2025-07-04 18:28:29.894\u001b[0m | \u001b[1mINFO    \u001b[0m | \u001b[36mquantfolio_engine.optimizer.black_litterman\u001b[0m:\u001b[36mcalculate_equilibrium_returns\u001b[0m:\u001b[36m146\u001b[0m - \u001b[1mRisk-free rate (monthly): 0.003750\u001b[0m\n",
      "\u001b[32m2025-07-04 18:28:29.894\u001b[0m | \u001b[1mINFO    \u001b[0m | \u001b[36mquantfolio_engine.optimizer.black_litterman\u001b[0m:\u001b[36mcreate_factor_timing_views\u001b[0m:\u001b[36m170\u001b[0m - \u001b[1mCreating factor timing views...\u001b[0m\n",
      "\u001b[32m2025-07-04 18:28:29.895\u001b[0m | \u001b[34m\u001b[1mDEBUG   \u001b[0m | \u001b[36mquantfolio_engine.optimizer.black_litterman\u001b[0m:\u001b[36mcreate_factor_timing_views\u001b[0m:\u001b[36m185\u001b[0m - \u001b[34m\u001b[1mLatest exposures: SPY_CPIAUCSL     -0.004272\n",
      "SPY_UNRATE       -0.046889\n",
      "SPY_FEDFUNDS     -0.010778\n",
      "SPY_INDPRO        0.030844\n",
      "SPY_GDPC1         0.000000\n",
      "                    ...   \n",
      "EFA_UMCSENT      -0.026476\n",
      "EFA_GS10         -0.133057\n",
      "EFA_M2SL          0.014120\n",
      "EFA_DCOILWTICO    0.048314\n",
      "EFA_^VIX         -0.087354\n",
      "Name: 2025-07-31 00:00:00, Length: 120, dtype: float64\u001b[0m\n",
      "\u001b[32m2025-07-04 18:28:29.895\u001b[0m | \u001b[34m\u001b[1mDEBUG   \u001b[0m | \u001b[36mquantfolio_engine.optimizer.black_litterman\u001b[0m:\u001b[36mcreate_factor_timing_views\u001b[0m:\u001b[36m186\u001b[0m - \u001b[34m\u001b[1mLatest exposures index: Index(['SPY_CPIAUCSL', 'SPY_UNRATE', 'SPY_FEDFUNDS', 'SPY_INDPRO', 'SPY_GDPC1',\n",
      "       'SPY_UMCSENT', 'SPY_GS10', 'SPY_M2SL', 'SPY_DCOILWTICO', 'SPY_^VIX',\n",
      "       ...\n",
      "       'EFA_CPIAUCSL', 'EFA_UNRATE', 'EFA_FEDFUNDS', 'EFA_INDPRO', 'EFA_GDPC1',\n",
      "       'EFA_UMCSENT', 'EFA_GS10', 'EFA_M2SL', 'EFA_DCOILWTICO', 'EFA_^VIX'],\n",
      "      dtype='object', length=120)\u001b[0m\n",
      "\u001b[32m2025-07-04 18:28:29.895\u001b[0m | \u001b[1mINFO    \u001b[0m | \u001b[36mquantfolio_engine.optimizer.black_litterman\u001b[0m:\u001b[36mcreate_factor_timing_views\u001b[0m:\u001b[36m237\u001b[0m - \u001b[1mRegime 0.0: Using view strength multiplier 2.00\u001b[0m\n",
      "\u001b[32m2025-07-04 18:28:29.895\u001b[0m | \u001b[1mINFO    \u001b[0m | \u001b[36mquantfolio_engine.optimizer.black_litterman\u001b[0m:\u001b[36mcreate_factor_timing_views\u001b[0m:\u001b[36m238\u001b[0m - \u001b[1mAdjusted view strength: 3.000\u001b[0m\n",
      "\u001b[32m2025-07-04 18:28:29.908\u001b[0m | \u001b[1mINFO    \u001b[0m | \u001b[36mquantfolio_engine.optimizer.black_litterman\u001b[0m:\u001b[36mcreate_factor_timing_views\u001b[0m:\u001b[36m407\u001b[0m - \u001b[1mCreated 24 factor timing views\u001b[0m\n",
      "\u001b[32m2025-07-04 18:28:29.908\u001b[0m | \u001b[1mINFO    \u001b[0m | \u001b[36mquantfolio_engine.optimizer.black_litterman\u001b[0m:\u001b[36mcreate_factor_timing_views\u001b[0m:\u001b[36m411\u001b[0m - \u001b[1mView returns (Q): [0.0009, 0.0009, 0.0009, 0.0009, 0.0009, 0.0009, 0.0009, 0.0009, 0.0009, np.float64(0.0011933069788198519), np.float64(0.0011933069788198519), np.float64(0.0011933069788198519), np.float64(0.0011933069788198519), np.float64(0.0011933069788198519), np.float64(0.0015687013520538297), np.float64(0.0015687013520538297), np.float64(0.0015687013520538297), np.float64(0.0015687013520538297), np.float64(0.0015687013520538297), np.float64(0.0032154038991799106), np.float64(0.0032154038991799106), np.float64(0.0032154038991799106), np.float64(0.0032154038991799106), np.float64(0.0032154038991799106)]\u001b[0m\n",
      "\u001b[32m2025-07-04 18:28:29.908\u001b[0m | \u001b[1mINFO    \u001b[0m | \u001b[36mquantfolio_engine.optimizer.black_litterman\u001b[0m:\u001b[36mcreate_factor_timing_views\u001b[0m:\u001b[36m412\u001b[0m - \u001b[1mMean view return: 0.001583\u001b[0m\n",
      "\u001b[32m2025-07-04 18:28:29.908\u001b[0m | \u001b[1mINFO    \u001b[0m | \u001b[36mquantfolio_engine.optimizer.black_litterman\u001b[0m:\u001b[36mcreate_factor_timing_views\u001b[0m:\u001b[36m413\u001b[0m - \u001b[1mView uncertainties (Omega diagonal): [0.00045, 0.00045, 0.00045, 0.00045, 0.00045, 0.00045, 0.00045, 0.00045, 0.00045, np.float64(0.0005966534894099259), np.float64(0.0005966534894099259), np.float64(0.0005966534894099259), np.float64(0.0005966534894099259), np.float64(0.0005966534894099259), np.float64(0.0007843506760269149), np.float64(0.0007843506760269149), np.float64(0.0007843506760269149), np.float64(0.0007843506760269149), np.float64(0.0007843506760269149), np.float64(0.0016077019495899553), np.float64(0.0016077019495899553), np.float64(0.0016077019495899553), np.float64(0.0016077019495899553), np.float64(0.0016077019495899553)]\u001b[0m\n",
      "\u001b[32m2025-07-04 18:28:29.908\u001b[0m | \u001b[1mINFO    \u001b[0m | \u001b[36mquantfolio_engine.optimizer.black_litterman\u001b[0m:\u001b[36moptimize_portfolio\u001b[0m:\u001b[36m459\u001b[0m - \u001b[1mCalculating posterior with factor timing views...\u001b[0m\n",
      "\u001b[32m2025-07-04 18:28:29.914\u001b[0m | \u001b[1mINFO    \u001b[0m | \u001b[36mquantfolio_engine.optimizer.black_litterman\u001b[0m:\u001b[36m_optimize_weights\u001b[0m:\u001b[36m587\u001b[0m - \u001b[1mApplying long-only portfolio constraints (no short selling)\u001b[0m\n",
      "\u001b[32m2025-07-04 18:28:29.998\u001b[0m | \u001b[1mINFO    \u001b[0m | \u001b[36mquantfolio_engine.optimizer.black_litterman\u001b[0m:\u001b[36moptimize_portfolio\u001b[0m:\u001b[36m516\u001b[0m - \u001b[1mPortfolio metrics calculation:\u001b[0m\n",
      "\u001b[32m2025-07-04 18:28:29.998\u001b[0m | \u001b[1mINFO    \u001b[0m | \u001b[36mquantfolio_engine.optimizer.black_litterman\u001b[0m:\u001b[36moptimize_portfolio\u001b[0m:\u001b[36m517\u001b[0m - \u001b[1m  Monthly return: 0.000936\u001b[0m\n",
      "\u001b[32m2025-07-04 18:28:29.998\u001b[0m | \u001b[1mINFO    \u001b[0m | \u001b[36mquantfolio_engine.optimizer.black_litterman\u001b[0m:\u001b[36moptimize_portfolio\u001b[0m:\u001b[36m518\u001b[0m - \u001b[1m  Monthly volatility: 0.039815\u001b[0m\n",
      "\u001b[32m2025-07-04 18:28:29.998\u001b[0m | \u001b[1mINFO    \u001b[0m | \u001b[36mquantfolio_engine.optimizer.black_litterman\u001b[0m:\u001b[36moptimize_portfolio\u001b[0m:\u001b[36m519\u001b[0m - \u001b[1m  Annual return: 0.011234\u001b[0m\n",
      "\u001b[32m2025-07-04 18:28:29.998\u001b[0m | \u001b[1mINFO    \u001b[0m | \u001b[36mquantfolio_engine.optimizer.black_litterman\u001b[0m:\u001b[36moptimize_portfolio\u001b[0m:\u001b[36m520\u001b[0m - \u001b[1m  Annual volatility: 0.137924\u001b[0m\n",
      "\u001b[32m2025-07-04 18:28:29.998\u001b[0m | \u001b[1mINFO    \u001b[0m | \u001b[36mquantfolio_engine.optimizer.black_litterman\u001b[0m:\u001b[36moptimize_portfolio\u001b[0m:\u001b[36m521\u001b[0m - \u001b[1m  Risk-free rate: 0.045000\u001b[0m\n",
      "\u001b[32m2025-07-04 18:28:29.998\u001b[0m | \u001b[1mINFO    \u001b[0m | \u001b[36mquantfolio_engine.optimizer.black_litterman\u001b[0m:\u001b[36moptimize_portfolio\u001b[0m:\u001b[36m522\u001b[0m - \u001b[1m  Sharpe ratio: -0.244812\u001b[0m\n",
      "\u001b[32m2025-07-04 18:28:29.998\u001b[0m | \u001b[1mINFO    \u001b[0m | \u001b[36mquantfolio_engine.optimizer.black_litterman\u001b[0m:\u001b[36moptimize_portfolio\u001b[0m:\u001b[36m523\u001b[0m - \u001b[1m  Max drawdown: -0.203798\u001b[0m\n",
      "\u001b[32m2025-07-04 18:28:29.998\u001b[0m | \u001b[1mINFO    \u001b[0m | \u001b[36mquantfolio_engine.optimizer.black_litterman\u001b[0m:\u001b[36moptimize_portfolio\u001b[0m:\u001b[36m524\u001b[0m - \u001b[1m  VaR (95%): -0.050550\u001b[0m\n",
      "\u001b[32m2025-07-04 18:28:29.998\u001b[0m | \u001b[32m\u001b[1mSUCCESS \u001b[0m | \u001b[36mquantfolio_engine.optimizer.black_litterman\u001b[0m:\u001b[36moptimize_portfolio\u001b[0m:\u001b[36m538\u001b[0m - \u001b[32m\u001b[1mPortfolio optimization completed. Sharpe: -0.245\u001b[0m\n",
      "Weights: SPY     1.663051e-09\n",
      "TLT     2.000000e-01\n",
      "GLD     2.761743e-09\n",
      "AAPL    4.485130e-09\n",
      "MSFT    5.787670e-10\n",
      "JPM     1.356750e-09\n",
      "UNH     4.000000e-01\n",
      "WMT     4.000000e-01\n",
      "XLE     4.109543e-09\n",
      "BA      1.397354e-09\n",
      "IWM     2.889475e-09\n",
      "EFA     1.579214e-09\n",
      "dtype: float64\n",
      "Expected return (annual): 0.011234425295412218\n",
      "Sharpe ratio: -0.24481241665288037\n"
     ]
    }
   ],
   "source": [
    "bl = BlackLittermanOptimizer(risk_free_rate=rf_annual, lambda_mkt=0.10)\n",
    "results = bl.optimize_portfolio(\n",
    "    returns_df=returns,\n",
    "    factor_exposures=exposures,\n",
    "    factor_regimes=regimes,\n",
    "    constraints={'max_weight': 0.4, 'min_weight': 0.0}\n",
    ")\n",
    "print('Weights:', results['weights'])\n",
    "print('Expected return (annual):', results['expected_return'])\n",
    "print('Sharpe ratio:', results['sharpe_ratio'])\n"
   ]
  },
  {
   "cell_type": "markdown",
   "metadata": {},
   "source": [
    "## 5. Make rf treatment consistent in both engines\n",
    "Subtract rf in Monte Carlo objective, or set rf=0 in both. Compare Sharpe ratios."
   ]
  },
  {
   "cell_type": "code",
   "execution_count": 6,
   "metadata": {},
   "outputs": [
    {
     "name": "stdout",
     "output_type": "stream",
     "text": [
      "\u001b[32m2025-07-04 18:28:30.002\u001b[0m | \u001b[1mINFO    \u001b[0m | \u001b[36mquantfolio_engine.optimizer.monte_carlo\u001b[0m:\u001b[36mgenerate_scenarios\u001b[0m:\u001b[36m79\u001b[0m - \u001b[1mGenerating 1000 Monte Carlo scenarios...\u001b[0m\n",
      "\u001b[32m2025-07-04 18:28:30.004\u001b[0m | \u001b[1mINFO    \u001b[0m | \u001b[36mquantfolio_engine.optimizer.monte_carlo\u001b[0m:\u001b[36mgenerate_scenarios\u001b[0m:\u001b[36m95\u001b[0m - \u001b[1mGenerated scenarios with shape: (1000, 12, 12)\u001b[0m\n",
      "\u001b[32m2025-07-04 18:28:30.004\u001b[0m | \u001b[1mINFO    \u001b[0m | \u001b[36mquantfolio_engine.optimizer.monte_carlo\u001b[0m:\u001b[36moptimize_with_constraints\u001b[0m:\u001b[36m121\u001b[0m - \u001b[1mOptimizing portfolio with Monte Carlo constraints...\u001b[0m\n",
      "\u001b[32m2025-07-04 18:28:30.005\u001b[0m | \u001b[1mINFO    \u001b[0m | \u001b[36mquantfolio_engine.optimizer.monte_carlo\u001b[0m:\u001b[36moptimize_with_constraints\u001b[0m:\u001b[36m136\u001b[0m - \u001b[1mAnnualizing mean and covariance with factor 12.00\u001b[0m\n",
      "\u001b[32m2025-07-04 18:28:30.045\u001b[0m | \u001b[32m\u001b[1mSUCCESS \u001b[0m | \u001b[36mquantfolio_engine.optimizer.monte_carlo\u001b[0m:\u001b[36moptimize_with_constraints\u001b[0m:\u001b[36m219\u001b[0m - \u001b[32m\u001b[1mMonte Carlo optimization completed. Sharpe: 1.118\u001b[0m\n",
      "Monte Carlo expected return (annual): 0.2524463511740621\n",
      "Monte Carlo Sharpe ratio: 1.118399274498926\n"
     ]
    }
   ],
   "source": [
    "# Monte Carlo with rf subtracted\n",
    "mc = MonteCarloOptimizer(risk_free_rate=rf_annual)\n",
    "mc_results = mc.optimize_with_constraints(\n",
    "    scenarios=mc.generate_scenarios(returns),\n",
    "    constraints={'max_weight': 0.4, 'min_weight': 0.0}\n",
    ")\n",
    "print('Monte Carlo expected return (annual):', mc_results['expected_return'])\n",
    "print('Monte Carlo Sharpe ratio:', mc_results['sharpe_ratio'])\n"
   ]
  },
  {
   "cell_type": "markdown",
   "metadata": {},
   "source": [
    "## 6. Final comparison: Aligned assumptions\n",
    "Show that, after aligning λ, rf, views, and constraints, the two engines converge to similar risk-adjusted performance."
   ]
  },
  {
   "cell_type": "code",
   "execution_count": 7,
   "metadata": {},
   "outputs": [
    {
     "name": "stdout",
     "output_type": "stream",
     "text": [
      "Black-Litterman Sharpe: -0.24481241665288037\n",
      "Monte Carlo Sharpe: 1.118399274498926\n"
     ]
    }
   ],
   "source": [
    "print('Black-Litterman Sharpe:', results['sharpe_ratio'])\n",
    "print('Monte Carlo Sharpe:', mc_results['sharpe_ratio'])\n"
   ]
  }
 ],
 "metadata": {
  "kernelspec": {
   "display_name": "quantfolio-engine",
   "language": "python",
   "name": "python3"
  },
  "language_info": {
   "codemirror_mode": {
    "name": "ipython",
    "version": 3
   },
   "file_extension": ".py",
   "mimetype": "text/x-python",
   "name": "python",
   "nbconvert_exporter": "python",
   "pygments_lexer": "ipython3",
   "version": "3.11.13"
  }
 },
 "nbformat": 4,
 "nbformat_minor": 2
}
