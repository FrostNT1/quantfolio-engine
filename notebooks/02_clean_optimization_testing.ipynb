{
 "cells": [
  {
   "cell_type": "markdown",
   "metadata": {},
   "source": [
    "# Clean Portfolio Optimization Testing\n",
    "\n",
    "This notebook tests both Monte Carlo and Black-Litterman optimizers with properly aligned data."
   ]
  },
  {
   "cell_type": "code",
   "execution_count": 1,
   "metadata": {},
   "outputs": [
    {
     "name": "stdout",
     "output_type": "stream",
     "text": [
      "Clean Portfolio Optimization Testing\n"
     ]
    }
   ],
   "source": [
    "import numpy as np\n",
    "import pandas as pd\n",
    "import matplotlib.pyplot as plt\n",
    "import seaborn as sns\n",
    "from datetime import datetime, timedelta\n",
    "\n",
    "# Set random seed for reproducibility\n",
    "np.random.seed(42)\n",
    "print(\"Clean Portfolio Optimization Testing\")"
   ]
  },
  {
   "cell_type": "markdown",
   "metadata": {},
   "source": [
    "## 1. Generate Clean Test Data"
   ]
  },
  {
   "cell_type": "code",
   "execution_count": 2,
   "metadata": {},
   "outputs": [
    {
     "name": "stdout",
     "output_type": "stream",
     "text": [
      "Data dimensions:\n",
      "- Periods: 120\n",
      "- Assets: 12\n",
      "- Factors: 6\n",
      "- Regimes: 4\n"
     ]
    }
   ],
   "source": [
    "# Generate clean test data with proper alignment\n",
    "n_periods = 120\n",
    "n_assets = 12\n",
    "n_factors = 6\n",
    "n_regimes = 4\n",
    "\n",
    "# Create date range\n",
    "start_date = datetime(2015, 1, 31)\n",
    "dates = [start_date + timedelta(days=30*i) for i in range(n_periods)]\n",
    "dates = pd.to_datetime(dates)\n",
    "\n",
    "# Asset universe (matching config)\n",
    "assets = ['SPY', 'TLT', 'GLD', 'AAPL', 'MSFT', 'JPM', 'UNH', 'WMT', 'XLE', 'BA', 'IWM', 'EFA']\n",
    "\n",
    "# Factor names\n",
    "factor_names = ['GDP_Growth', 'Inflation', 'Interest_Rates', 'Unemployment', 'Oil_Prices', 'VIX']\n",
    "\n",
    "# Regime names\n",
    "regime_names = ['Bull_Market', 'Bear_Market', 'Sideways', 'Crisis']\n",
    "\n",
    "print(f\"Data dimensions:\")\n",
    "print(f\"- Periods: {n_periods}\")\n",
    "print(f\"- Assets: {n_assets}\")\n",
    "print(f\"- Factors: {n_factors}\")\n",
    "print(f\"- Regimes: {n_regimes}\")"
   ]
  },
  {
   "cell_type": "code",
   "execution_count": 3,
   "metadata": {},
   "outputs": [
    {
     "name": "stdout",
     "output_type": "stream",
     "text": [
      "Returns data shape: (120, 12)\n",
      "\n",
      "Sample returns:\n",
      "               SPY     TLT     GLD    AAPL    MSFT     JPM     UNH     WMT  \\\n",
      "2015-01-31  0.0298  0.0307 -0.0391  0.0500  0.0019  0.0460  0.0234  0.0046   \n",
      "2015-03-02  0.0023 -0.0282  0.0000  0.1231 -0.0507 -0.0413 -0.0698  0.0465   \n",
      "2015-04-01  0.0364  0.0519  0.0358  0.0047 -0.0920  0.0519 -0.0531 -0.0573   \n",
      "2015-05-01  0.0743 -0.0452  0.0567  0.0415  0.0229  0.0771  0.0435  0.0296   \n",
      "2015-05-31 -0.0018  0.0237 -0.0626  0.0623 -0.0380  0.0281  0.0171  0.0171   \n",
      "\n",
      "               XLE      BA     IWM     EFA  \n",
      "2015-01-31  0.0434 -0.0185  0.0132  0.0076  \n",
      "2015-03-02  0.0791 -0.0185 -0.0156  0.0295  \n",
      "2015-04-01  0.0202 -0.0165  0.0130  0.0017  \n",
      "2015-05-01  0.0468  0.1565  0.0349  0.0275  \n",
      "2015-05-31  0.0053  0.0342  0.0092  0.0080  \n"
     ]
    }
   ],
   "source": [
    "# 1. Generate returns data\n",
    "annual_returns = [0.10, 0.04, 0.08, 0.15, 0.12, 0.08, 0.11, 0.09, 0.12, 0.08, 0.08, 0.06]\n",
    "annual_vols = [0.15, 0.12, 0.20, 0.25, 0.22, 0.18, 0.16, 0.20, 0.18, 0.25, 0.18, 0.16]\n",
    "\n",
    "# Generate monthly returns with realistic correlations\n",
    "returns_data = np.zeros((n_periods, n_assets))\n",
    "for i, (ret, vol) in enumerate(zip(annual_returns, annual_vols)):\n",
    "    monthly_ret = ret / 12\n",
    "    monthly_vol = vol / np.sqrt(12)\n",
    "    returns_data[:, i] = np.random.normal(monthly_ret, monthly_vol, n_periods)\n",
    "\n",
    "returns_df = pd.DataFrame(returns_data, index=dates, columns=assets)\n",
    "print(\"Returns data shape:\", returns_df.shape)\n",
    "print(\"\\nSample returns:\")\n",
    "print(returns_df.head().round(4))"
   ]
  },
  {
   "cell_type": "code",
   "execution_count": 4,
   "metadata": {},
   "outputs": [
    {
     "name": "stdout",
     "output_type": "stream",
     "text": [
      "Factor exposures shape: (120, 6)\n",
      "\n",
      "Sample factor exposures:\n",
      "            GDP_Growth  Inflation  Interest_Rates  Unemployment  Oil_Prices  \\\n",
      "2015-01-31       0.699      0.352          -0.246        -0.389       0.520   \n",
      "2015-03-02       0.341      0.176           0.071         0.006       0.493   \n",
      "2015-04-01       0.572      0.781          -0.130        -0.528       0.626   \n",
      "2015-05-01       0.887      0.202          -0.342        -0.367       0.337   \n",
      "2015-05-31       0.326      0.177           0.201         0.118       0.041   \n",
      "\n",
      "              VIX  \n",
      "2015-01-31 -0.195  \n",
      "2015-03-02  0.511  \n",
      "2015-04-01  0.114  \n",
      "2015-05-01 -0.255  \n",
      "2015-05-31  0.133  \n"
     ]
    }
   ],
   "source": [
    "# 2. Generate factor exposures (time-series)\n",
    "factor_exposures = np.random.normal(0, 0.3, (n_periods, n_factors))\n",
    "\n",
    "# Add realistic trends and patterns\n",
    "factor_exposures[:, 0] += 0.5  # GDP growth trend\n",
    "factor_exposures[:, 2] += -0.3  # Interest rate sensitivity\n",
    "factor_exposures[:, 4] += 0.4   # Oil price sensitivity\n",
    "\n",
    "factor_exposures_df = pd.DataFrame(factor_exposures, index=dates, columns=factor_names)\n",
    "print(\"Factor exposures shape:\", factor_exposures_df.shape)\n",
    "print(\"\\nSample factor exposures:\")\n",
    "print(factor_exposures_df.head().round(3))"
   ]
  },
  {
   "cell_type": "code",
   "execution_count": 5,
   "metadata": {},
   "outputs": [
    {
     "name": "stdout",
     "output_type": "stream",
     "text": [
      "Regime data shape: (120, 5)\n",
      "Regime columns: ['regime_0_prob', 'regime_1_prob', 'regime_2_prob', 'regime_3_prob', 'regime']\n",
      "\n",
      "Sample regime probabilities:\n",
      "            regime_0_prob  regime_1_prob  regime_2_prob  regime_3_prob  regime\n",
      "2015-01-31            0.8           0.05            0.1           0.05       0\n",
      "2015-03-02            0.8           0.05            0.1           0.05       0\n",
      "2015-04-01            0.8           0.05            0.1           0.05       0\n",
      "2015-05-01            0.8           0.05            0.1           0.05       0\n",
      "2015-05-31            0.8           0.05            0.1           0.05       0\n"
     ]
    }
   ],
   "source": [
    "# 3. Generate regime data in the format expected by Monte Carlo (regime_0_prob, regime_1_prob, etc.)\n",
    "regime_data = np.zeros((n_periods, n_regimes))\n",
    "\n",
    "# Create regime transitions\n",
    "for i in range(n_periods):\n",
    "    if i < 30:  # First 30 periods: Regime 0 (Bull market)\n",
    "        regime_data[i] = [0.8, 0.05, 0.1, 0.05]\n",
    "    elif i < 60:  # Next 30 periods: Regime 1 (Bear market)\n",
    "        regime_data[i] = [0.1, 0.7, 0.15, 0.05]\n",
    "    elif i < 90:  # Next 30 periods: Regime 2 (Sideways)\n",
    "        regime_data[i] = [0.2, 0.1, 0.6, 0.1]\n",
    "    else:  # Last 30 periods: Regime 3 (Crisis)\n",
    "        regime_data[i] = [0.05, 0.2, 0.1, 0.65]\n",
    "\n",
    "# Create DataFrame with numbered regime columns (like the real system produces)\n",
    "regime_columns = [f'regime_{i}_prob' for i in range(n_regimes)]\n",
    "regime_df = pd.DataFrame(regime_data, index=dates, columns=regime_columns)\n",
    "\n",
    "# Add regime column with integer values (dominant regime)\n",
    "regime_df['regime'] = np.argmax(regime_data, axis=1)\n",
    "\n",
    "print(\"Regime data shape:\", regime_df.shape)\n",
    "print(\"Regime columns:\", list(regime_df.columns))\n",
    "print(\"\\nSample regime probabilities:\")\n",
    "print(regime_df.head().round(3))"
   ]
  },
  {
   "cell_type": "code",
   "execution_count": 6,
   "metadata": {},
   "outputs": [
    {
     "name": "stdout",
     "output_type": "stream",
     "text": [
      "Sentiment data shape: (120, 8)\n",
      "\n",
      "Sample sentiment data:\n",
      "            Earnings_Sentiment  Fed_Sentiment  Growth_Sentiment  \\\n",
      "2015-01-31              -0.333          0.074             0.149   \n",
      "2015-03-02              -0.070          0.140             0.296   \n",
      "2015-04-01              -0.482          0.055             0.607   \n",
      "2015-05-01              -0.664          0.460            -0.427   \n",
      "2015-05-31               0.607         -0.409             0.057   \n",
      "\n",
      "            Inflation_Sentiment  Recession_Sentiment  Oil_Sentiment  \\\n",
      "2015-01-31                0.342                0.474         -0.305   \n",
      "2015-03-02               -0.023               -0.096          0.046   \n",
      "2015-04-01                0.002               -0.057         -0.107   \n",
      "2015-05-01               -0.080               -0.129          0.177   \n",
      "2015-05-31               -0.199                0.128          0.006   \n",
      "\n",
      "            Tech_Sentiment  Financial_Sentiment  \n",
      "2015-01-31          -0.243               -0.377  \n",
      "2015-03-02          -0.251                0.627  \n",
      "2015-04-01          -0.054                0.412  \n",
      "2015-05-01          -0.479                0.139  \n",
      "2015-05-31          -0.192                0.146  \n"
     ]
    }
   ],
   "source": [
    "# 4. Generate sentiment data\n",
    "sentiment_names = ['Earnings_Sentiment', 'Fed_Sentiment', 'Growth_Sentiment', 'Inflation_Sentiment', \n",
    "                   'Recession_Sentiment', 'Oil_Sentiment', 'Tech_Sentiment', 'Financial_Sentiment']\n",
    "\n",
    "sentiment_data = np.random.normal(0, 0.3, (n_periods, len(sentiment_names)))\n",
    "sentiment_df = pd.DataFrame(sentiment_data, index=dates, columns=sentiment_names)\n",
    "\n",
    "print(\"Sentiment data shape:\", sentiment_df.shape)\n",
    "print(\"\\nSample sentiment data:\")\n",
    "print(sentiment_df.head().round(3))"
   ]
  },
  {
   "cell_type": "code",
   "execution_count": 7,
   "metadata": {},
   "outputs": [
    {
     "name": "stdout",
     "output_type": "stream",
     "text": [
      "Macro data shape: (120, 6)\n",
      "\n",
      "Sample macro data:\n",
      "            GDP_Growth  Inflation  Interest_Rates  Unemployment  Oil_Prices  \\\n",
      "2015-01-31      -0.242     -0.306           0.246        -0.179      -0.070   \n",
      "2015-03-02      -0.955      0.663           0.045        -0.206      -0.045   \n",
      "2015-04-01      -0.866      0.756           0.037         0.222       0.476   \n",
      "2015-05-01       0.237     -0.121           0.449        -1.064      -0.050   \n",
      "2015-05-31       0.216      0.252          -0.320        -0.356      -0.055   \n",
      "\n",
      "              VIX  \n",
      "2015-01-31  0.370  \n",
      "2015-03-02 -0.019  \n",
      "2015-04-01 -0.511  \n",
      "2015-05-01 -0.301  \n",
      "2015-05-31 -0.448  \n"
     ]
    }
   ],
   "source": [
    "# 5. Generate macro data\n",
    "macro_data = np.random.normal(0, 0.5, (n_periods, n_factors))\n",
    "\n",
    "# Add realistic trends\n",
    "macro_data[:, 1] += np.linspace(0, 0.5, n_periods)  # Inflation trend\n",
    "macro_data[:, 2] += np.linspace(0, 1.0, n_periods)  # Interest rate trend\n",
    "\n",
    "macro_df = pd.DataFrame(macro_data, index=dates, columns=factor_names)\n",
    "print(\"Macro data shape:\", macro_df.shape)\n",
    "print(\"\\nSample macro data:\")\n",
    "print(macro_df.head().round(3))"
   ]
  },
  {
   "cell_type": "markdown",
   "metadata": {},
   "source": [
    "## 2. Test Portfolio Optimization"
   ]
  },
  {
   "cell_type": "code",
   "execution_count": 8,
   "metadata": {},
   "outputs": [
    {
     "name": "stderr",
     "output_type": "stream",
     "text": [
      "\u001b[32m2025-07-04 17:11:52.050\u001b[0m | \u001b[1mINFO    \u001b[0m | \u001b[36mquantfolio_engine.config\u001b[0m:\u001b[36m<module>\u001b[0m:\u001b[36m12\u001b[0m - \u001b[1mPROJ_ROOT path is: /Users/dominusdeorum/Documents/Vanderbilt/Projects/quantfolio-engine\u001b[0m\n"
     ]
    },
    {
     "name": "stdout",
     "output_type": "stream",
     "text": [
      "Data shapes:\n",
      "Returns: (120, 12)\n",
      "Factor exposures: (120, 6)\n",
      "Factor regimes: (120, 5)\n",
      "Sentiment: (120, 8)\n",
      "Macro: (120, 6)\n",
      "\n",
      "Date alignment check:\n",
      "Returns dates: 2015-01-31 00:00:00 to 2024-11-09 00:00:00\n",
      "Factor exposures dates: 2015-01-31 00:00:00 to 2024-11-09 00:00:00\n",
      "Regime dates: 2015-01-31 00:00:00 to 2024-11-09 00:00:00\n"
     ]
    }
   ],
   "source": [
    "# Import optimization modules\n",
    "import sys\n",
    "sys.path.append('..')\n",
    "\n",
    "from quantfolio_engine.optimizer.portfolio_engine import PortfolioOptimizationEngine\n",
    "\n",
    "# Create data dictionary\n",
    "data = {\n",
    "    'returns': returns_df,\n",
    "    'factor_exposures': factor_exposures_df,\n",
    "    'factor_regimes': regime_df,\n",
    "    'sentiment': sentiment_df,\n",
    "    'macro': macro_df\n",
    "}\n",
    "\n",
    "print(\"Data shapes:\")\n",
    "print(f\"Returns: {data['returns'].shape}\")\n",
    "print(f\"Factor exposures: {data['factor_exposures'].shape}\")\n",
    "print(f\"Factor regimes: {data['factor_regimes'].shape}\")\n",
    "print(f\"Sentiment: {data['sentiment'].shape}\")\n",
    "print(f\"Macro: {data['macro'].shape}\")\n",
    "\n",
    "# Verify date alignment\n",
    "print(\"\\nDate alignment check:\")\n",
    "print(f\"Returns dates: {data['returns'].index[0]} to {data['returns'].index[-1]}\")\n",
    "print(f\"Factor exposures dates: {data['factor_exposures'].index[0]} to {data['factor_exposures'].index[-1]}\")\n",
    "print(f\"Regime dates: {data['factor_regimes'].index[0]} to {data['factor_regimes'].index[-1]}\")"
   ]
  },
  {
   "cell_type": "code",
   "execution_count": 9,
   "metadata": {},
   "outputs": [
    {
     "name": "stdout",
     "output_type": "stream",
     "text": [
      "Testing Monte Carlo optimization...\n",
      "\u001b[32m2025-07-04 17:11:52.324\u001b[0m | \u001b[1mINFO    \u001b[0m | \u001b[36mquantfolio_engine.optimizer.portfolio_engine\u001b[0m:\u001b[36moptimize_portfolio\u001b[0m:\u001b[36m177\u001b[0m - \u001b[1mStarting portfolio optimization using monte_carlo method...\u001b[0m\n",
      "\u001b[32m2025-07-04 17:11:52.340\u001b[0m | \u001b[1mINFO    \u001b[0m | \u001b[36mquantfolio_engine.optimizer.portfolio_engine\u001b[0m:\u001b[36m_optimize_monte_carlo\u001b[0m:\u001b[36m241\u001b[0m - \u001b[1mRunning Monte Carlo optimization...\u001b[0m\n",
      "\u001b[32m2025-07-04 17:11:52.342\u001b[0m | \u001b[1mINFO    \u001b[0m | \u001b[36mquantfolio_engine.optimizer.monte_carlo\u001b[0m:\u001b[36mgenerate_regime_scenarios\u001b[0m:\u001b[36m78\u001b[0m - \u001b[1mGenerating 1000 Monte Carlo scenarios...\u001b[0m\n",
      "\u001b[32m2025-07-04 17:11:52.342\u001b[0m | \u001b[1mINFO    \u001b[0m | \u001b[36mquantfolio_engine.optimizer.monte_carlo\u001b[0m:\u001b[36mgenerate_regime_scenarios\u001b[0m:\u001b[36m87\u001b[0m - \u001b[1mDEBUG: Macro data shape: (120, 6)\u001b[0m\n",
      "\u001b[32m2025-07-04 17:11:52.342\u001b[0m | \u001b[1mINFO    \u001b[0m | \u001b[36mquantfolio_engine.optimizer.monte_carlo\u001b[0m:\u001b[36mgenerate_regime_scenarios\u001b[0m:\u001b[36m88\u001b[0m - \u001b[1mDEBUG: Macro data columns: ['GDP_Growth', 'Inflation', 'Interest_Rates', 'Unemployment', 'Oil_Prices', 'VIX']\u001b[0m\n",
      "\u001b[32m2025-07-04 17:11:52.342\u001b[0m | \u001b[1mINFO    \u001b[0m | \u001b[36mquantfolio_engine.optimizer.monte_carlo\u001b[0m:\u001b[36mgenerate_regime_scenarios\u001b[0m:\u001b[36m89\u001b[0m - \u001b[1mDEBUG: Macro data empty: False\u001b[0m\n",
      "\u001b[32m2025-07-04 17:11:52.342\u001b[0m | \u001b[33m\u001b[1mWARNING \u001b[0m | \u001b[36mquantfolio_engine.optimizer.monte_carlo\u001b[0m:\u001b[36mgenerate_regime_scenarios\u001b[0m:\u001b[36m91\u001b[0m - \u001b[33m\u001b[1mmacro_data provided but not used in current implementation\u001b[0m\n",
      "\u001b[32m2025-07-04 17:11:52.342\u001b[0m | \u001b[1mINFO    \u001b[0m | \u001b[36mquantfolio_engine.optimizer.monte_carlo\u001b[0m:\u001b[36mgenerate_regime_scenarios\u001b[0m:\u001b[36m92\u001b[0m - \u001b[1mDEBUG: Macro data sample:\u001b[0m\n",
      "\u001b[32m2025-07-04 17:11:52.343\u001b[0m | \u001b[1mINFO    \u001b[0m | \u001b[36mquantfolio_engine.optimizer.monte_carlo\u001b[0m:\u001b[36mgenerate_regime_scenarios\u001b[0m:\u001b[36m93\u001b[0m - \u001b[1mDEBUG:             GDP_Growth  Inflation  Interest_Rates  Unemployment  Oil_Prices  \\\n",
      "2015-01-31   -0.241781  -0.306083        0.245604     -0.179015   -0.069699   \n",
      "2015-03-02   -0.954678   0.663353        0.044744     -0.205747   -0.044617   \n",
      "2015-04-01   -0.865601   0.755872        0.037470      0.221501    0.475775   \n",
      "2015-05-01    0.236736  -0.121216        0.448595     -1.063614   -0.049547   \n",
      "2015-05-31    0.216131   0.251829       -0.320200     -0.356087   -0.055333   \n",
      "\n",
      "                 VIX  \n",
      "2015-01-31  0.369827  \n",
      "2015-03-02 -0.018785  \n",
      "2015-04-01 -0.510581  \n",
      "2015-05-01 -0.301410  \n",
      "2015-05-31 -0.448321  \u001b[0m\n",
      "\u001b[32m2025-07-04 17:11:52.344\u001b[0m | \u001b[1mINFO    \u001b[0m | \u001b[36mquantfolio_engine.optimizer.monte_carlo\u001b[0m:\u001b[36m_calculate_regime_parameters\u001b[0m:\u001b[36m157\u001b[0m - \u001b[1mDEBUG: Regime data shape: (120, 5)\u001b[0m\n",
      "\u001b[32m2025-07-04 17:11:52.344\u001b[0m | \u001b[1mINFO    \u001b[0m | \u001b[36mquantfolio_engine.optimizer.monte_carlo\u001b[0m:\u001b[36m_calculate_regime_parameters\u001b[0m:\u001b[36m158\u001b[0m - \u001b[1mDEBUG: Regime columns: ['regime_0_prob', 'regime_1_prob', 'regime_2_prob', 'regime_3_prob', 'regime']\u001b[0m\n",
      "\u001b[32m2025-07-04 17:11:52.344\u001b[0m | \u001b[1mINFO    \u001b[0m | \u001b[36mquantfolio_engine.optimizer.monte_carlo\u001b[0m:\u001b[36m_calculate_regime_parameters\u001b[0m:\u001b[36m159\u001b[0m - \u001b[1mDEBUG: Regime data sample:\u001b[0m\n",
      "\u001b[32m2025-07-04 17:11:52.344\u001b[0m | \u001b[1mINFO    \u001b[0m | \u001b[36mquantfolio_engine.optimizer.monte_carlo\u001b[0m:\u001b[36m_calculate_regime_parameters\u001b[0m:\u001b[36m160\u001b[0m - \u001b[1mDEBUG:             regime_0_prob  regime_1_prob  regime_2_prob  regime_3_prob  regime\n",
      "2015-01-31            0.8           0.05            0.1           0.05       0\n",
      "2015-03-02            0.8           0.05            0.1           0.05       0\n",
      "2015-04-01            0.8           0.05            0.1           0.05       0\n",
      "2015-05-01            0.8           0.05            0.1           0.05       0\n",
      "2015-05-31            0.8           0.05            0.1           0.05       0\u001b[0m\n",
      "\u001b[32m2025-07-04 17:11:52.344\u001b[0m | \u001b[1mINFO    \u001b[0m | \u001b[36mquantfolio_engine.optimizer.monte_carlo\u001b[0m:\u001b[36m_calculate_regime_parameters\u001b[0m:\u001b[36m161\u001b[0m - \u001b[1mDEBUG: Common dates count: 120\u001b[0m\n",
      "\u001b[32m2025-07-04 17:11:52.344\u001b[0m | \u001b[1mINFO    \u001b[0m | \u001b[36mquantfolio_engine.optimizer.monte_carlo\u001b[0m:\u001b[36m_calculate_regime_parameters\u001b[0m:\u001b[36m167\u001b[0m - \u001b[1mDEBUG: Found regime probability columns: ['regime_0_prob', 'regime_1_prob', 'regime_2_prob', 'regime_3_prob']\u001b[0m\n",
      "\u001b[32m2025-07-04 17:11:52.344\u001b[0m | \u001b[1mINFO    \u001b[0m | \u001b[36mquantfolio_engine.optimizer.monte_carlo\u001b[0m:\u001b[36m_calculate_regime_parameters\u001b[0m:\u001b[36m172\u001b[0m - \u001b[1mDEBUG: Processing 4 regimes\u001b[0m\n",
      "\u001b[32m2025-07-04 17:11:52.345\u001b[0m | \u001b[1mINFO    \u001b[0m | \u001b[36mquantfolio_engine.optimizer.monte_carlo\u001b[0m:\u001b[36m_calculate_regime_parameters\u001b[0m:\u001b[36m179\u001b[0m - \u001b[1mDEBUG: Regime 0 mask sum: 30\u001b[0m\n",
      "\u001b[32m2025-07-04 17:11:52.345\u001b[0m | \u001b[1mINFO    \u001b[0m | \u001b[36mquantfolio_engine.optimizer.monte_carlo\u001b[0m:\u001b[36m_calculate_regime_parameters\u001b[0m:\u001b[36m198\u001b[0m - \u001b[1mRegime 0: 30 periods, freq: 0.250\u001b[0m\n",
      "\u001b[32m2025-07-04 17:11:52.345\u001b[0m | \u001b[1mINFO    \u001b[0m | \u001b[36mquantfolio_engine.optimizer.monte_carlo\u001b[0m:\u001b[36m_calculate_regime_parameters\u001b[0m:\u001b[36m179\u001b[0m - \u001b[1mDEBUG: Regime 1 mask sum: 30\u001b[0m\n",
      "\u001b[32m2025-07-04 17:11:52.345\u001b[0m | \u001b[1mINFO    \u001b[0m | \u001b[36mquantfolio_engine.optimizer.monte_carlo\u001b[0m:\u001b[36m_calculate_regime_parameters\u001b[0m:\u001b[36m198\u001b[0m - \u001b[1mRegime 1: 30 periods, freq: 0.250\u001b[0m\n",
      "\u001b[32m2025-07-04 17:11:52.345\u001b[0m | \u001b[1mINFO    \u001b[0m | \u001b[36mquantfolio_engine.optimizer.monte_carlo\u001b[0m:\u001b[36m_calculate_regime_parameters\u001b[0m:\u001b[36m179\u001b[0m - \u001b[1mDEBUG: Regime 2 mask sum: 30\u001b[0m\n",
      "\u001b[32m2025-07-04 17:11:52.346\u001b[0m | \u001b[1mINFO    \u001b[0m | \u001b[36mquantfolio_engine.optimizer.monte_carlo\u001b[0m:\u001b[36m_calculate_regime_parameters\u001b[0m:\u001b[36m198\u001b[0m - \u001b[1mRegime 2: 30 periods, freq: 0.250\u001b[0m\n",
      "\u001b[32m2025-07-04 17:11:52.346\u001b[0m | \u001b[1mINFO    \u001b[0m | \u001b[36mquantfolio_engine.optimizer.monte_carlo\u001b[0m:\u001b[36m_calculate_regime_parameters\u001b[0m:\u001b[36m179\u001b[0m - \u001b[1mDEBUG: Regime 3 mask sum: 30\u001b[0m\n",
      "\u001b[32m2025-07-04 17:11:52.346\u001b[0m | \u001b[1mINFO    \u001b[0m | \u001b[36mquantfolio_engine.optimizer.monte_carlo\u001b[0m:\u001b[36m_calculate_regime_parameters\u001b[0m:\u001b[36m198\u001b[0m - \u001b[1mRegime 3: 30 periods, freq: 0.250\u001b[0m\n",
      "\u001b[32m2025-07-04 17:11:52.346\u001b[0m | \u001b[1mINFO    \u001b[0m | \u001b[36mquantfolio_engine.optimizer.monte_carlo\u001b[0m:\u001b[36mgenerate_regime_scenarios\u001b[0m:\u001b[36m102\u001b[0m - \u001b[1mDEBUG: Generating scenarios for 4 regimes: ['regime_0', 'regime_1', 'regime_2', 'regime_3']\u001b[0m\n",
      "\u001b[32m2025-07-04 17:11:52.346\u001b[0m | \u001b[1mINFO    \u001b[0m | \u001b[36mquantfolio_engine.optimizer.monte_carlo\u001b[0m:\u001b[36mgenerate_regime_scenarios\u001b[0m:\u001b[36m108\u001b[0m - \u001b[1mDEBUG: Generating scenarios for regime regime_0\u001b[0m\n",
      "\u001b[32m2025-07-04 17:11:52.346\u001b[0m | \u001b[1mINFO    \u001b[0m | \u001b[36mquantfolio_engine.optimizer.monte_carlo\u001b[0m:\u001b[36mgenerate_regime_scenarios\u001b[0m:\u001b[36m109\u001b[0m - \u001b[1mDEBUG: Regime regime_0 mean shape: (12,)\u001b[0m\n",
      "\u001b[32m2025-07-04 17:11:52.346\u001b[0m | \u001b[1mINFO    \u001b[0m | \u001b[36mquantfolio_engine.optimizer.monte_carlo\u001b[0m:\u001b[36mgenerate_regime_scenarios\u001b[0m:\u001b[36m110\u001b[0m - \u001b[1mDEBUG: Regime regime_0 covariance shape: (12, 12)\u001b[0m\n",
      "\u001b[32m2025-07-04 17:11:52.349\u001b[0m | \u001b[1mINFO    \u001b[0m | \u001b[36mquantfolio_engine.optimizer.monte_carlo\u001b[0m:\u001b[36mgenerate_regime_scenarios\u001b[0m:\u001b[36m118\u001b[0m - \u001b[1mDEBUG: Generated scenarios for regime regime_0 with shape: (1000, 12, 12)\u001b[0m\n",
      "\u001b[32m2025-07-04 17:11:52.349\u001b[0m | \u001b[1mINFO    \u001b[0m | \u001b[36mquantfolio_engine.optimizer.monte_carlo\u001b[0m:\u001b[36mgenerate_regime_scenarios\u001b[0m:\u001b[36m108\u001b[0m - \u001b[1mDEBUG: Generating scenarios for regime regime_1\u001b[0m\n",
      "\u001b[32m2025-07-04 17:11:52.349\u001b[0m | \u001b[1mINFO    \u001b[0m | \u001b[36mquantfolio_engine.optimizer.monte_carlo\u001b[0m:\u001b[36mgenerate_regime_scenarios\u001b[0m:\u001b[36m109\u001b[0m - \u001b[1mDEBUG: Regime regime_1 mean shape: (12,)\u001b[0m\n",
      "\u001b[32m2025-07-04 17:11:52.349\u001b[0m | \u001b[1mINFO    \u001b[0m | \u001b[36mquantfolio_engine.optimizer.monte_carlo\u001b[0m:\u001b[36mgenerate_regime_scenarios\u001b[0m:\u001b[36m110\u001b[0m - \u001b[1mDEBUG: Regime regime_1 covariance shape: (12, 12)\u001b[0m\n",
      "\u001b[32m2025-07-04 17:11:52.351\u001b[0m | \u001b[1mINFO    \u001b[0m | \u001b[36mquantfolio_engine.optimizer.monte_carlo\u001b[0m:\u001b[36mgenerate_regime_scenarios\u001b[0m:\u001b[36m118\u001b[0m - \u001b[1mDEBUG: Generated scenarios for regime regime_1 with shape: (1000, 12, 12)\u001b[0m\n",
      "\u001b[32m2025-07-04 17:11:52.351\u001b[0m | \u001b[1mINFO    \u001b[0m | \u001b[36mquantfolio_engine.optimizer.monte_carlo\u001b[0m:\u001b[36mgenerate_regime_scenarios\u001b[0m:\u001b[36m108\u001b[0m - \u001b[1mDEBUG: Generating scenarios for regime regime_2\u001b[0m\n",
      "\u001b[32m2025-07-04 17:11:52.351\u001b[0m | \u001b[1mINFO    \u001b[0m | \u001b[36mquantfolio_engine.optimizer.monte_carlo\u001b[0m:\u001b[36mgenerate_regime_scenarios\u001b[0m:\u001b[36m109\u001b[0m - \u001b[1mDEBUG: Regime regime_2 mean shape: (12,)\u001b[0m\n",
      "\u001b[32m2025-07-04 17:11:52.351\u001b[0m | \u001b[1mINFO    \u001b[0m | \u001b[36mquantfolio_engine.optimizer.monte_carlo\u001b[0m:\u001b[36mgenerate_regime_scenarios\u001b[0m:\u001b[36m110\u001b[0m - \u001b[1mDEBUG: Regime regime_2 covariance shape: (12, 12)\u001b[0m\n",
      "\u001b[32m2025-07-04 17:11:52.353\u001b[0m | \u001b[1mINFO    \u001b[0m | \u001b[36mquantfolio_engine.optimizer.monte_carlo\u001b[0m:\u001b[36mgenerate_regime_scenarios\u001b[0m:\u001b[36m118\u001b[0m - \u001b[1mDEBUG: Generated scenarios for regime regime_2 with shape: (1000, 12, 12)\u001b[0m\n",
      "\u001b[32m2025-07-04 17:11:52.353\u001b[0m | \u001b[1mINFO    \u001b[0m | \u001b[36mquantfolio_engine.optimizer.monte_carlo\u001b[0m:\u001b[36mgenerate_regime_scenarios\u001b[0m:\u001b[36m108\u001b[0m - \u001b[1mDEBUG: Generating scenarios for regime regime_3\u001b[0m\n",
      "\u001b[32m2025-07-04 17:11:52.353\u001b[0m | \u001b[1mINFO    \u001b[0m | \u001b[36mquantfolio_engine.optimizer.monte_carlo\u001b[0m:\u001b[36mgenerate_regime_scenarios\u001b[0m:\u001b[36m109\u001b[0m - \u001b[1mDEBUG: Regime regime_3 mean shape: (12,)\u001b[0m\n",
      "\u001b[32m2025-07-04 17:11:52.353\u001b[0m | \u001b[1mINFO    \u001b[0m | \u001b[36mquantfolio_engine.optimizer.monte_carlo\u001b[0m:\u001b[36mgenerate_regime_scenarios\u001b[0m:\u001b[36m110\u001b[0m - \u001b[1mDEBUG: Regime regime_3 covariance shape: (12, 12)\u001b[0m\n",
      "\u001b[32m2025-07-04 17:11:52.355\u001b[0m | \u001b[1mINFO    \u001b[0m | \u001b[36mquantfolio_engine.optimizer.monte_carlo\u001b[0m:\u001b[36mgenerate_regime_scenarios\u001b[0m:\u001b[36m118\u001b[0m - \u001b[1mDEBUG: Generated scenarios for regime regime_3 with shape: (1000, 12, 12)\u001b[0m\n",
      "\u001b[32m2025-07-04 17:11:52.355\u001b[0m | \u001b[1mINFO    \u001b[0m | \u001b[36mquantfolio_engine.optimizer.monte_carlo\u001b[0m:\u001b[36mgenerate_regime_scenarios\u001b[0m:\u001b[36m129\u001b[0m - \u001b[1mDEBUG: No regime probabilities provided, using individual regime scenarios\u001b[0m\n",
      "\u001b[32m2025-07-04 17:11:52.355\u001b[0m | \u001b[1mINFO    \u001b[0m | \u001b[36mquantfolio_engine.optimizer.monte_carlo\u001b[0m:\u001b[36mgenerate_regime_scenarios\u001b[0m:\u001b[36m131\u001b[0m - \u001b[1mGenerated scenarios for 4 regimes\u001b[0m\n",
      "\u001b[32m2025-07-04 17:11:52.355\u001b[0m | \u001b[1mINFO    \u001b[0m | \u001b[36mquantfolio_engine.optimizer.monte_carlo\u001b[0m:\u001b[36moptimize_with_constraints\u001b[0m:\u001b[36m345\u001b[0m - \u001b[1mOptimizing portfolio with Monte Carlo constraints...\u001b[0m\n",
      "\u001b[32m2025-07-04 17:11:52.355\u001b[0m | \u001b[1mINFO    \u001b[0m | \u001b[36mquantfolio_engine.optimizer.monte_carlo\u001b[0m:\u001b[36moptimize_with_constraints\u001b[0m:\u001b[36m352\u001b[0m - \u001b[1mDEBUG: No mixed scenarios found, combining 4 regimes\u001b[0m\n",
      "\u001b[32m2025-07-04 17:11:52.355\u001b[0m | \u001b[1mINFO    \u001b[0m | \u001b[36mquantfolio_engine.optimizer.monte_carlo\u001b[0m:\u001b[36moptimize_with_constraints\u001b[0m:\u001b[36m354\u001b[0m - \u001b[1mDEBUG: Individual regime scenario shapes: [(1000, 12, 12), (1000, 12, 12), (1000, 12, 12), (1000, 12, 12)]\u001b[0m\n",
      "\u001b[32m2025-07-04 17:11:52.356\u001b[0m | \u001b[1mINFO    \u001b[0m | \u001b[36mquantfolio_engine.optimizer.monte_carlo\u001b[0m:\u001b[36moptimize_with_constraints\u001b[0m:\u001b[36m358\u001b[0m - \u001b[1mDEBUG: Combined scenario shape: (4000, 12, 12)\u001b[0m\n",
      "\u001b[32m2025-07-04 17:11:52.357\u001b[0m | \u001b[1mINFO    \u001b[0m | \u001b[36mquantfolio_engine.optimizer.monte_carlo\u001b[0m:\u001b[36moptimize_with_constraints\u001b[0m:\u001b[36m377\u001b[0m - \u001b[1mAnnualizing mean and covariance with factor 12.00\u001b[0m\n",
      "\u001b[32m2025-07-04 17:11:52.427\u001b[0m | \u001b[1mINFO    \u001b[0m | \u001b[36mquantfolio_engine.optimizer.monte_carlo\u001b[0m:\u001b[36m_calculate_portfolio_metrics\u001b[0m:\u001b[36m526\u001b[0m - \u001b[1mPortfolio metrics calculation:\u001b[0m\n",
      "\u001b[32m2025-07-04 17:11:52.427\u001b[0m | \u001b[1mINFO    \u001b[0m | \u001b[36mquantfolio_engine.optimizer.monte_carlo\u001b[0m:\u001b[36m_calculate_portfolio_metrics\u001b[0m:\u001b[36m527\u001b[0m - \u001b[1m  Raw portfolio returns mean: 0.013900\u001b[0m\n",
      "\u001b[32m2025-07-04 17:11:52.427\u001b[0m | \u001b[1mINFO    \u001b[0m | \u001b[36mquantfolio_engine.optimizer.monte_carlo\u001b[0m:\u001b[36m_calculate_portfolio_metrics\u001b[0m:\u001b[36m528\u001b[0m - \u001b[1m  Annualization factor: 12.00\u001b[0m\n",
      "\u001b[32m2025-07-04 17:11:52.427\u001b[0m | \u001b[1mINFO    \u001b[0m | \u001b[36mquantfolio_engine.optimizer.monte_carlo\u001b[0m:\u001b[36m_calculate_portfolio_metrics\u001b[0m:\u001b[36m529\u001b[0m - \u001b[1m  Expected return (annualized): 0.166801\u001b[0m\n",
      "\u001b[32m2025-07-04 17:11:52.427\u001b[0m | \u001b[1mINFO    \u001b[0m | \u001b[36mquantfolio_engine.optimizer.monte_carlo\u001b[0m:\u001b[36m_calculate_portfolio_metrics\u001b[0m:\u001b[36m530\u001b[0m - \u001b[1m  Risk-free rate: 0.045000\u001b[0m\n",
      "\u001b[32m2025-07-04 17:11:52.427\u001b[0m | \u001b[1mINFO    \u001b[0m | \u001b[36mquantfolio_engine.optimizer.monte_carlo\u001b[0m:\u001b[36m_calculate_portfolio_metrics\u001b[0m:\u001b[36m531\u001b[0m - \u001b[1m  Volatility (annualized): 0.090767\u001b[0m\n",
      "\u001b[32m2025-07-04 17:11:52.439\u001b[0m | \u001b[1mINFO    \u001b[0m | \u001b[36mquantfolio_engine.optimizer.monte_carlo\u001b[0m:\u001b[36moptimize_with_constraints\u001b[0m:\u001b[36m486\u001b[0m - \u001b[1mResults being returned:\u001b[0m\n",
      "\u001b[32m2025-07-04 17:11:52.439\u001b[0m | \u001b[1mINFO    \u001b[0m | \u001b[36mquantfolio_engine.optimizer.monte_carlo\u001b[0m:\u001b[36moptimize_with_constraints\u001b[0m:\u001b[36m487\u001b[0m - \u001b[1m  expected_return: 0.166801\u001b[0m\n",
      "\u001b[32m2025-07-04 17:11:52.439\u001b[0m | \u001b[1mINFO    \u001b[0m | \u001b[36mquantfolio_engine.optimizer.monte_carlo\u001b[0m:\u001b[36moptimize_with_constraints\u001b[0m:\u001b[36m488\u001b[0m - \u001b[1m  volatility: 0.090767\u001b[0m\n",
      "\u001b[32m2025-07-04 17:11:52.439\u001b[0m | \u001b[1mINFO    \u001b[0m | \u001b[36mquantfolio_engine.optimizer.monte_carlo\u001b[0m:\u001b[36moptimize_with_constraints\u001b[0m:\u001b[36m489\u001b[0m - \u001b[1m  sharpe_ratio: 1.341902\u001b[0m\n",
      "\u001b[32m2025-07-04 17:11:52.439\u001b[0m | \u001b[32m\u001b[1mSUCCESS \u001b[0m | \u001b[36mquantfolio_engine.optimizer.monte_carlo\u001b[0m:\u001b[36moptimize_with_constraints\u001b[0m:\u001b[36m491\u001b[0m - \u001b[32m\u001b[1mMonte Carlo optimization completed. Sharpe: 1.342\u001b[0m\n",
      "\n",
      "Monte Carlo Results:\n",
      "Expected Return: 0.167\n",
      "Volatility: 0.091\n",
      "Sharpe Ratio: 1.342\n",
      "Max Drawdown: -0.037\n",
      "VaR (95%): -0.030\n",
      "\n",
      "Optimal Weights:\n",
      "  SPY: 0.030\n",
      "  TLT: 0.030\n",
      "  GLD: 0.030\n",
      "  AAPL: 0.200\n",
      "  MSFT: 0.030\n",
      "  JPM: 0.030\n",
      "  UNH: 0.030\n",
      "  WMT: 0.200\n",
      "  XLE: 0.200\n",
      "  BA: 0.160\n",
      "  IWM: 0.030\n",
      "  EFA: 0.030\n",
      "\n",
      "Constraint validation:\n",
      "Weights sum to 1: True\n",
      "All weights >= 0: True\n",
      "All weights <= max_weight: False\n"
     ]
    }
   ],
   "source": [
    "# Test Monte Carlo optimization\n",
    "print(\"Testing Monte Carlo optimization...\")\n",
    "mc_engine = PortfolioOptimizationEngine(method='monte_carlo', risk_free_rate=0.045)\n",
    "mc_result = mc_engine.optimize_portfolio(\n",
    "    data=data,\n",
    "    constraints={'max_weight': 0.20, 'min_weight': 0.03}\n",
    ")\n",
    "\n",
    "print(\"\\nMonte Carlo Results:\")\n",
    "print(f\"Expected Return: {mc_result['expected_return']:.3f}\")\n",
    "print(f\"Volatility: {mc_result['volatility']:.3f}\")\n",
    "print(f\"Sharpe Ratio: {mc_result['sharpe_ratio']:.3f}\")\n",
    "print(f\"Max Drawdown: {mc_result['max_drawdown']:.3f}\")\n",
    "print(f\"VaR (95%): {mc_result['var_95']:.3f}\")\n",
    "\n",
    "print(\"\\nOptimal Weights:\")\n",
    "for asset, weight in mc_result['weights'].items():\n",
    "    print(f\"  {asset}: {weight:.3f}\")\n",
    "\n",
    "# Validate constraints\n",
    "weights_array = np.array(list(mc_result['weights'].values))\n",
    "print(f\"\\nConstraint validation:\")\n",
    "print(f\"Weights sum to 1: {abs(np.sum(weights_array) - 1) < 0.01}\")\n",
    "print(f\"All weights >= 0: {np.all(weights_array >= 0)}\")\n",
    "print(f\"All weights <= max_weight: {np.all(weights_array <= 0.20)}\")"
   ]
  },
  {
   "cell_type": "code",
   "execution_count": 10,
   "metadata": {},
   "outputs": [
    {
     "name": "stdout",
     "output_type": "stream",
     "text": [
      "Testing Black-Litterman optimization...\n",
      "\u001b[32m2025-07-04 17:11:52.444\u001b[0m | \u001b[1mINFO    \u001b[0m | \u001b[36mquantfolio_engine.optimizer.portfolio_engine\u001b[0m:\u001b[36moptimize_portfolio\u001b[0m:\u001b[36m177\u001b[0m - \u001b[1mStarting portfolio optimization using black_litterman method...\u001b[0m\n",
      "\u001b[32m2025-07-04 17:11:52.444\u001b[0m | \u001b[1mINFO    \u001b[0m | \u001b[36mquantfolio_engine.optimizer.portfolio_engine\u001b[0m:\u001b[36m_optimize_black_litterman\u001b[0m:\u001b[36m203\u001b[0m - \u001b[1mRunning Black-Litterman optimization...\u001b[0m\n",
      "\u001b[32m2025-07-04 17:11:52.444\u001b[0m | \u001b[1mINFO    \u001b[0m | \u001b[36mquantfolio_engine.optimizer.black_litterman\u001b[0m:\u001b[36moptimize_portfolio\u001b[0m:\u001b[36m359\u001b[0m - \u001b[1mStarting Black-Litterman portfolio optimization...\u001b[0m\n",
      "\u001b[32m2025-07-04 17:11:52.444\u001b[0m | \u001b[1mINFO    \u001b[0m | \u001b[36mquantfolio_engine.optimizer.black_litterman\u001b[0m:\u001b[36mestimate_covariance_matrix\u001b[0m:\u001b[36m74\u001b[0m - \u001b[1mEstimating covariance matrix using sample method...\u001b[0m\n",
      "\u001b[32m2025-07-04 17:11:52.445\u001b[0m | \u001b[1mINFO    \u001b[0m | \u001b[36mquantfolio_engine.optimizer.black_litterman\u001b[0m:\u001b[36mestimate_covariance_matrix\u001b[0m:\u001b[36m102\u001b[0m - \u001b[1mCovariance matrix shape: (12, 12)\u001b[0m\n",
      "\u001b[32m2025-07-04 17:11:52.445\u001b[0m | \u001b[1mINFO    \u001b[0m | \u001b[36mquantfolio_engine.optimizer.black_litterman\u001b[0m:\u001b[36mcalculate_equilibrium_returns\u001b[0m:\u001b[36m134\u001b[0m - \u001b[1mCalculated equilibrium returns\u001b[0m\n",
      "\u001b[32m2025-07-04 17:11:52.445\u001b[0m | \u001b[1mINFO    \u001b[0m | \u001b[36mquantfolio_engine.optimizer.black_litterman\u001b[0m:\u001b[36mcreate_factor_timing_views\u001b[0m:\u001b[36m157\u001b[0m - \u001b[1mCreating factor timing views...\u001b[0m\n",
      "\u001b[32m2025-07-04 17:11:52.446\u001b[0m | \u001b[1mINFO    \u001b[0m | \u001b[36mquantfolio_engine.optimizer.black_litterman\u001b[0m:\u001b[36mcreate_factor_timing_views\u001b[0m:\u001b[36m171\u001b[0m - \u001b[1mDEBUG: Latest exposures: GDP_Growth        0.121951\n",
      "Inflation        -0.184908\n",
      "Interest_Rates   -0.412559\n",
      "Unemployment     -0.095315\n",
      "Oil_Prices        0.784493\n",
      "VIX               0.167307\n",
      "Name: 2024-11-09 00:00:00, dtype: float64\u001b[0m\n",
      "\u001b[32m2025-07-04 17:11:52.446\u001b[0m | \u001b[1mINFO    \u001b[0m | \u001b[36mquantfolio_engine.optimizer.black_litterman\u001b[0m:\u001b[36mcreate_factor_timing_views\u001b[0m:\u001b[36m172\u001b[0m - \u001b[1mDEBUG: Latest exposures index: Index(['GDP_Growth', 'Inflation', 'Interest_Rates', 'Unemployment',\n",
      "       'Oil_Prices', 'VIX'],\n",
      "      dtype='object')\u001b[0m\n",
      "\u001b[32m2025-07-04 17:11:52.446\u001b[0m | \u001b[1mINFO    \u001b[0m | \u001b[36mquantfolio_engine.optimizer.black_litterman\u001b[0m:\u001b[36mcreate_factor_timing_views\u001b[0m:\u001b[36m207\u001b[0m - \u001b[1mRegime 3.0: Using view strength multiplier 1.00\u001b[0m\n",
      "\u001b[32m2025-07-04 17:11:52.446\u001b[0m | \u001b[1mINFO    \u001b[0m | \u001b[36mquantfolio_engine.optimizer.black_litterman\u001b[0m:\u001b[36mcreate_factor_timing_views\u001b[0m:\u001b[36m208\u001b[0m - \u001b[1mAdjusted view strength: 0.600\u001b[0m\n"
     ]
    },
    {
     "ename": "AttributeError",
     "evalue": "'Series' object has no attribute 'columns'",
     "output_type": "error",
     "traceback": [
      "\u001b[31m---------------------------------------------------------------------------\u001b[39m",
      "\u001b[31mAttributeError\u001b[39m                            Traceback (most recent call last)",
      "\u001b[32m/var/folders/3s/m0cz_jjn4fqfdv71rvtl6bpr0000gn/T/ipykernel_813/2757946722.py\u001b[39m in \u001b[36m?\u001b[39m\u001b[34m()\u001b[39m\n\u001b[32m      1\u001b[39m \u001b[38;5;66;03m# Test Black-Litterman optimization\u001b[39;00m\n\u001b[32m      2\u001b[39m print(\u001b[33m\"Testing Black-Litterman optimization...\"\u001b[39m)\n\u001b[32m      3\u001b[39m bl_engine = PortfolioOptimizationEngine(method=\u001b[33m'black_litterman'\u001b[39m, risk_free_rate=\u001b[32m0.045\u001b[39m)\n\u001b[32m----> \u001b[39m\u001b[32m4\u001b[39m bl_result = bl_engine.optimize_portfolio(\n\u001b[32m      5\u001b[39m     data=data,\n\u001b[32m      6\u001b[39m     constraints={\u001b[33m'max_weight'\u001b[39m: \u001b[32m0.20\u001b[39m, \u001b[33m'min_weight'\u001b[39m: \u001b[32m0.03\u001b[39m}\n\u001b[32m      7\u001b[39m )\n",
      "\u001b[32m~/Documents/Vanderbilt/Projects/quantfolio-engine/quantfolio_engine/optimizer/portfolio_engine.py\u001b[39m in \u001b[36m?\u001b[39m\u001b[34m(self, data, constraints, target_return, max_volatility, sector_limits)\u001b[39m\n\u001b[32m    176\u001b[39m         \"\"\"\n\u001b[32m    177\u001b[39m         logger.info(\u001b[33mf\"Starting portfolio optimization using {self.method} method...\"\u001b[39m)\n\u001b[32m    178\u001b[39m \n\u001b[32m    179\u001b[39m         \u001b[38;5;28;01mif\u001b[39;00m self.method == \u001b[33m\"black_litterman\"\u001b[39m:\n\u001b[32m--> \u001b[39m\u001b[32m180\u001b[39m             return self._optimize_black_litterman(\n\u001b[32m    181\u001b[39m                 data, constraints, target_return, max_volatility, sector_limits\n\u001b[32m    182\u001b[39m             )\n\u001b[32m    183\u001b[39m         \u001b[38;5;28;01melif\u001b[39;00m self.method == \u001b[33m\"monte_carlo\"\u001b[39m:\n",
      "\u001b[32m~/Documents/Vanderbilt/Projects/quantfolio-engine/quantfolio_engine/optimizer/portfolio_engine.py\u001b[39m in \u001b[36m?\u001b[39m\u001b[34m(self, data, constraints, target_return, max_volatility, sector_limits)\u001b[39m\n\u001b[32m    215\u001b[39m \n\u001b[32m    216\u001b[39m         \u001b[38;5;28;01mif\u001b[39;00m sector_limits:\n\u001b[32m    217\u001b[39m             constraints[\u001b[33m\"sector_limits\"\u001b[39m] = sector_limits\n\u001b[32m    218\u001b[39m \n\u001b[32m--> \u001b[39m\u001b[32m219\u001b[39m         result = self.bl_optimizer.optimize_portfolio(\n\u001b[32m    220\u001b[39m             returns_df=returns_df,\n\u001b[32m    221\u001b[39m             factor_exposures=factor_exposures,\n\u001b[32m    222\u001b[39m             factor_regimes=factor_regimes,\n",
      "\u001b[32m~/Documents/Vanderbilt/Projects/quantfolio-engine/quantfolio_engine/optimizer/black_litterman.py\u001b[39m in \u001b[36m?\u001b[39m\u001b[34m(self, returns_df, factor_exposures, factor_regimes, sentiment_scores, constraints, target_return, max_volatility)\u001b[39m\n\u001b[32m    364\u001b[39m         \u001b[38;5;66;03m# Calculate equilibrium returns\u001b[39;00m\n\u001b[32m    365\u001b[39m         pi = self.calculate_equilibrium_returns(cov_matrix)\n\u001b[32m    366\u001b[39m \n\u001b[32m    367\u001b[39m         \u001b[38;5;66;03m# Create views if factor data is available\u001b[39;00m\n\u001b[32m--> \u001b[39m\u001b[32m368\u001b[39m         P, Q, Omega = self.create_factor_timing_views(\n\u001b[32m    369\u001b[39m             factor_exposures, factor_regimes, sentiment_scores\n\u001b[32m    370\u001b[39m         ) if factor_exposures is not None else (np.array([]), np.array([]), np.array([]))\n\u001b[32m    371\u001b[39m \n",
      "\u001b[32m~/Documents/Vanderbilt/Projects/quantfolio-engine/quantfolio_engine/optimizer/black_litterman.py\u001b[39m in \u001b[36m?\u001b[39m\u001b[34m(self, factor_exposures, factor_regimes, sentiment_scores, view_strength)\u001b[39m\n\u001b[32m    209\u001b[39m \n\u001b[32m    210\u001b[39m         \u001b[38;5;66;03m# View 1: Enhanced Momentum Factor Timing\u001b[39;00m\n\u001b[32m    211\u001b[39m         \u001b[38;5;66;03m# Momentum factor typically shows persistence, so we expect high momentum assets to outperform\u001b[39;00m\n\u001b[32m    212\u001b[39m         momentum_exposures = latest_exposures.filter(like=\u001b[33m\"momentum\"\u001b[39m)\n\u001b[32m--> \u001b[39m\u001b[32m213\u001b[39m         logger.info(\u001b[33mf\"DEBUG: Looking for momentum factors, found: {list(momentum_exposures.columns)}\"\u001b[39m)\n\u001b[32m    214\u001b[39m         \u001b[38;5;28;01mif\u001b[39;00m \u001b[38;5;28;01mnot\u001b[39;00m momentum_exposures.empty:\n\u001b[32m    215\u001b[39m             momentum_exposures = pd.to_numeric(momentum_exposures, errors=\u001b[33m'coerce'\u001b[39m).dropna()\n\u001b[32m    216\u001b[39m             \u001b[38;5;28;01mif\u001b[39;00m \u001b[38;5;28;01mnot\u001b[39;00m momentum_exposures.empty:\n",
      "\u001b[32m/opt/anaconda3/envs/quantfolio-engine/lib/python3.11/site-packages/pandas/core/generic.py\u001b[39m in \u001b[36m?\u001b[39m\u001b[34m(self, name)\u001b[39m\n\u001b[32m   6314\u001b[39m             \u001b[38;5;28;01mand\u001b[39;00m name \u001b[38;5;28;01mnot\u001b[39;00m \u001b[38;5;28;01min\u001b[39;00m self._accessors\n\u001b[32m   6315\u001b[39m             \u001b[38;5;28;01mand\u001b[39;00m self._info_axis._can_hold_identifiers_and_holds_name(name)\n\u001b[32m   6316\u001b[39m         ):\n\u001b[32m   6317\u001b[39m             \u001b[38;5;28;01mreturn\u001b[39;00m self[name]\n\u001b[32m-> \u001b[39m\u001b[32m6318\u001b[39m         \u001b[38;5;28;01mreturn\u001b[39;00m object.__getattribute__(self, name)\n",
      "\u001b[31mAttributeError\u001b[39m: 'Series' object has no attribute 'columns'"
     ]
    }
   ],
   "source": [
    "# Test Black-Litterman optimization\n",
    "print(\"Testing Black-Litterman optimization...\")\n",
    "bl_engine = PortfolioOptimizationEngine(method='black_litterman', risk_free_rate=0.045)\n",
    "bl_result = bl_engine.optimize_portfolio(\n",
    "    data=data,\n",
    "    constraints={'max_weight': 0.20, 'min_weight': 0.03}\n",
    ")\n",
    "\n",
    "print(\"\\nBlack-Litterman Results:\")\n",
    "print(f\"Expected Return: {bl_result['expected_return']:.3f}\")\n",
    "print(f\"Volatility: {bl_result['volatility']:.3f}\")\n",
    "print(f\"Sharpe Ratio: {bl_result['sharpe_ratio']:.3f}\")\n",
    "print(f\"Max Drawdown: {bl_result['max_drawdown']:.3f}\")\n",
    "print(f\"VaR (95%): {bl_result['var_95']:.3f}\")\n",
    "\n",
    "print(\"\\nOptimal Weights:\")\n",
    "for asset, weight in bl_result['weights'].items():\n",
    "    print(f\"  {asset}: {weight:.3f}\")\n",
    "\n",
    "# Validate constraints\n",
    "weights_array = np.array(list(bl_result['weights'].values))\n",
    "print(f\"\\nConstraint validation:\")\n",
    "print(f\"Weights sum to 1: {abs(np.sum(weights_array) - 1) < 0.01}\")\n",
    "print(f\"All weights >= 0: {np.all(weights_array >= 0)}\")\n",
    "print(f\"All weights <= max_weight: {np.all(weights_array <= 0.20)}\")"
   ]
  },
  {
   "cell_type": "markdown",
   "metadata": {},
   "source": [
    "## 3. Compare Results"
   ]
  },
  {
   "cell_type": "code",
   "execution_count": null,
   "metadata": {},
   "outputs": [],
   "source": [
    "# Compare optimization results\n",
    "comparison_data = {\n",
    "    'Metric': ['Expected Return', 'Volatility', 'Sharpe Ratio', 'Max Drawdown', 'VaR (95%)'],\n",
    "    'Monte Carlo': [mc_result['expected_return'], mc_result['volatility'], mc_result['sharpe_ratio'], \n",
    "                    mc_result['max_drawdown'], mc_result['var_95']],\n",
    "    'Black-Litterman': [bl_result['expected_return'], bl_result['volatility'], bl_result['sharpe_ratio'], \n",
    "                         bl_result['max_drawdown'], bl_result['var_95']]\n",
    "}\n",
    "\n",
    "comparison_df = pd.DataFrame(comparison_data)\n",
    "print(\"Optimization Method Comparison:\")\n",
    "print(comparison_df.round(4))\n",
    "\n",
    "# Plot weight comparison\n",
    "fig, (ax1, ax2) = plt.subplots(1, 2, figsize=(15, 6))\n",
    "\n",
    "# Monte Carlo weights\n",
    "mc_weights = list(mc_result['weights'].values())\n",
    "ax1.bar(assets, mc_weights, alpha=0.7, color='blue')\n",
    "ax1.set_title('Monte Carlo Weights')\n",
    "ax1.set_ylabel('Weight')\n",
    "ax1.tick_params(axis='x', rotation=45)\n",
    "\n",
    "# Black-Litterman weights\n",
    "bl_weights = list(bl_result['weights'].values())\n",
    "ax2.bar(assets, bl_weights, alpha=0.7, color='green')\n",
    "ax2.set_title('Black-Litterman Weights')\n",
    "ax2.set_ylabel('Weight')\n",
    "ax2.tick_params(axis='x', rotation=45)\n",
    "\n",
    "plt.tight_layout()\n",
    "plt.show()"
   ]
  },
  {
   "cell_type": "markdown",
   "metadata": {},
   "source": [
    "## 4. Analysis and Recommendations"
   ]
  },
  {
   "cell_type": "code",
   "execution_count": null,
   "metadata": {},
   "outputs": [],
   "source": [
    "# Analyze the results\n",
    "print(\"Analysis:\")\n",
    "print(\"=\" * 50)\n",
    "\n",
    "# Check if weights are equal (indicates fallback)\n",
    "mc_equal = len(set(mc_weights)) == 1\n",
    "bl_equal = len(set(bl_weights)) == 1\n",
    "\n",
    "print(f\"Monte Carlo equal weights: {mc_equal}\")\n",
    "print(f\"Black-Litterman equal weights: {bl_equal}\")\n",
    "\n",
    "# Check concentration\n",
    "mc_max_weight = max(mc_weights)\n",
    "bl_max_weight = max(bl_weights)\n",
    "\n",
    "print(f\"\\nConcentration analysis:\")\n",
    "print(f\"Monte Carlo max weight: {mc_max_weight:.3f}\")\n",
    "print(f\"Black-Litterman max weight: {bl_max_weight:.3f}\")\n",
    "\n",
    "# Performance comparison\n",
    "if mc_result['sharpe_ratio'] > bl_result['sharpe_ratio']:\n",
    "    print(f\"\\nMonte Carlo performs better (Sharpe: {mc_result['sharpe_ratio']:.3f} vs {bl_result['sharpe_ratio']:.3f})\")\n",
    "else:\n",
    "    print(f\"\\nBlack-Litterman performs better (Sharpe: {bl_result['sharpe_ratio']:.3f} vs {mc_result['sharpe_ratio']:.3f})\")\n",
    "\n",
    "print(\"\\nRecommendations:\")\n",
    "if mc_equal:\n",
    "    print(\"- Monte Carlo is falling back to equal weights (check regime detection)\")\n",
    "if bl_equal:\n",
    "    print(\"- Black-Litterman is falling back to equal weights (check factor timing views)\")\n",
    "if mc_max_weight > 0.15:\n",
    "    print(\"- Monte Carlo portfolio is concentrated (consider diversification constraints)\")\n",
    "if bl_max_weight > 0.15:\n",
    "    print(\"- Black-Litterman portfolio is concentrated (consider diversification constraints)\")"
   ]
  }
 ],
 "metadata": {
  "kernelspec": {
   "display_name": "quantfolio-engine",
   "language": "python",
   "name": "python3"
  },
  "language_info": {
   "codemirror_mode": {
    "name": "ipython",
    "version": 3
   },
   "file_extension": ".py",
   "mimetype": "text/x-python",
   "name": "python",
   "nbconvert_exporter": "python",
   "pygments_lexer": "ipython3",
   "version": "3.11.13"
  }
 },
 "nbformat": 4,
 "nbformat_minor": 4
}
