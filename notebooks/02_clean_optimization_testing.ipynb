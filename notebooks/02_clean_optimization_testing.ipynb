{
 "cells": [
  {
   "cell_type": "markdown",
   "metadata": {},
   "source": [
    "# Clean Portfolio Optimization Testing\n",
    "\n",
    "This notebook tests both Monte Carlo and Black-Litterman optimizers with properly aligned data."
   ]
  },
  {
   "cell_type": "code",
   "execution_count": 1,
   "metadata": {},
   "outputs": [
    {
     "name": "stdout",
     "output_type": "stream",
     "text": [
      "Clean Portfolio Optimization Testing\n"
     ]
    }
   ],
   "source": [
    "import numpy as np\n",
    "import pandas as pd\n",
    "import matplotlib.pyplot as plt\n",
    "import seaborn as sns\n",
    "from datetime import datetime, timedelta\n",
    "\n",
    "# Set random seed for reproducibility\n",
    "np.random.seed(42)\n",
    "print(\"Clean Portfolio Optimization Testing\")"
   ]
  },
  {
   "cell_type": "markdown",
   "metadata": {},
   "source": [
    "## 1. Generate Clean Test Data"
   ]
  },
  {
   "cell_type": "code",
   "execution_count": 2,
   "metadata": {},
   "outputs": [
    {
     "name": "stdout",
     "output_type": "stream",
     "text": [
      "Data dimensions:\n",
      "- Periods: 120\n",
      "- Assets: 12\n",
      "- Factors: 6\n",
      "- Regimes: 4\n"
     ]
    }
   ],
   "source": [
    "# Generate clean test data with proper alignment\n",
    "n_periods = 120\n",
    "n_assets = 12\n",
    "n_factors = 6\n",
    "n_regimes = 4\n",
    "\n",
    "# Create date range\n",
    "start_date = datetime(2015, 1, 31)\n",
    "dates = [start_date + timedelta(days=30*i) for i in range(n_periods)]\n",
    "dates = pd.to_datetime(dates)\n",
    "\n",
    "# Asset universe (matching config)\n",
    "assets = ['SPY', 'TLT', 'GLD', 'AAPL', 'MSFT', 'JPM', 'UNH', 'WMT', 'XLE', 'BA', 'IWM', 'EFA']\n",
    "\n",
    "# Factor names\n",
    "factor_names = ['GDP_Growth', 'Inflation', 'Interest_Rates', 'Unemployment', 'Oil_Prices', 'VIX']\n",
    "\n",
    "# Regime names\n",
    "regime_names = ['Bull_Market', 'Bear_Market', 'Sideways', 'Crisis']\n",
    "\n",
    "print(f\"Data dimensions:\")\n",
    "print(f\"- Periods: {n_periods}\")\n",
    "print(f\"- Assets: {n_assets}\")\n",
    "print(f\"- Factors: {n_factors}\")\n",
    "print(f\"- Regimes: {n_regimes}\")"
   ]
  },
  {
   "cell_type": "code",
   "execution_count": 3,
   "metadata": {},
   "outputs": [
    {
     "name": "stdout",
     "output_type": "stream",
     "text": [
      "Returns data shape: (120, 12)\n",
      "\n",
      "Sample returns:\n",
      "               SPY     TLT     GLD    AAPL    MSFT     JPM     UNH     WMT  \\\n",
      "2015-01-31  0.0298  0.0307 -0.0391  0.0500  0.0019  0.0460  0.0234  0.0046   \n",
      "2015-03-02  0.0023 -0.0282  0.0000  0.1231 -0.0507 -0.0413 -0.0698  0.0465   \n",
      "2015-04-01  0.0364  0.0519  0.0358  0.0047 -0.0920  0.0519 -0.0531 -0.0573   \n",
      "2015-05-01  0.0743 -0.0452  0.0567  0.0415  0.0229  0.0771  0.0435  0.0296   \n",
      "2015-05-31 -0.0018  0.0237 -0.0626  0.0623 -0.0380  0.0281  0.0171  0.0171   \n",
      "\n",
      "               XLE      BA     IWM     EFA  \n",
      "2015-01-31  0.0434 -0.0185  0.0132  0.0076  \n",
      "2015-03-02  0.0791 -0.0185 -0.0156  0.0295  \n",
      "2015-04-01  0.0202 -0.0165  0.0130  0.0017  \n",
      "2015-05-01  0.0468  0.1565  0.0349  0.0275  \n",
      "2015-05-31  0.0053  0.0342  0.0092  0.0080  \n"
     ]
    }
   ],
   "source": [
    "# 1. Generate returns data\n",
    "annual_returns = [0.10, 0.04, 0.08, 0.15, 0.12, 0.08, 0.11, 0.09, 0.12, 0.08, 0.08, 0.06]\n",
    "annual_vols = [0.15, 0.12, 0.20, 0.25, 0.22, 0.18, 0.16, 0.20, 0.18, 0.25, 0.18, 0.16]\n",
    "\n",
    "# Generate monthly returns with realistic correlations\n",
    "returns_data = np.zeros((n_periods, n_assets))\n",
    "for i, (ret, vol) in enumerate(zip(annual_returns, annual_vols)):\n",
    "    monthly_ret = ret / 12\n",
    "    monthly_vol = vol / np.sqrt(12)\n",
    "    returns_data[:, i] = np.random.normal(monthly_ret, monthly_vol, n_periods)\n",
    "\n",
    "returns_df = pd.DataFrame(returns_data, index=dates, columns=assets)\n",
    "print(\"Returns data shape:\", returns_df.shape)\n",
    "print(\"\\nSample returns:\")\n",
    "print(returns_df.head().round(4))"
   ]
  },
  {
   "cell_type": "code",
   "execution_count": 4,
   "metadata": {},
   "outputs": [
    {
     "name": "stdout",
     "output_type": "stream",
     "text": [
      "Factor exposures shape: (120, 6)\n",
      "\n",
      "Sample factor exposures:\n",
      "            GDP_Growth  Inflation  Interest_Rates  Unemployment  Oil_Prices  \\\n",
      "2015-01-31       0.699      0.352          -0.246        -0.389       0.520   \n",
      "2015-03-02       0.341      0.176           0.071         0.006       0.493   \n",
      "2015-04-01       0.572      0.781          -0.130        -0.528       0.626   \n",
      "2015-05-01       0.887      0.202          -0.342        -0.367       0.337   \n",
      "2015-05-31       0.326      0.177           0.201         0.118       0.041   \n",
      "\n",
      "              VIX  \n",
      "2015-01-31 -0.195  \n",
      "2015-03-02  0.511  \n",
      "2015-04-01  0.114  \n",
      "2015-05-01 -0.255  \n",
      "2015-05-31  0.133  \n"
     ]
    }
   ],
   "source": [
    "# 2. Generate factor exposures (time-series)\n",
    "factor_exposures = np.random.normal(0, 0.3, (n_periods, n_factors))\n",
    "\n",
    "# Add realistic trends and patterns\n",
    "factor_exposures[:, 0] += 0.5  # GDP growth trend\n",
    "factor_exposures[:, 2] += -0.3  # Interest rate sensitivity\n",
    "factor_exposures[:, 4] += 0.4   # Oil price sensitivity\n",
    "\n",
    "factor_exposures_df = pd.DataFrame(factor_exposures, index=dates, columns=factor_names)\n",
    "print(\"Factor exposures shape:\", factor_exposures_df.shape)\n",
    "print(\"\\nSample factor exposures:\")\n",
    "print(factor_exposures_df.head().round(3))"
   ]
  },
  {
   "cell_type": "code",
   "execution_count": 5,
   "metadata": {},
   "outputs": [
    {
     "name": "stdout",
     "output_type": "stream",
     "text": [
      "Regime data shape: (120, 5)\n",
      "Regime columns: ['regime_0_prob', 'regime_1_prob', 'regime_2_prob', 'regime_3_prob', 'regime']\n",
      "\n",
      "Sample regime probabilities:\n",
      "            regime_0_prob  regime_1_prob  regime_2_prob  regime_3_prob  regime\n",
      "2015-01-31            0.8           0.05            0.1           0.05       0\n",
      "2015-03-02            0.8           0.05            0.1           0.05       0\n",
      "2015-04-01            0.8           0.05            0.1           0.05       0\n",
      "2015-05-01            0.8           0.05            0.1           0.05       0\n",
      "2015-05-31            0.8           0.05            0.1           0.05       0\n"
     ]
    }
   ],
   "source": [
    "# 3. Generate regime data in the format expected by Monte Carlo (regime_0_prob, regime_1_prob, etc.)\n",
    "regime_data = np.zeros((n_periods, n_regimes))\n",
    "\n",
    "# Create regime transitions\n",
    "for i in range(n_periods):\n",
    "    if i < 30:  # First 30 periods: Regime 0 (Bull market)\n",
    "        regime_data[i] = [0.8, 0.05, 0.1, 0.05]\n",
    "    elif i < 60:  # Next 30 periods: Regime 1 (Bear market)\n",
    "        regime_data[i] = [0.1, 0.7, 0.15, 0.05]\n",
    "    elif i < 90:  # Next 30 periods: Regime 2 (Sideways)\n",
    "        regime_data[i] = [0.2, 0.1, 0.6, 0.1]\n",
    "    else:  # Last 30 periods: Regime 3 (Crisis)\n",
    "        regime_data[i] = [0.05, 0.2, 0.1, 0.65]\n",
    "\n",
    "# Create DataFrame with numbered regime columns (like the real system produces)\n",
    "regime_columns = [f'regime_{i}_prob' for i in range(n_regimes)]\n",
    "regime_df = pd.DataFrame(regime_data, index=dates, columns=regime_columns)\n",
    "\n",
    "# Add regime column with integer values (dominant regime)\n",
    "regime_df['regime'] = np.argmax(regime_data, axis=1)\n",
    "\n",
    "print(\"Regime data shape:\", regime_df.shape)\n",
    "print(\"Regime columns:\", list(regime_df.columns))\n",
    "print(\"\\nSample regime probabilities:\")\n",
    "print(regime_df.head().round(3))"
   ]
  },
  {
   "cell_type": "code",
   "execution_count": 6,
   "metadata": {},
   "outputs": [
    {
     "name": "stdout",
     "output_type": "stream",
     "text": [
      "Sentiment data shape: (120, 8)\n",
      "\n",
      "Sample sentiment data:\n",
      "            Earnings_Sentiment  Fed_Sentiment  Growth_Sentiment  \\\n",
      "2015-01-31              -0.333          0.074             0.149   \n",
      "2015-03-02              -0.070          0.140             0.296   \n",
      "2015-04-01              -0.482          0.055             0.607   \n",
      "2015-05-01              -0.664          0.460            -0.427   \n",
      "2015-05-31               0.607         -0.409             0.057   \n",
      "\n",
      "            Inflation_Sentiment  Recession_Sentiment  Oil_Sentiment  \\\n",
      "2015-01-31                0.342                0.474         -0.305   \n",
      "2015-03-02               -0.023               -0.096          0.046   \n",
      "2015-04-01                0.002               -0.057         -0.107   \n",
      "2015-05-01               -0.080               -0.129          0.177   \n",
      "2015-05-31               -0.199                0.128          0.006   \n",
      "\n",
      "            Tech_Sentiment  Financial_Sentiment  \n",
      "2015-01-31          -0.243               -0.377  \n",
      "2015-03-02          -0.251                0.627  \n",
      "2015-04-01          -0.054                0.412  \n",
      "2015-05-01          -0.479                0.139  \n",
      "2015-05-31          -0.192                0.146  \n"
     ]
    }
   ],
   "source": [
    "# 4. Generate sentiment data\n",
    "sentiment_names = ['Earnings_Sentiment', 'Fed_Sentiment', 'Growth_Sentiment', 'Inflation_Sentiment', \n",
    "                   'Recession_Sentiment', 'Oil_Sentiment', 'Tech_Sentiment', 'Financial_Sentiment']\n",
    "\n",
    "sentiment_data = np.random.normal(0, 0.3, (n_periods, len(sentiment_names)))\n",
    "sentiment_df = pd.DataFrame(sentiment_data, index=dates, columns=sentiment_names)\n",
    "\n",
    "print(\"Sentiment data shape:\", sentiment_df.shape)\n",
    "print(\"\\nSample sentiment data:\")\n",
    "print(sentiment_df.head().round(3))"
   ]
  },
  {
   "cell_type": "code",
   "execution_count": 7,
   "metadata": {},
   "outputs": [
    {
     "name": "stdout",
     "output_type": "stream",
     "text": [
      "Macro data shape: (120, 6)\n",
      "\n",
      "Sample macro data:\n",
      "            GDP_Growth  Inflation  Interest_Rates  Unemployment  Oil_Prices  \\\n",
      "2015-01-31      -0.242     -0.306           0.246        -0.179      -0.070   \n",
      "2015-03-02      -0.955      0.663           0.045        -0.206      -0.045   \n",
      "2015-04-01      -0.866      0.756           0.037         0.222       0.476   \n",
      "2015-05-01       0.237     -0.121           0.449        -1.064      -0.050   \n",
      "2015-05-31       0.216      0.252          -0.320        -0.356      -0.055   \n",
      "\n",
      "              VIX  \n",
      "2015-01-31  0.370  \n",
      "2015-03-02 -0.019  \n",
      "2015-04-01 -0.511  \n",
      "2015-05-01 -0.301  \n",
      "2015-05-31 -0.448  \n"
     ]
    }
   ],
   "source": [
    "# 5. Generate macro data\n",
    "macro_data = np.random.normal(0, 0.5, (n_periods, n_factors))\n",
    "\n",
    "# Add realistic trends\n",
    "macro_data[:, 1] += np.linspace(0, 0.5, n_periods)  # Inflation trend\n",
    "macro_data[:, 2] += np.linspace(0, 1.0, n_periods)  # Interest rate trend\n",
    "\n",
    "macro_df = pd.DataFrame(macro_data, index=dates, columns=factor_names)\n",
    "print(\"Macro data shape:\", macro_df.shape)\n",
    "print(\"\\nSample macro data:\")\n",
    "print(macro_df.head().round(3))"
   ]
  },
  {
   "cell_type": "markdown",
   "metadata": {},
   "source": [
    "## 2. Test Portfolio Optimization"
   ]
  },
  {
   "cell_type": "code",
   "execution_count": 8,
   "metadata": {},
   "outputs": [
    {
     "name": "stderr",
     "output_type": "stream",
     "text": [
      "\u001b[32m2025-07-05 20:06:56.744\u001b[0m | \u001b[1mINFO    \u001b[0m | \u001b[36mquantfolio_engine.config\u001b[0m:\u001b[36m<module>\u001b[0m:\u001b[36m14\u001b[0m - \u001b[1mPROJ_ROOT path is: /Users/dominusdeorum/Documents/Vanderbilt/Projects/quantfolio-engine\u001b[0m\n"
     ]
    },
    {
     "name": "stdout",
     "output_type": "stream",
     "text": [
      "Data shapes:\n",
      "Returns: (120, 12)\n",
      "Factor exposures: (120, 6)\n",
      "Factor regimes: (120, 5)\n",
      "Sentiment: (120, 8)\n",
      "Macro: (120, 6)\n",
      "\n",
      "Date alignment check:\n",
      "Returns dates: 2015-01-31 00:00:00 to 2024-11-09 00:00:00\n",
      "Factor exposures dates: 2015-01-31 00:00:00 to 2024-11-09 00:00:00\n",
      "Regime dates: 2015-01-31 00:00:00 to 2024-11-09 00:00:00\n"
     ]
    }
   ],
   "source": [
    "# Import optimization modules\n",
    "import sys\n",
    "sys.path.append('..')\n",
    "\n",
    "from quantfolio_engine.optimizer.portfolio_engine import PortfolioOptimizationEngine\n",
    "\n",
    "# Create data dictionary\n",
    "data = {\n",
    "    'returns': returns_df,\n",
    "    'factor_exposures': factor_exposures_df,\n",
    "    'factor_regimes': regime_df,\n",
    "    'sentiment': sentiment_df,\n",
    "    'macro': macro_df\n",
    "}\n",
    "\n",
    "print(\"Data shapes:\")\n",
    "print(f\"Returns: {data['returns'].shape}\")\n",
    "print(f\"Factor exposures: {data['factor_exposures'].shape}\")\n",
    "print(f\"Factor regimes: {data['factor_regimes'].shape}\")\n",
    "print(f\"Sentiment: {data['sentiment'].shape}\")\n",
    "print(f\"Macro: {data['macro'].shape}\")\n",
    "\n",
    "# Verify date alignment\n",
    "print(\"\\nDate alignment check:\")\n",
    "print(f\"Returns dates: {data['returns'].index[0]} to {data['returns'].index[-1]}\")\n",
    "print(f\"Factor exposures dates: {data['factor_exposures'].index[0]} to {data['factor_exposures'].index[-1]}\")\n",
    "print(f\"Regime dates: {data['factor_regimes'].index[0]} to {data['factor_regimes'].index[-1]}\")"
   ]
  },
  {
   "cell_type": "code",
   "execution_count": 9,
   "metadata": {},
   "outputs": [
    {
     "name": "stdout",
     "output_type": "stream",
     "text": [
      "Testing Monte Carlo optimization...\n",
      "\u001b[32m2025-07-05 20:06:56.998\u001b[0m | \u001b[1mINFO    \u001b[0m | \u001b[36mquantfolio_engine.optimizer.portfolio_engine\u001b[0m:\u001b[36moptimize_portfolio\u001b[0m:\u001b[36m205\u001b[0m - \u001b[1mStarting portfolio optimization using monte_carlo method...\u001b[0m\n",
      "\u001b[32m2025-07-05 20:06:57.015\u001b[0m | \u001b[1mINFO    \u001b[0m | \u001b[36mquantfolio_engine.optimizer.portfolio_engine\u001b[0m:\u001b[36m_optimize_monte_carlo\u001b[0m:\u001b[36m303\u001b[0m - \u001b[1mRunning Monte Carlo optimization...\u001b[0m\n",
      "\u001b[32m2025-07-05 20:06:57.015\u001b[0m | \u001b[1mINFO    \u001b[0m | \u001b[36mquantfolio_engine.optimizer.monte_carlo\u001b[0m:\u001b[36mgenerate_scenarios\u001b[0m:\u001b[36m91\u001b[0m - \u001b[1mGenerating 1000 Monte Carlo scenarios...\u001b[0m\n",
      "\u001b[32m2025-07-05 20:06:57.023\u001b[0m | \u001b[1mINFO    \u001b[0m | \u001b[36mquantfolio_engine.optimizer.monte_carlo\u001b[0m:\u001b[36mgenerate_scenarios\u001b[0m:\u001b[36m110\u001b[0m - \u001b[1mGenerated scenarios with shape: (1000, 12, 12)\u001b[0m\n",
      "\u001b[32m2025-07-05 20:06:57.024\u001b[0m | \u001b[1mINFO    \u001b[0m | \u001b[36mquantfolio_engine.optimizer.monte_carlo\u001b[0m:\u001b[36moptimize_with_constraints\u001b[0m:\u001b[36m136\u001b[0m - \u001b[1mOptimizing portfolio with Monte Carlo constraints...\u001b[0m\n",
      "\u001b[32m2025-07-05 20:06:57.024\u001b[0m | \u001b[1mINFO    \u001b[0m | \u001b[36mquantfolio_engine.optimizer.monte_carlo\u001b[0m:\u001b[36moptimize_with_constraints\u001b[0m:\u001b[36m151\u001b[0m - \u001b[1mAnnualizing mean and covariance with factor 12.00\u001b[0m\n",
      "\u001b[32m2025-07-05 20:06:57.057\u001b[0m | \u001b[32m\u001b[1mSUCCESS \u001b[0m | \u001b[36mquantfolio_engine.optimizer.monte_carlo\u001b[0m:\u001b[36moptimize_with_constraints\u001b[0m:\u001b[36m233\u001b[0m - \u001b[32m\u001b[1mMonte Carlo optimization completed. Sharpe: 1.363\u001b[0m\n",
      "\n",
      "Monte Carlo Results:\n",
      "Expected Return: 0.169\n",
      "Volatility: 0.091\n",
      "Sharpe Ratio: 1.363\n",
      "Max Drawdown: -0.036\n",
      "VaR (95%): -0.029\n",
      "\n",
      "Optimal Weights:\n",
      "  SPY: 0.030\n",
      "  TLT: 0.030\n",
      "  GLD: 0.030\n",
      "  AAPL: 0.200\n",
      "  MSFT: 0.030\n",
      "  JPM: 0.030\n",
      "  UNH: 0.030\n",
      "  WMT: 0.200\n",
      "  XLE: 0.188\n",
      "  BA: 0.172\n",
      "  IWM: 0.030\n",
      "  EFA: 0.030\n",
      "\n",
      "Constraint validation:\n",
      "Weights sum to 1: True\n",
      "All weights >= 0: True\n",
      "All weights <= max_weight: True\n"
     ]
    }
   ],
   "source": [
    "# Test Monte Carlo optimization\n",
    "print(\"Testing Monte Carlo optimization...\")\n",
    "mc_engine = PortfolioOptimizationEngine(method='monte_carlo', risk_free_rate=0.045)\n",
    "mc_result = mc_engine.optimize_portfolio(\n",
    "    data=data,\n",
    "    constraints={'max_weight': 0.20, 'min_weight': 0.03}\n",
    ")\n",
    "\n",
    "print(\"\\nMonte Carlo Results:\")\n",
    "print(f\"Expected Return: {mc_result['expected_return']:.3f}\")\n",
    "print(f\"Volatility: {mc_result['volatility']:.3f}\")\n",
    "print(f\"Sharpe Ratio: {mc_result['sharpe_ratio']:.3f}\")\n",
    "print(f\"Max Drawdown: {mc_result['max_drawdown']:.3f}\")\n",
    "print(f\"VaR (95%): {mc_result['var_95']:.3f}\")\n",
    "\n",
    "print(\"\\nOptimal Weights:\")\n",
    "for asset, weight in mc_result['weights'].items():\n",
    "    print(f\"  {asset}: {weight:.3f}\")\n",
    "\n",
    "# Validate constraints\n",
    "weights_array = np.array(list(mc_result['weights'].values))\n",
    "print(f\"\\nConstraint validation:\")\n",
    "print(f\"Weights sum to 1: {abs(np.sum(weights_array) - 1) < 0.01}\")\n",
    "print(f\"All weights >= 0: {np.all(weights_array >= 0)}\")\n",
    "print(f\"All weights <= max_weight: {np.all(weights_array <= 0.20)}\")"
   ]
  },
  {
   "cell_type": "code",
   "execution_count": 10,
   "metadata": {},
   "outputs": [
    {
     "name": "stdout",
     "output_type": "stream",
     "text": [
      "Testing Black-Litterman optimization...\n",
      "\u001b[32m2025-07-05 20:06:57.062\u001b[0m | \u001b[1mINFO    \u001b[0m | \u001b[36mquantfolio_engine.optimizer.portfolio_engine\u001b[0m:\u001b[36moptimize_portfolio\u001b[0m:\u001b[36m205\u001b[0m - \u001b[1mStarting portfolio optimization using black_litterman method...\u001b[0m\n",
      "\u001b[32m2025-07-05 20:06:57.062\u001b[0m | \u001b[1mINFO    \u001b[0m | \u001b[36mquantfolio_engine.optimizer.portfolio_engine\u001b[0m:\u001b[36m_optimize_black_litterman\u001b[0m:\u001b[36m231\u001b[0m - \u001b[1mRunning Black-Litterman optimization...\u001b[0m\n",
      "\u001b[32m2025-07-05 20:06:57.062\u001b[0m | \u001b[1mINFO    \u001b[0m | \u001b[36mquantfolio_engine.optimizer.black_litterman\u001b[0m:\u001b[36mcalibrate_market_risk_aversion\u001b[0m:\u001b[36m884\u001b[0m - \u001b[1mCalibrating market risk aversion λ...\u001b[0m\n",
      "\u001b[32m2025-07-05 20:06:57.064\u001b[0m | \u001b[1mINFO    \u001b[0m | \u001b[36mquantfolio_engine.optimizer.black_litterman\u001b[0m:\u001b[36mcalibrate_market_risk_aversion\u001b[0m:\u001b[36m905\u001b[0m - \u001b[1mHistorical market Sharpe: 1.427\u001b[0m\n",
      "\u001b[32m2025-07-05 20:06:57.064\u001b[0m | \u001b[1mINFO    \u001b[0m | \u001b[36mquantfolio_engine.optimizer.black_litterman\u001b[0m:\u001b[36mestimate_covariance_matrix\u001b[0m:\u001b[36m91\u001b[0m - \u001b[1mEstimating covariance matrix using sample method...\u001b[0m\n",
      "\u001b[32m2025-07-05 20:06:57.067\u001b[0m | \u001b[1mINFO    \u001b[0m | \u001b[36mquantfolio_engine.optimizer.black_litterman\u001b[0m:\u001b[36mestimate_covariance_matrix\u001b[0m:\u001b[36m121\u001b[0m - \u001b[1mCovariance matrix shape: (12, 12)\u001b[0m\n",
      "\u001b[32m2025-07-05 20:06:57.067\u001b[0m | \u001b[1mINFO    \u001b[0m | \u001b[36mquantfolio_engine.optimizer.black_litterman\u001b[0m:\u001b[36mcalibrate_market_risk_aversion\u001b[0m:\u001b[36m930\u001b[0m - \u001b[1mCalibrated λ: 10.000 (target Sharpe: 1.427)\u001b[0m\n",
      "\u001b[32m2025-07-05 20:06:57.067\u001b[0m | \u001b[1mINFO    \u001b[0m | \u001b[36mquantfolio_engine.optimizer.black_litterman\u001b[0m:\u001b[36mcalibrate_market_risk_aversion\u001b[0m:\u001b[36m931\u001b[0m - \u001b[1mEquilibrium Sharpe with calibrated λ: -0.341\u001b[0m\n",
      "\u001b[32m2025-07-05 20:06:57.067\u001b[0m | \u001b[1mINFO    \u001b[0m | \u001b[36mquantfolio_engine.optimizer.portfolio_engine\u001b[0m:\u001b[36m_optimize_black_litterman\u001b[0m:\u001b[36m273\u001b[0m - \u001b[1mAuto-calibrated λ: 10.000\u001b[0m\n",
      "\u001b[32m2025-07-05 20:06:57.067\u001b[0m | \u001b[1mINFO    \u001b[0m | \u001b[36mquantfolio_engine.optimizer.black_litterman\u001b[0m:\u001b[36moptimize_portfolio\u001b[0m:\u001b[36m652\u001b[0m - \u001b[1mStarting Black-Litterman portfolio optimization...\u001b[0m\n",
      "\u001b[32m2025-07-05 20:06:57.067\u001b[0m | \u001b[1mINFO    \u001b[0m | \u001b[36mquantfolio_engine.optimizer.black_litterman\u001b[0m:\u001b[36mestimate_covariance_matrix\u001b[0m:\u001b[36m91\u001b[0m - \u001b[1mEstimating covariance matrix using sample method...\u001b[0m\n",
      "\u001b[32m2025-07-05 20:06:57.067\u001b[0m | \u001b[1mINFO    \u001b[0m | \u001b[36mquantfolio_engine.optimizer.black_litterman\u001b[0m:\u001b[36mestimate_covariance_matrix\u001b[0m:\u001b[36m121\u001b[0m - \u001b[1mCovariance matrix shape: (12, 12)\u001b[0m\n",
      "\u001b[32m2025-07-05 20:06:57.068\u001b[0m | \u001b[1mINFO    \u001b[0m | \u001b[36mquantfolio_engine.optimizer.black_litterman\u001b[0m:\u001b[36mcalculate_equilibrium_returns\u001b[0m:\u001b[36m161\u001b[0m - \u001b[1mApplied grand view blend (γ=0.30)\u001b[0m\n",
      "\u001b[32m2025-07-05 20:06:57.068\u001b[0m | \u001b[1mINFO    \u001b[0m | \u001b[36mquantfolio_engine.optimizer.black_litterman\u001b[0m:\u001b[36mcalculate_equilibrium_returns\u001b[0m:\u001b[36m166\u001b[0m - \u001b[1mMarket cap weights: {'SPY': np.float64(0.08333333333333333), 'TLT': np.float64(0.08333333333333333), 'GLD': np.float64(0.08333333333333333), 'AAPL': np.float64(0.08333333333333333), 'MSFT': np.float64(0.08333333333333333), 'JPM': np.float64(0.08333333333333333), 'UNH': np.float64(0.08333333333333333), 'WMT': np.float64(0.08333333333333333), 'XLE': np.float64(0.08333333333333333), 'BA': np.float64(0.08333333333333333), 'IWM': np.float64(0.08333333333333333), 'EFA': np.float64(0.08333333333333333)}\u001b[0m\n",
      "\u001b[32m2025-07-05 20:06:57.068\u001b[0m | \u001b[1mINFO    \u001b[0m | \u001b[36mquantfolio_engine.optimizer.black_litterman\u001b[0m:\u001b[36mcalculate_equilibrium_returns\u001b[0m:\u001b[36m167\u001b[0m - \u001b[1mLambda market: 10.0\u001b[0m\n",
      "\u001b[32m2025-07-05 20:06:57.068\u001b[0m | \u001b[1mINFO    \u001b[0m | \u001b[36mquantfolio_engine.optimizer.black_litterman\u001b[0m:\u001b[36mcalculate_equilibrium_returns\u001b[0m:\u001b[36m168\u001b[0m - \u001b[1mEquilibrium returns (monthly): {'SPY': 0.0013806399778977462, 'TLT': 0.0013933883116704264, 'GLD': 0.0020488841869094757, 'AAPL': 0.0034540839221899266, 'MSFT': 0.0019473773434494366, 'JPM': 0.002346597685210665, 'UNH': 0.002284660517192525, 'WMT': 0.0018828680786964042, 'XLE': 0.002844864516091571, 'BA': 0.003980672609369197, 'IWM': 0.0018422963587473467, 'EFA': 0.0018214570981467198}\u001b[0m\n",
      "\u001b[32m2025-07-05 20:06:57.068\u001b[0m | \u001b[1mINFO    \u001b[0m | \u001b[36mquantfolio_engine.optimizer.black_litterman\u001b[0m:\u001b[36mcalculate_equilibrium_returns\u001b[0m:\u001b[36m169\u001b[0m - \u001b[1mMean equilibrium return: 0.002269\u001b[0m\n",
      "\u001b[32m2025-07-05 20:06:57.068\u001b[0m | \u001b[1mINFO    \u001b[0m | \u001b[36mquantfolio_engine.optimizer.black_litterman\u001b[0m:\u001b[36mcalculate_equilibrium_returns\u001b[0m:\u001b[36m170\u001b[0m - \u001b[1mRisk-free rate (monthly): 0.003750\u001b[0m\n",
      "\u001b[32m2025-07-05 20:06:57.068\u001b[0m | \u001b[1mINFO    \u001b[0m | \u001b[36mquantfolio_engine.optimizer.black_litterman\u001b[0m:\u001b[36mcreate_factor_timing_views\u001b[0m:\u001b[36m306\u001b[0m - \u001b[1mCreating factor timing views...\u001b[0m\n",
      "\u001b[32m2025-07-05 20:06:57.068\u001b[0m | \u001b[33m\u001b[1mWARNING \u001b[0m | \u001b[36mquantfolio_engine.optimizer.black_litterman\u001b[0m:\u001b[36m_calculate_information_coefficients\u001b[0m:\u001b[36m282\u001b[0m - \u001b[33m\u001b[1mFactor exposures does not have MultiIndex structure\u001b[0m\n",
      "\u001b[32m2025-07-05 20:06:57.070\u001b[0m | \u001b[34m\u001b[1mDEBUG   \u001b[0m | \u001b[36mquantfolio_engine.optimizer.black_litterman\u001b[0m:\u001b[36mcreate_factor_timing_views\u001b[0m:\u001b[36m324\u001b[0m - \u001b[34m\u001b[1mLatest exposures: GDP_Growth        0.121951\n",
      "Inflation        -0.184908\n",
      "Interest_Rates   -0.412559\n",
      "Unemployment     -0.095315\n",
      "Oil_Prices        0.784493\n",
      "VIX               0.167307\n",
      "Name: 2024-11-09 00:00:00, dtype: float64\u001b[0m\n",
      "\u001b[32m2025-07-05 20:06:57.070\u001b[0m | \u001b[34m\u001b[1mDEBUG   \u001b[0m | \u001b[36mquantfolio_engine.optimizer.black_litterman\u001b[0m:\u001b[36mcreate_factor_timing_views\u001b[0m:\u001b[36m325\u001b[0m - \u001b[34m\u001b[1mLatest exposures index: Index(['GDP_Growth', 'Inflation', 'Interest_Rates', 'Unemployment',\n",
      "       'Oil_Prices', 'VIX'],\n",
      "      dtype='object')\u001b[0m\n",
      "\u001b[32m2025-07-05 20:06:57.070\u001b[0m | \u001b[1mINFO    \u001b[0m | \u001b[36mquantfolio_engine.optimizer.black_litterman\u001b[0m:\u001b[36mcreate_factor_timing_views\u001b[0m:\u001b[36m380\u001b[0m - \u001b[1mRegime 3.0: Using view strength multiplier 1.00\u001b[0m\n",
      "\u001b[32m2025-07-05 20:06:57.070\u001b[0m | \u001b[1mINFO    \u001b[0m | \u001b[36mquantfolio_engine.optimizer.black_litterman\u001b[0m:\u001b[36mcreate_factor_timing_views\u001b[0m:\u001b[36m383\u001b[0m - \u001b[1mAdjusted view strength: 1.500\u001b[0m\n",
      "\u001b[32m2025-07-05 20:06:57.073\u001b[0m | \u001b[33m\u001b[1mWARNING \u001b[0m | \u001b[36mquantfolio_engine.optimizer.black_litterman\u001b[0m:\u001b[36mcreate_factor_timing_views\u001b[0m:\u001b[36m603\u001b[0m - \u001b[33m\u001b[1mNo factor timing views created\u001b[0m\n",
      "\u001b[32m2025-07-05 20:06:57.073\u001b[0m | \u001b[1mINFO    \u001b[0m | \u001b[36mquantfolio_engine.optimizer.black_litterman\u001b[0m:\u001b[36moptimize_portfolio\u001b[0m:\u001b[36m704\u001b[0m - \u001b[1mNo views available - using equilibrium returns with prior covariance\u001b[0m\n",
      "\u001b[32m2025-07-05 20:06:57.073\u001b[0m | \u001b[1mINFO    \u001b[0m | \u001b[36mquantfolio_engine.optimizer.black_litterman\u001b[0m:\u001b[36m_optimize_weights\u001b[0m:\u001b[36m815\u001b[0m - \u001b[1mApplying long-only portfolio constraints (no short selling)\u001b[0m\n",
      "\u001b[32m2025-07-05 20:06:57.079\u001b[0m | \u001b[1mINFO    \u001b[0m | \u001b[36mquantfolio_engine.optimizer.black_litterman\u001b[0m:\u001b[36moptimize_portfolio\u001b[0m:\u001b[36m742\u001b[0m - \u001b[1mPortfolio metrics calculation:\u001b[0m\n",
      "\u001b[32m2025-07-05 20:06:57.079\u001b[0m | \u001b[1mINFO    \u001b[0m | \u001b[36mquantfolio_engine.optimizer.black_litterman\u001b[0m:\u001b[36moptimize_portfolio\u001b[0m:\u001b[36m743\u001b[0m - \u001b[1m  Monthly return: 0.002188\u001b[0m\n",
      "\u001b[32m2025-07-05 20:06:57.079\u001b[0m | \u001b[1mINFO    \u001b[0m | \u001b[36mquantfolio_engine.optimizer.black_litterman\u001b[0m:\u001b[36moptimize_portfolio\u001b[0m:\u001b[36m744\u001b[0m - \u001b[1m  Monthly volatility: 0.014394\u001b[0m\n",
      "\u001b[32m2025-07-05 20:06:57.079\u001b[0m | \u001b[1mINFO    \u001b[0m | \u001b[36mquantfolio_engine.optimizer.black_litterman\u001b[0m:\u001b[36moptimize_portfolio\u001b[0m:\u001b[36m745\u001b[0m - \u001b[1m  Annual return: 0.026254\u001b[0m\n",
      "\u001b[32m2025-07-05 20:06:57.079\u001b[0m | \u001b[1mINFO    \u001b[0m | \u001b[36mquantfolio_engine.optimizer.black_litterman\u001b[0m:\u001b[36moptimize_portfolio\u001b[0m:\u001b[36m746\u001b[0m - \u001b[1m  Annual volatility: 0.049862\u001b[0m\n",
      "\u001b[32m2025-07-05 20:06:57.079\u001b[0m | \u001b[1mINFO    \u001b[0m | \u001b[36mquantfolio_engine.optimizer.black_litterman\u001b[0m:\u001b[36moptimize_portfolio\u001b[0m:\u001b[36m747\u001b[0m - \u001b[1m  Risk-free rate: 0.045000\u001b[0m\n",
      "\u001b[32m2025-07-05 20:06:57.079\u001b[0m | \u001b[1mINFO    \u001b[0m | \u001b[36mquantfolio_engine.optimizer.black_litterman\u001b[0m:\u001b[36moptimize_portfolio\u001b[0m:\u001b[36m748\u001b[0m - \u001b[1m  Sharpe ratio: -0.375971\u001b[0m\n",
      "\u001b[32m2025-07-05 20:06:57.079\u001b[0m | \u001b[1mINFO    \u001b[0m | \u001b[36mquantfolio_engine.optimizer.black_litterman\u001b[0m:\u001b[36moptimize_portfolio\u001b[0m:\u001b[36m749\u001b[0m - \u001b[1m  Max drawdown: -0.027130\u001b[0m\n",
      "\u001b[32m2025-07-05 20:06:57.079\u001b[0m | \u001b[1mINFO    \u001b[0m | \u001b[36mquantfolio_engine.optimizer.black_litterman\u001b[0m:\u001b[36moptimize_portfolio\u001b[0m:\u001b[36m750\u001b[0m - \u001b[1m  VaR (95%): -0.012501\u001b[0m\n",
      "\u001b[32m2025-07-05 20:06:57.079\u001b[0m | \u001b[32m\u001b[1mSUCCESS \u001b[0m | \u001b[36mquantfolio_engine.optimizer.black_litterman\u001b[0m:\u001b[36moptimize_portfolio\u001b[0m:\u001b[36m764\u001b[0m - \u001b[32m\u001b[1mPortfolio optimization completed. Sharpe: -0.376\u001b[0m\n",
      "\n",
      "Black-Litterman Results:\n",
      "Expected Return: 0.026\n",
      "Volatility: 0.050\n",
      "Sharpe Ratio: -0.376\n",
      "Max Drawdown: -0.027\n",
      "VaR (95%): -0.013\n",
      "\n",
      "Optimal Weights:\n",
      "  SPY: 0.096\n",
      "  TLT: 0.109\n",
      "  GLD: 0.084\n",
      "  AAPL: 0.074\n",
      "  MSFT: 0.081\n",
      "  JPM: 0.078\n",
      "  UNH: 0.080\n",
      "  WMT: 0.093\n",
      "  XLE: 0.066\n",
      "  BA: 0.071\n",
      "  IWM: 0.081\n",
      "  EFA: 0.086\n",
      "\n",
      "Constraint validation:\n",
      "Weights sum to 1: True\n",
      "All weights >= 0: True\n",
      "All weights <= max_weight: True\n"
     ]
    }
   ],
   "source": [
    "# Test Black-Litterman optimization\n",
    "print(\"Testing Black-Litterman optimization...\")\n",
    "bl_engine = PortfolioOptimizationEngine(method='black_litterman', risk_free_rate=0.045)\n",
    "bl_result = bl_engine.optimize_portfolio(\n",
    "    data=data,\n",
    "    constraints={'max_weight': 0.20, 'min_weight': 0.03}\n",
    ")\n",
    "\n",
    "print(\"\\nBlack-Litterman Results:\")\n",
    "print(f\"Expected Return: {bl_result['expected_return']:.3f}\")\n",
    "print(f\"Volatility: {bl_result['volatility']:.3f}\")\n",
    "print(f\"Sharpe Ratio: {bl_result['sharpe_ratio']:.3f}\")\n",
    "print(f\"Max Drawdown: {bl_result['max_drawdown']:.3f}\")\n",
    "print(f\"VaR (95%): {bl_result['var_95']:.3f}\")\n",
    "\n",
    "print(\"\\nOptimal Weights:\")\n",
    "for asset, weight in bl_result['weights'].items():\n",
    "    print(f\"  {asset}: {weight:.3f}\")\n",
    "\n",
    "# Validate constraints\n",
    "weights_array = np.array(list(bl_result['weights'].values))\n",
    "print(f\"\\nConstraint validation:\")\n",
    "print(f\"Weights sum to 1: {abs(np.sum(weights_array) - 1) < 0.01}\")\n",
    "print(f\"All weights >= 0: {np.all(weights_array >= 0)}\")\n",
    "print(f\"All weights <= max_weight: {np.all(weights_array <= 0.20)}\")"
   ]
  },
  {
   "cell_type": "markdown",
   "metadata": {},
   "source": [
    "## 3. Compare Results"
   ]
  },
  {
   "cell_type": "code",
   "execution_count": 13,
   "metadata": {},
   "outputs": [
    {
     "name": "stdout",
     "output_type": "stream",
     "text": [
      "Optimization Method Comparison:\n",
      "            Metric  Monte Carlo  Black-Litterman\n",
      "0  Expected Return       0.1689           0.0263\n",
      "1       Volatility       0.0909           0.0499\n",
      "2     Sharpe Ratio       1.3632          -0.3760\n",
      "3     Max Drawdown      -0.0356          -0.0271\n",
      "4        VaR (95%)      -0.0292          -0.0125\n"
     ]
    },
    {
     "data": {
      "image/png": "[encoded data removed]",
      "text/plain": [
       "<Figure size 1500x600 with 2 Axes>"
      ]
     },
     "metadata": {},
     "output_type": "display_data"
    }
   ],
   "source": [
    "# Compare optimization results\n",
    "comparison_data = {\n",
    "    'Metric': ['Expected Return', 'Volatility', 'Sharpe Ratio', 'Max Drawdown', 'VaR (95%)'],\n",
    "    'Monte Carlo': [mc_result['expected_return'], mc_result['volatility'], mc_result['sharpe_ratio'], \n",
    "                    mc_result['max_drawdown'], mc_result['var_95']],\n",
    "    'Black-Litterman': [bl_result['expected_return'], bl_result['volatility'], bl_result['sharpe_ratio'], \n",
    "                         bl_result['max_drawdown'], bl_result['var_95']]\n",
    "}\n",
    "\n",
    "comparison_df = pd.DataFrame(comparison_data)\n",
    "print(\"Optimization Method Comparison:\")\n",
    "print(comparison_df.round(4))\n",
    "\n",
    "# Plot weight comparison\n",
    "fig, (ax1, ax2) = plt.subplots(1, 2, figsize=(15, 6))\n",
    "\n",
    "# Monte Carlo weights\n",
    "mc_weights = list(mc_result['weights'].values)\n",
    "ax1.bar(assets, mc_weights, alpha=0.7, color='blue')\n",
    "ax1.set_title('Monte Carlo Weights')\n",
    "ax1.set_ylabel('Weight')\n",
    "ax1.tick_params(axis='x', rotation=45)\n",
    "\n",
    "# Black-Litterman weights\n",
    "bl_weights = list(bl_result['weights'].values)\n",
    "ax2.bar(assets, bl_weights, alpha=0.7, color='green')\n",
    "ax2.set_title('Black-Litterman Weights')\n",
    "ax2.set_ylabel('Weight')\n",
    "ax2.tick_params(axis='x', rotation=45)\n",
    "\n",
    "plt.tight_layout()\n",
    "plt.show()"
   ]
  },
  {
   "cell_type": "markdown",
   "metadata": {},
   "source": [
    "## 4. Analysis and Recommendations"
   ]
  },
  {
   "cell_type": "code",
   "execution_count": 14,
   "metadata": {},
   "outputs": [
    {
     "name": "stdout",
     "output_type": "stream",
     "text": [
      "Analysis:\n",
      "==================================================\n",
      "Monte Carlo equal weights: False\n",
      "Black-Litterman equal weights: False\n",
      "\n",
      "Concentration analysis:\n",
      "Monte Carlo max weight: 0.200\n",
      "Black-Litterman max weight: 0.109\n",
      "\n",
      "Monte Carlo performs better (Sharpe: 1.363 vs -0.376)\n",
      "\n",
      "Recommendations:\n",
      "- Monte Carlo portfolio is concentrated (consider diversification constraints)\n"
     ]
    }
   ],
   "source": [
    "# Analyze the results\n",
    "print(\"Analysis:\")\n",
    "print(\"=\" * 50)\n",
    "\n",
    "# Check if weights are equal (indicates fallback)\n",
    "mc_equal = len(set(mc_weights)) == 1\n",
    "bl_equal = len(set(bl_weights)) == 1\n",
    "\n",
    "print(f\"Monte Carlo equal weights: {mc_equal}\")\n",
    "print(f\"Black-Litterman equal weights: {bl_equal}\")\n",
    "\n",
    "# Check concentration\n",
    "mc_max_weight = max(mc_weights)\n",
    "bl_max_weight = max(bl_weights)\n",
    "\n",
    "print(f\"\\nConcentration analysis:\")\n",
    "print(f\"Monte Carlo max weight: {mc_max_weight:.3f}\")\n",
    "print(f\"Black-Litterman max weight: {bl_max_weight:.3f}\")\n",
    "\n",
    "# Performance comparison\n",
    "if mc_result['sharpe_ratio'] > bl_result['sharpe_ratio']:\n",
    "    print(f\"\\nMonte Carlo performs better (Sharpe: {mc_result['sharpe_ratio']:.3f} vs {bl_result['sharpe_ratio']:.3f})\")\n",
    "else:\n",
    "    print(f\"\\nBlack-Litterman performs better (Sharpe: {bl_result['sharpe_ratio']:.3f} vs {mc_result['sharpe_ratio']:.3f})\")\n",
    "\n",
    "print(\"\\nRecommendations:\")\n",
    "if mc_equal:\n",
    "    print(\"- Monte Carlo is falling back to equal weights (check regime detection)\")\n",
    "if bl_equal:\n",
    "    print(\"- Black-Litterman is falling back to equal weights (check factor timing views)\")\n",
    "if mc_max_weight > 0.15:\n",
    "    print(\"- Monte Carlo portfolio is concentrated (consider diversification constraints)\")\n",
    "if bl_max_weight > 0.15:\n",
    "    print(\"- Black-Litterman portfolio is concentrated (consider diversification constraints)\")"
   ]
  }
 ],
 "metadata": {
  "kernelspec": {
   "display_name": "quantfolio-engine",
   "language": "python",
   "name": "python3"
  },
  "language_info": {
   "codemirror_mode": {
    "name": "ipython",
    "version": 3
   },
   "file_extension": ".py",
   "mimetype": "text/x-python",
   "name": "python",
   "nbconvert_exporter": "python",
   "pygments_lexer": "ipython3",
   "version": "3.11.13"
  }
 },
 "nbformat": 4,
 "nbformat_minor": 4
}
