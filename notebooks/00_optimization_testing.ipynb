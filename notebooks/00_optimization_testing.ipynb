{
 "cells": [
  {
   "cell_type": "markdown",
   "metadata": {},
   "source": [
    "# Portfolio Optimization Testing with Pseudo Data\n",
    "\n",
    "This notebook tests the portfolio optimization functionality using realistic pseudo data to verify the code is working properly."
   ]
  },
  {
   "cell_type": "code",
   "execution_count": 1,
   "metadata": {},
   "outputs": [],
   "source": [
    "import numpy as np\n",
    "import pandas as pd\n",
    "import matplotlib.pyplot as plt\n",
    "import seaborn as sns\n",
    "from datetime import datetime, timedelta\n",
    "import warnings\n",
    "warnings.filterwarnings('ignore')\n",
    "\n",
    "# Set random seed for reproducibility\n",
    "np.random.seed(42)\n",
    "plt.style.use('seaborn-v0_8')\n",
    "sns.set_palette(\"husl\")"
   ]
  },
  {
   "cell_type": "markdown",
   "metadata": {},
   "source": [
    "## 1. Generate Realistic Pseudo Data"
   ]
  },
  {
   "cell_type": "code",
   "execution_count": 2,
   "metadata": {},
   "outputs": [
    {
     "name": "stdout",
     "output_type": "stream",
     "text": [
      "Generated returns data shape: (120, 12)\n",
      "\n",
      "Sample returns:\n",
      "                 SPY       TLT       GLD      AAPL      MSFT       JPM  \\\n",
      "2015-01-31  0.011240  0.010378 -0.039169 -0.004398  0.056083 -0.056115   \n",
      "2015-02-28 -0.006016 -0.026099  0.006354 -0.081061 -0.099756 -0.049120   \n",
      "2015-03-31  0.020968  0.011069  0.021004  0.004724  0.025657 -0.006510   \n",
      "2015-04-30 -0.003294 -0.000862  0.012039 -0.086903 -0.090258 -0.052434   \n",
      "2015-05-31 -0.006032  0.003521 -0.049129 -0.008779 -0.085538 -0.059763   \n",
      "\n",
      "                 UNH       WMT       XLE        BA       IWM       EFA  \n",
      "2015-01-31 -0.030056 -0.006354 -0.035728  0.013018 -0.033523 -0.025558  \n",
      "2015-02-28 -0.016856  0.012389  0.071763 -0.031870  0.009813  0.019012  \n",
      "2015-03-31  0.042190  0.015647  0.055293  0.053540  0.069057  0.065086  \n",
      "2015-04-30  0.002046  0.021717 -0.024405  0.011181  0.020847  0.007006  \n",
      "2015-05-31 -0.026295 -0.011311 -0.012835  0.010293 -0.028465  0.017159  \n"
     ]
    }
   ],
   "source": [
    "# Generate realistic asset returns\n",
    "n_assets = 12\n",
    "n_periods = 120  # 10 years of monthly data\n",
    "\n",
    "# Define asset characteristics\n",
    "assets = ['SPY', 'TLT', 'GLD', 'AAPL', 'MSFT', 'JPM', 'UNH', 'WMT', 'XLE', 'BA', 'IWM', 'EFA']\n",
    "\n",
    "# Realistic annual returns and volatilities (based on historical data)\n",
    "annual_returns = [0.10, 0.04, 0.08, 0.15, 0.12, 0.08, 0.11, 0.09, 0.12, 0.08, 0.08, 0.06]\n",
    "annual_vols = [0.15, 0.12, 0.20, 0.25, 0.22, 0.18, 0.16, 0.20, 0.18, 0.25, 0.18, 0.16]\n",
    "\n",
    "# Correlation matrix (realistic correlations between asset classes)\n",
    "corr_matrix = np.array([\n",
    "    [1.00, 0.95, 0.85, 0.70, -0.30, 0.10, 0.60, 0.80, 0.70, 0.90, 0.80, 0.60],\n",
    "    [0.95, 1.00, 0.80, 0.65, -0.25, 0.15, 0.55, 0.75, 0.65, 0.95, 0.75, 0.55],\n",
    "    [0.85, 0.80, 1.00, 0.60, -0.20, 0.20, 0.50, 0.70, 0.60, 0.80, 0.85, 0.50],\n",
    "    [0.70, 0.65, 0.60, 1.00, -0.15, 0.25, 0.45, 0.60, 0.55, 0.65, 0.60, 0.45],\n",
    "    [-0.30, -0.25, -0.20, -0.15, 1.00, 0.30, -0.20, -0.25, -0.20, -0.30, -0.25, -0.15],\n",
    "    [0.10, 0.15, 0.20, 0.25, 0.30, 1.00, 0.40, 0.15, 0.20, 0.15, 0.10, 0.25],\n",
    "    [0.60, 0.55, 0.50, 0.45, -0.20, 0.40, 1.00, 0.65, 0.50, 0.55, 0.70, 0.40],\n",
    "    [0.80, 0.75, 0.70, 0.60, -0.25, 0.15, 0.65, 1.00, 0.75, 0.80, 0.75, 0.60],\n",
    "    [0.70, 0.65, 0.60, 0.55, -0.20, 0.20, 0.50, 0.75, 1.00, 0.65, 0.70, 0.80],\n",
    "    [0.90, 0.95, 0.80, 0.65, -0.30, 0.15, 0.55, 0.80, 0.65, 1.00, 0.80, 0.55],\n",
    "    [0.80, 0.75, 0.85, 0.60, -0.25, 0.10, 0.70, 0.75, 0.70, 0.80, 1.00, 0.60],\n",
    "    [0.60, 0.55, 0.50, 0.45, -0.15, 0.25, 0.40, 0.60, 0.80, 0.55, 0.60, 1.00]\n",
    "])\n",
    "\n",
    "# Convert to covariance matrix\n",
    "cov_matrix = np.zeros((n_assets, n_assets))\n",
    "for i in range(n_assets):\n",
    "    for j in range(n_assets):\n",
    "        cov_matrix[i, j] = corr_matrix[i, j] * annual_vols[i] * annual_vols[j]\n",
    "\n",
    "# Generate monthly returns\n",
    "monthly_returns = np.random.multivariate_normal(\n",
    "    mean=[r/12 for r in annual_returns],\n",
    "    cov=cov_matrix/12,\n",
    "    size=n_periods\n",
    ")\n",
    "\n",
    "# Create date range\n",
    "dates = pd.date_range(start='2015-01-01', periods=n_periods, freq='M')\n",
    "\n",
    "# Create returns DataFrame\n",
    "returns_df = pd.DataFrame(monthly_returns, index=dates, columns=assets)\n",
    "print(\"Generated returns data shape:\", returns_df.shape)\n",
    "print(\"\\nSample returns:\")\n",
    "print(returns_df.head())"
   ]
  },
  {
   "cell_type": "code",
   "execution_count": 3,
   "metadata": {},
   "outputs": [
    {
     "name": "stdout",
     "output_type": "stream",
     "text": [
      "Factor exposures shape: (120, 6)\n",
      "\n",
      "Factor exposures:\n",
      "            GDP_Growth  Inflation  Interest_Rates  Unemployment  Oil_Prices  \\\n",
      "2015-01-31       0.999      0.352          -0.646        -0.389       0.720   \n",
      "2015-02-28       0.641      0.176          -0.329         0.006       0.693   \n",
      "2015-03-31       0.872      0.781          -0.530        -0.528       0.826   \n",
      "2015-04-30       1.187      0.202          -0.742        -0.367       0.537   \n",
      "2015-05-31       0.626      0.177          -0.199         0.118       0.241   \n",
      "...                ...        ...             ...           ...         ...   \n",
      "2024-08-31       0.932      0.006          -0.498         0.178       0.494   \n",
      "2024-09-30       0.831      0.465          -1.072        -0.440       0.649   \n",
      "2024-10-31       0.852      0.073          -0.767         0.447       0.120   \n",
      "2024-11-30       0.769     -0.493          -0.753         0.498       0.606   \n",
      "2024-12-31       0.422     -0.185          -0.813        -0.095       0.984   \n",
      "\n",
      "              VIX  \n",
      "2015-01-31 -0.195  \n",
      "2015-02-28  0.511  \n",
      "2015-03-31  0.114  \n",
      "2015-04-30 -0.255  \n",
      "2015-05-31  0.133  \n",
      "...           ...  \n",
      "2024-08-31 -0.172  \n",
      "2024-09-30  0.015  \n",
      "2024-10-31 -0.249  \n",
      "2024-11-30  0.069  \n",
      "2024-12-31  0.167  \n",
      "\n",
      "[120 rows x 6 columns]\n"
     ]
    }
   ],
   "source": [
    "# Generate factor exposures (macro factors)\n",
    "n_factors = 6\n",
    "factor_names = ['GDP_Growth', 'Inflation', 'Interest_Rates', 'Unemployment', 'Oil_Prices', 'VIX']\n",
    "\n",
    "# Realistic factor exposures\n",
    "factor_exposures = np.random.normal(0, 0.3, (n_periods, n_factors))\n",
    "# Make some exposures more realistic\n",
    "factor_exposures[:, 0] += 0.8  # High GDP exposure trend\n",
    "factor_exposures[:, 2] += -0.7  # Negative interest rate exposure trend\n",
    "factor_exposures[:, 4] += 0.6   # Positive oil exposure trend\n",
    "\n",
    "factor_exposures_df = pd.DataFrame(factor_exposures, index=dates, columns=factor_names)\n",
    "print(\"Factor exposures shape:\", factor_exposures_df.shape)\n",
    "print(\"\\nFactor exposures:\")\n",
    "print(factor_exposures_df.round(3))"
   ]
  },
  {
   "cell_type": "code",
   "execution_count": 4,
   "metadata": {},
   "outputs": [
    {
     "name": "stdout",
     "output_type": "stream",
     "text": [
      "Regime data shape: (120, 4)\n",
      "\n",
      "Sample regime probabilities:\n",
      "            Bull_Market   Bear_Market  Sideways        Crisis\n",
      "2015-01-31     0.630389  7.226173e-03  0.009188  3.531972e-01\n",
      "2015-02-28     0.412729  1.890191e-04  0.587082  5.192709e-09\n",
      "2015-03-31     0.578558  8.908897e-02  0.000532  3.318210e-01\n",
      "2015-04-30     0.765788  5.653271e-07  0.234211  3.371771e-13\n",
      "2015-05-31     0.633642  6.747047e-02  0.294177  4.710371e-03\n"
     ]
    }
   ],
   "source": [
    "# Generate regime data\n",
    "n_regimes = 4\n",
    "regime_names = ['Bull_Market', 'Bear_Market', 'Sideways', 'Crisis']\n",
    "\n",
    "# Regime probabilities for each period\n",
    "regime_probs = np.random.dirichlet([0.4, 0.2, 0.3, 0.1], size=n_periods)\n",
    "regime_df = pd.DataFrame(regime_probs, index=dates, columns=regime_names)\n",
    "\n",
    "print(\"Regime data shape:\", regime_df.shape)\n",
    "print(\"\\nSample regime probabilities:\")\n",
    "print(regime_df.head())"
   ]
  },
  {
   "cell_type": "code",
   "execution_count": 5,
   "metadata": {},
   "outputs": [
    {
     "name": "stdout",
     "output_type": "stream",
     "text": [
      "Sentiment data shape: (120, 8)\n",
      "\n",
      "Sample sentiment data:\n",
      "            Earnings_Sentiment  Fed_Sentiment  Growth_Sentiment  \\\n",
      "2015-01-31           -0.572342      -0.258116         -0.124082   \n",
      "2015-02-28            0.324807      -0.141337         -0.028091   \n",
      "2015-03-31           -0.455804      -0.849647         -0.135348   \n",
      "2015-04-30           -0.560923      -0.116556          0.057127   \n",
      "2015-05-31            0.136053      -0.294688          0.017695   \n",
      "\n",
      "            Inflation_Sentiment  Recession_Sentiment  Oil_Sentiment  \\\n",
      "2015-01-31             0.566306             0.166966      -0.400644   \n",
      "2015-02-28             0.397739            -0.386149      -0.419135   \n",
      "2015-03-31             0.165522             0.360079      -0.138948   \n",
      "2015-04-30             0.134766            -0.152942       0.010332   \n",
      "2015-05-31             0.134062            -0.102765       0.051139   \n",
      "\n",
      "            Tech_Sentiment  Financial_Sentiment  \n",
      "2015-01-31        0.145811            -0.464191  \n",
      "2015-02-28       -0.175080             0.311514  \n",
      "2015-03-31       -0.123428             0.346170  \n",
      "2015-04-30       -0.746498            -0.197475  \n",
      "2015-05-31       -0.288820            -0.061983  \n"
     ]
    }
   ],
   "source": [
    "# Generate sentiment data\n",
    "n_sentiment_factors = 8\n",
    "sentiment_names = ['Earnings_Sentiment', 'Fed_Sentiment', 'Growth_Sentiment', 'Inflation_Sentiment', \n",
    "                   'Recession_Sentiment', 'Oil_Sentiment', 'Tech_Sentiment', 'Financial_Sentiment']\n",
    "\n",
    "# Generate realistic sentiment scores (-1 to 1)\n",
    "sentiment_data = np.random.normal(0, 0.3, (n_periods, n_sentiment_factors))\n",
    "sentiment_df = pd.DataFrame(sentiment_data, index=dates, columns=sentiment_names)\n",
    "\n",
    "print(\"Sentiment data shape:\", sentiment_df.shape)\n",
    "print(\"\\nSample sentiment data:\")\n",
    "print(sentiment_df.head())"
   ]
  },
  {
   "cell_type": "code",
   "execution_count": 6,
   "metadata": {},
   "outputs": [
    {
     "name": "stdout",
     "output_type": "stream",
     "text": [
      "Macro data shape: (120, 6)\n",
      "\n",
      "Sample macro data:\n",
      "            GDP_Growth  Inflation  Interest_Rates  Unemployment  Oil_Prices  \\\n",
      "2015-01-31   -0.365816   0.945220        0.024654      0.384420   -0.304113   \n",
      "2015-02-28    0.155555  -0.940623        1.016041      0.645322   -0.198598   \n",
      "2015-03-31    0.173781   0.051752        0.194641      0.095789    0.253120   \n",
      "2015-04-30    0.284052  -0.512223        0.706492      0.820307    1.576028   \n",
      "2015-05-31    0.121441  -1.024243        0.310188     -0.274100    0.961723   \n",
      "\n",
      "                 VIX  \n",
      "2015-01-31  0.181558  \n",
      "2015-02-28 -0.551135  \n",
      "2015-03-31  0.723653  \n",
      "2015-04-30 -0.561747  \n",
      "2015-05-31 -0.387307  \n"
     ]
    }
   ],
   "source": [
    "# Generate macro data\n",
    "n_macro_factors = 6\n",
    "macro_names = ['GDP_Growth', 'Inflation', 'Interest_Rates', 'Unemployment', 'Oil_Prices', 'VIX']\n",
    "\n",
    "# Generate realistic macro data with trends\n",
    "macro_data = np.random.normal(0, 0.5, (n_periods, n_macro_factors))\n",
    "# Add some realistic trends\n",
    "macro_data[:, 1] += np.linspace(0, 0.5, n_periods)  # Inflation trend\n",
    "macro_data[:, 2] += np.linspace(0, 1.0, n_periods)  # Interest rate trend\n",
    "\n",
    "macro_df = pd.DataFrame(macro_data, index=dates, columns=macro_names)\n",
    "\n",
    "print(\"Macro data shape:\", macro_df.shape)\n",
    "print(\"\\nSample macro data:\")\n",
    "print(macro_df.head())"
   ]
  },
  {
   "cell_type": "markdown",
   "metadata": {},
   "source": [
    "## 2. Test Portfolio Optimization"
   ]
  },
  {
   "cell_type": "code",
   "execution_count": 7,
   "metadata": {},
   "outputs": [
    {
     "name": "stderr",
     "output_type": "stream",
     "text": [
      "\u001b[32m2025-07-05 20:06:28.487\u001b[0m | \u001b[1mINFO    \u001b[0m | \u001b[36mquantfolio_engine.config\u001b[0m:\u001b[36m<module>\u001b[0m:\u001b[36m14\u001b[0m - \u001b[1mPROJ_ROOT path is: /Users/dominusdeorum/Documents/Vanderbilt/Projects/quantfolio-engine\u001b[0m\n"
     ]
    },
    {
     "name": "stdout",
     "output_type": "stream",
     "text": [
      "Returns shape: (120, 12)\n",
      "Factor exposures shape: (120, 6)\n",
      "Factor regimes shape: (120, 4)\n",
      "Sentiment data shape: (120, 8)\n",
      "Macro data shape: (120, 6)\n"
     ]
    }
   ],
   "source": [
    "# Import optimization modules\n",
    "import sys\n",
    "sys.path.append('..')\n",
    "\n",
    "from quantfolio_engine.optimizer.portfolio_engine import PortfolioOptimizationEngine\n",
    "\n",
    "\n",
    "# Initialize portfolio engine\n",
    "engine = PortfolioOptimizationEngine()\n",
    "\n",
    "# Use the pseudo data directly instead of loading from files\n",
    "data = {\n",
    "    'returns': returns_df,\n",
    "    'factor_exposures': factor_exposures_df,\n",
    "    'factor_regimes': regime_df,\n",
    "    'sentiment': sentiment_df,\n",
    "    'macro': macro_df\n",
    "}\n",
    "print(f\"Returns shape: {data['returns'].shape}\")\n",
    "print(f\"Factor exposures shape: {data['factor_exposures'].shape}\")\n",
    "print(f\"Factor regimes shape: {data['factor_regimes'].shape}\")\n",
    "print(f\"Sentiment data shape: {data['sentiment'].shape}\")\n",
    "print(f\"Macro data shape: {data['macro'].shape}\")"
   ]
  },
  {
   "cell_type": "code",
   "execution_count": 8,
   "metadata": {},
   "outputs": [
    {
     "name": "stdout",
     "output_type": "stream",
     "text": [
      "Testing Monte Carlo optimization...\n",
      "\u001b[32m2025-07-05 20:06:28.789\u001b[0m | \u001b[1mINFO    \u001b[0m | \u001b[36mquantfolio_engine.optimizer.portfolio_engine\u001b[0m:\u001b[36moptimize_portfolio\u001b[0m:\u001b[36m205\u001b[0m - \u001b[1mStarting portfolio optimization using monte_carlo method...\u001b[0m\n",
      "\u001b[32m2025-07-05 20:06:28.809\u001b[0m | \u001b[1mINFO    \u001b[0m | \u001b[36mquantfolio_engine.optimizer.portfolio_engine\u001b[0m:\u001b[36m_optimize_monte_carlo\u001b[0m:\u001b[36m303\u001b[0m - \u001b[1mRunning Monte Carlo optimization...\u001b[0m\n",
      "\u001b[32m2025-07-05 20:06:28.810\u001b[0m | \u001b[1mINFO    \u001b[0m | \u001b[36mquantfolio_engine.optimizer.monte_carlo\u001b[0m:\u001b[36mgenerate_scenarios\u001b[0m:\u001b[36m91\u001b[0m - \u001b[1mGenerating 1000 Monte Carlo scenarios...\u001b[0m\n",
      "\u001b[32m2025-07-05 20:06:28.814\u001b[0m | \u001b[1mINFO    \u001b[0m | \u001b[36mquantfolio_engine.optimizer.monte_carlo\u001b[0m:\u001b[36mgenerate_scenarios\u001b[0m:\u001b[36m110\u001b[0m - \u001b[1mGenerated scenarios with shape: (1000, 12, 12)\u001b[0m\n",
      "\u001b[32m2025-07-05 20:06:28.814\u001b[0m | \u001b[1mINFO    \u001b[0m | \u001b[36mquantfolio_engine.optimizer.monte_carlo\u001b[0m:\u001b[36moptimize_with_constraints\u001b[0m:\u001b[36m136\u001b[0m - \u001b[1mOptimizing portfolio with Monte Carlo constraints...\u001b[0m\n",
      "\u001b[32m2025-07-05 20:06:28.814\u001b[0m | \u001b[1mINFO    \u001b[0m | \u001b[36mquantfolio_engine.optimizer.monte_carlo\u001b[0m:\u001b[36moptimize_with_constraints\u001b[0m:\u001b[36m151\u001b[0m - \u001b[1mAnnualizing mean and covariance with factor 12.00\u001b[0m\n",
      "\u001b[32m2025-07-05 20:06:28.866\u001b[0m | \u001b[32m\u001b[1mSUCCESS \u001b[0m | \u001b[36mquantfolio_engine.optimizer.monte_carlo\u001b[0m:\u001b[36moptimize_with_constraints\u001b[0m:\u001b[36m233\u001b[0m - \u001b[32m\u001b[1mMonte Carlo optimization completed. Sharpe: -0.008\u001b[0m\n",
      "\n",
      "Monte Carlo Results:\n",
      "Expected Return: 0.044\n",
      "Volatility: 0.098\n",
      "Sharpe Ratio: -0.008\n",
      "Max Drawdown: -0.070\n",
      "VaR (95%): -0.043\n",
      "\n",
      "Optimal Weights:\n",
      "  SPY: 0.228\n",
      "  TLT: 0.072\n",
      "  GLD: 0.050\n",
      "  AAPL: 0.050\n",
      "  MSFT: 0.250\n",
      "  JPM: 0.050\n",
      "  UNH: 0.050\n",
      "  WMT: 0.050\n",
      "  XLE: 0.050\n",
      "  BA: 0.050\n",
      "  IWM: 0.050\n",
      "  EFA: 0.050\n"
     ]
    }
   ],
   "source": [
    "# Test Monte Carlo optimization\n",
    "print(\"Testing Monte Carlo optimization...\")\n",
    "mc_engine = PortfolioOptimizationEngine(method='monte_carlo', risk_free_rate=0.045)  # 4.5% annual\n",
    "mc_result = mc_engine.optimize_portfolio(\n",
    "    data=data,\n",
    "    constraints={'max_weight': 0.25, 'min_weight': 0.05}\n",
    ")\n",
    "\n",
    "print(\"\\nMonte Carlo Results:\")\n",
    "print(f\"Expected Return: {mc_result['expected_return']:.3f}\")\n",
    "print(f\"Volatility: {mc_result['volatility']:.3f}\")\n",
    "print(f\"Sharpe Ratio: {mc_result['sharpe_ratio']:.3f}\")\n",
    "print(f\"Max Drawdown: {mc_result['max_drawdown']:.3f}\")\n",
    "print(f\"VaR (95%): {mc_result['var_95']:.3f}\")\n",
    "print(\"\\nOptimal Weights:\")\n",
    "for asset, weight in mc_result['weights'].items():\n",
    "    print(f\"  {asset}: {weight:.3f}\")"
   ]
  },
  {
   "cell_type": "code",
   "execution_count": 9,
   "metadata": {},
   "outputs": [
    {
     "name": "stdout",
     "output_type": "stream",
     "text": [
      "Testing Black-Litterman optimization...\n",
      "\u001b[32m2025-07-05 20:06:28.875\u001b[0m | \u001b[1mINFO    \u001b[0m | \u001b[36mquantfolio_engine.optimizer.portfolio_engine\u001b[0m:\u001b[36moptimize_portfolio\u001b[0m:\u001b[36m205\u001b[0m - \u001b[1mStarting portfolio optimization using black_litterman method...\u001b[0m\n",
      "\u001b[32m2025-07-05 20:06:28.875\u001b[0m | \u001b[1mINFO    \u001b[0m | \u001b[36mquantfolio_engine.optimizer.portfolio_engine\u001b[0m:\u001b[36m_optimize_black_litterman\u001b[0m:\u001b[36m231\u001b[0m - \u001b[1mRunning Black-Litterman optimization...\u001b[0m\n",
      "\u001b[32m2025-07-05 20:06:28.875\u001b[0m | \u001b[1mINFO    \u001b[0m | \u001b[36mquantfolio_engine.optimizer.black_litterman\u001b[0m:\u001b[36mcalibrate_market_risk_aversion\u001b[0m:\u001b[36m884\u001b[0m - \u001b[1mCalibrating market risk aversion λ...\u001b[0m\n",
      "\u001b[32m2025-07-05 20:06:28.876\u001b[0m | \u001b[1mINFO    \u001b[0m | \u001b[36mquantfolio_engine.optimizer.black_litterman\u001b[0m:\u001b[36mcalibrate_market_risk_aversion\u001b[0m:\u001b[36m905\u001b[0m - \u001b[1mHistorical market Sharpe: -0.170\u001b[0m\n",
      "\u001b[32m2025-07-05 20:06:28.876\u001b[0m | \u001b[1mINFO    \u001b[0m | \u001b[36mquantfolio_engine.optimizer.black_litterman\u001b[0m:\u001b[36mestimate_covariance_matrix\u001b[0m:\u001b[36m91\u001b[0m - \u001b[1mEstimating covariance matrix using sample method...\u001b[0m\n",
      "\u001b[32m2025-07-05 20:06:28.878\u001b[0m | \u001b[1mINFO    \u001b[0m | \u001b[36mquantfolio_engine.optimizer.black_litterman\u001b[0m:\u001b[36mestimate_covariance_matrix\u001b[0m:\u001b[36m121\u001b[0m - \u001b[1mCovariance matrix shape: (12, 12)\u001b[0m\n",
      "\u001b[32m2025-07-05 20:06:28.879\u001b[0m | \u001b[1mINFO    \u001b[0m | \u001b[36mquantfolio_engine.optimizer.black_litterman\u001b[0m:\u001b[36mcalibrate_market_risk_aversion\u001b[0m:\u001b[36m930\u001b[0m - \u001b[1mCalibrated λ: 2.138 (target Sharpe: -0.170)\u001b[0m\n",
      "\u001b[32m2025-07-05 20:06:28.879\u001b[0m | \u001b[1mINFO    \u001b[0m | \u001b[36mquantfolio_engine.optimizer.black_litterman\u001b[0m:\u001b[36mcalibrate_market_risk_aversion\u001b[0m:\u001b[36m931\u001b[0m - \u001b[1mEquilibrium Sharpe with calibrated λ: -0.160\u001b[0m\n",
      "\u001b[32m2025-07-05 20:06:28.879\u001b[0m | \u001b[1mINFO    \u001b[0m | \u001b[36mquantfolio_engine.optimizer.portfolio_engine\u001b[0m:\u001b[36m_optimize_black_litterman\u001b[0m:\u001b[36m273\u001b[0m - \u001b[1mAuto-calibrated λ: 2.138\u001b[0m\n",
      "\u001b[32m2025-07-05 20:06:28.879\u001b[0m | \u001b[1mINFO    \u001b[0m | \u001b[36mquantfolio_engine.optimizer.black_litterman\u001b[0m:\u001b[36moptimize_portfolio\u001b[0m:\u001b[36m652\u001b[0m - \u001b[1mStarting Black-Litterman portfolio optimization...\u001b[0m\n",
      "\u001b[32m2025-07-05 20:06:28.879\u001b[0m | \u001b[1mINFO    \u001b[0m | \u001b[36mquantfolio_engine.optimizer.black_litterman\u001b[0m:\u001b[36mestimate_covariance_matrix\u001b[0m:\u001b[36m91\u001b[0m - \u001b[1mEstimating covariance matrix using sample method...\u001b[0m\n",
      "\u001b[32m2025-07-05 20:06:28.880\u001b[0m | \u001b[1mINFO    \u001b[0m | \u001b[36mquantfolio_engine.optimizer.black_litterman\u001b[0m:\u001b[36mestimate_covariance_matrix\u001b[0m:\u001b[36m121\u001b[0m - \u001b[1mCovariance matrix shape: (12, 12)\u001b[0m\n",
      "\u001b[32m2025-07-05 20:06:28.880\u001b[0m | \u001b[1mINFO    \u001b[0m | \u001b[36mquantfolio_engine.optimizer.black_litterman\u001b[0m:\u001b[36mcalculate_equilibrium_returns\u001b[0m:\u001b[36m161\u001b[0m - \u001b[1mApplied grand view blend (γ=0.30)\u001b[0m\n",
      "\u001b[32m2025-07-05 20:06:28.880\u001b[0m | \u001b[1mINFO    \u001b[0m | \u001b[36mquantfolio_engine.optimizer.black_litterman\u001b[0m:\u001b[36mcalculate_equilibrium_returns\u001b[0m:\u001b[36m166\u001b[0m - \u001b[1mMarket cap weights: {'SPY': np.float64(0.08333333333333333), 'TLT': np.float64(0.08333333333333333), 'GLD': np.float64(0.08333333333333333), 'AAPL': np.float64(0.08333333333333333), 'MSFT': np.float64(0.08333333333333333), 'JPM': np.float64(0.08333333333333333), 'UNH': np.float64(0.08333333333333333), 'WMT': np.float64(0.08333333333333333), 'XLE': np.float64(0.08333333333333333), 'BA': np.float64(0.08333333333333333), 'IWM': np.float64(0.08333333333333333), 'EFA': np.float64(0.08333333333333333)}\u001b[0m\n",
      "\u001b[32m2025-07-05 20:06:28.880\u001b[0m | \u001b[1mINFO    \u001b[0m | \u001b[36mquantfolio_engine.optimizer.black_litterman\u001b[0m:\u001b[36mcalculate_equilibrium_returns\u001b[0m:\u001b[36m167\u001b[0m - \u001b[1mLambda market: 2.1379310344827585\u001b[0m\n",
      "\u001b[32m2025-07-05 20:06:28.880\u001b[0m | \u001b[1mINFO    \u001b[0m | \u001b[36mquantfolio_engine.optimizer.black_litterman\u001b[0m:\u001b[36mcalculate_equilibrium_returns\u001b[0m:\u001b[36m168\u001b[0m - \u001b[1mEquilibrium returns (monthly): {'SPY': 0.002329409709878793, 'TLT': 0.0019519858602225545, 'GLD': 0.0025922847224663084, 'AAPL': 0.0030659198546068183, 'MSFT': 0.0006931056904840743, 'JPM': 0.0015870106093269954, 'UNH': 0.0021529705857436412, 'WMT': 0.0026375372188879825, 'XLE': 0.0023545352066396924, 'BA': 0.0031494666783738303, 'IWM': 0.0024277571927418776, 'EFA': 0.0020834410490139024}\u001b[0m\n",
      "\u001b[32m2025-07-05 20:06:28.880\u001b[0m | \u001b[1mINFO    \u001b[0m | \u001b[36mquantfolio_engine.optimizer.black_litterman\u001b[0m:\u001b[36mcalculate_equilibrium_returns\u001b[0m:\u001b[36m169\u001b[0m - \u001b[1mMean equilibrium return: 0.002252\u001b[0m\n",
      "\u001b[32m2025-07-05 20:06:28.880\u001b[0m | \u001b[1mINFO    \u001b[0m | \u001b[36mquantfolio_engine.optimizer.black_litterman\u001b[0m:\u001b[36mcalculate_equilibrium_returns\u001b[0m:\u001b[36m170\u001b[0m - \u001b[1mRisk-free rate (monthly): 0.003750\u001b[0m\n",
      "\u001b[32m2025-07-05 20:06:28.880\u001b[0m | \u001b[1mINFO    \u001b[0m | \u001b[36mquantfolio_engine.optimizer.black_litterman\u001b[0m:\u001b[36mcreate_factor_timing_views\u001b[0m:\u001b[36m306\u001b[0m - \u001b[1mCreating factor timing views...\u001b[0m\n",
      "\u001b[32m2025-07-05 20:06:28.880\u001b[0m | \u001b[33m\u001b[1mWARNING \u001b[0m | \u001b[36mquantfolio_engine.optimizer.black_litterman\u001b[0m:\u001b[36m_calculate_information_coefficients\u001b[0m:\u001b[36m282\u001b[0m - \u001b[33m\u001b[1mFactor exposures does not have MultiIndex structure\u001b[0m\n",
      "\u001b[32m2025-07-05 20:06:28.881\u001b[0m | \u001b[34m\u001b[1mDEBUG   \u001b[0m | \u001b[36mquantfolio_engine.optimizer.black_litterman\u001b[0m:\u001b[36mcreate_factor_timing_views\u001b[0m:\u001b[36m324\u001b[0m - \u001b[34m\u001b[1mLatest exposures: GDP_Growth        0.421951\n",
      "Inflation        -0.184908\n",
      "Interest_Rates   -0.812559\n",
      "Unemployment     -0.095315\n",
      "Oil_Prices        0.984493\n",
      "VIX               0.167307\n",
      "Name: 2024-12-31 00:00:00, dtype: float64\u001b[0m\n",
      "\u001b[32m2025-07-05 20:06:28.882\u001b[0m | \u001b[34m\u001b[1mDEBUG   \u001b[0m | \u001b[36mquantfolio_engine.optimizer.black_litterman\u001b[0m:\u001b[36mcreate_factor_timing_views\u001b[0m:\u001b[36m325\u001b[0m - \u001b[34m\u001b[1mLatest exposures index: Index(['GDP_Growth', 'Inflation', 'Interest_Rates', 'Unemployment',\n",
      "       'Oil_Prices', 'VIX'],\n",
      "      dtype='object')\u001b[0m\n",
      "\u001b[32m2025-07-05 20:06:28.882\u001b[0m | \u001b[1mINFO    \u001b[0m | \u001b[36mquantfolio_engine.optimizer.black_litterman\u001b[0m:\u001b[36mcreate_factor_timing_views\u001b[0m:\u001b[36m380\u001b[0m - \u001b[1mRegime None: Using view strength multiplier 1.00\u001b[0m\n",
      "\u001b[32m2025-07-05 20:06:28.882\u001b[0m | \u001b[1mINFO    \u001b[0m | \u001b[36mquantfolio_engine.optimizer.black_litterman\u001b[0m:\u001b[36mcreate_factor_timing_views\u001b[0m:\u001b[36m383\u001b[0m - \u001b[1mAdjusted view strength: 1.500\u001b[0m\n",
      "\u001b[32m2025-07-05 20:06:28.884\u001b[0m | \u001b[33m\u001b[1mWARNING \u001b[0m | \u001b[36mquantfolio_engine.optimizer.black_litterman\u001b[0m:\u001b[36mcreate_factor_timing_views\u001b[0m:\u001b[36m603\u001b[0m - \u001b[33m\u001b[1mNo factor timing views created\u001b[0m\n",
      "\u001b[32m2025-07-05 20:06:28.884\u001b[0m | \u001b[1mINFO    \u001b[0m | \u001b[36mquantfolio_engine.optimizer.black_litterman\u001b[0m:\u001b[36moptimize_portfolio\u001b[0m:\u001b[36m704\u001b[0m - \u001b[1mNo views available - using equilibrium returns with prior covariance\u001b[0m\n",
      "\u001b[32m2025-07-05 20:06:28.885\u001b[0m | \u001b[1mINFO    \u001b[0m | \u001b[36mquantfolio_engine.optimizer.black_litterman\u001b[0m:\u001b[36m_optimize_weights\u001b[0m:\u001b[36m815\u001b[0m - \u001b[1mApplying long-only portfolio constraints (no short selling)\u001b[0m\n",
      "\u001b[32m2025-07-05 20:06:28.895\u001b[0m | \u001b[1mINFO    \u001b[0m | \u001b[36mquantfolio_engine.optimizer.black_litterman\u001b[0m:\u001b[36moptimize_portfolio\u001b[0m:\u001b[36m742\u001b[0m - \u001b[1mPortfolio metrics calculation:\u001b[0m\n",
      "\u001b[32m2025-07-05 20:06:28.895\u001b[0m | \u001b[1mINFO    \u001b[0m | \u001b[36mquantfolio_engine.optimizer.black_litterman\u001b[0m:\u001b[36moptimize_portfolio\u001b[0m:\u001b[36m743\u001b[0m - \u001b[1m  Monthly return: 0.002055\u001b[0m\n",
      "\u001b[32m2025-07-05 20:06:28.895\u001b[0m | \u001b[1mINFO    \u001b[0m | \u001b[36mquantfolio_engine.optimizer.black_litterman\u001b[0m:\u001b[36moptimize_portfolio\u001b[0m:\u001b[36m744\u001b[0m - \u001b[1m  Monthly volatility: 0.028644\u001b[0m\n",
      "\u001b[32m2025-07-05 20:06:28.895\u001b[0m | \u001b[1mINFO    \u001b[0m | \u001b[36mquantfolio_engine.optimizer.black_litterman\u001b[0m:\u001b[36moptimize_portfolio\u001b[0m:\u001b[36m745\u001b[0m - \u001b[1m  Annual return: 0.024656\u001b[0m\n",
      "\u001b[32m2025-07-05 20:06:28.895\u001b[0m | \u001b[1mINFO    \u001b[0m | \u001b[36mquantfolio_engine.optimizer.black_litterman\u001b[0m:\u001b[36moptimize_portfolio\u001b[0m:\u001b[36m746\u001b[0m - \u001b[1m  Annual volatility: 0.099225\u001b[0m\n",
      "\u001b[32m2025-07-05 20:06:28.895\u001b[0m | \u001b[1mINFO    \u001b[0m | \u001b[36mquantfolio_engine.optimizer.black_litterman\u001b[0m:\u001b[36moptimize_portfolio\u001b[0m:\u001b[36m747\u001b[0m - \u001b[1m  Risk-free rate: 0.045000\u001b[0m\n",
      "\u001b[32m2025-07-05 20:06:28.895\u001b[0m | \u001b[1mINFO    \u001b[0m | \u001b[36mquantfolio_engine.optimizer.black_litterman\u001b[0m:\u001b[36moptimize_portfolio\u001b[0m:\u001b[36m748\u001b[0m - \u001b[1m  Sharpe ratio: -0.205033\u001b[0m\n",
      "\u001b[32m2025-07-05 20:06:28.895\u001b[0m | \u001b[1mINFO    \u001b[0m | \u001b[36mquantfolio_engine.optimizer.black_litterman\u001b[0m:\u001b[36moptimize_portfolio\u001b[0m:\u001b[36m749\u001b[0m - \u001b[1m  Max drawdown: -0.216854\u001b[0m\n",
      "\u001b[32m2025-07-05 20:06:28.895\u001b[0m | \u001b[1mINFO    \u001b[0m | \u001b[36mquantfolio_engine.optimizer.black_litterman\u001b[0m:\u001b[36moptimize_portfolio\u001b[0m:\u001b[36m750\u001b[0m - \u001b[1m  VaR (95%): -0.038975\u001b[0m\n",
      "\u001b[32m2025-07-05 20:06:28.895\u001b[0m | \u001b[32m\u001b[1mSUCCESS \u001b[0m | \u001b[36mquantfolio_engine.optimizer.black_litterman\u001b[0m:\u001b[36moptimize_portfolio\u001b[0m:\u001b[36m764\u001b[0m - \u001b[32m\u001b[1mPortfolio optimization completed. Sharpe: -0.205\u001b[0m\n",
      "\n",
      "Black-Litterman Results:\n",
      "Expected Return: 0.025\n",
      "Volatility: 0.099\n",
      "Sharpe Ratio: -0.205\n",
      "Max Drawdown: -0.217\n",
      "VaR (95%): -0.039\n",
      "\n",
      "Optimal Weights:\n",
      "  SPY: 0.050\n",
      "  TLT: 0.250\n",
      "  GLD: 0.050\n",
      "  AAPL: 0.050\n",
      "  MSFT: 0.118\n",
      "  JPM: 0.081\n",
      "  UNH: 0.087\n",
      "  WMT: 0.050\n",
      "  XLE: 0.062\n",
      "  BA: 0.050\n",
      "  IWM: 0.053\n",
      "  EFA: 0.099\n"
     ]
    }
   ],
   "source": [
    "# Test Black-Litterman optimization\n",
    "print(\"Testing Black-Litterman optimization...\")\n",
    "bl_engine = PortfolioOptimizationEngine(method='black_litterman', risk_free_rate=0.045)  # 4.5% annual\n",
    "bl_result = bl_engine.optimize_portfolio(\n",
    "    data=data,\n",
    "    constraints={'max_weight': 0.25, 'min_weight': 0.05}\n",
    ")\n",
    "\n",
    "print(\"\\nBlack-Litterman Results:\")\n",
    "print(f\"Expected Return: {bl_result['expected_return']:.3f}\")\n",
    "print(f\"Volatility: {bl_result['volatility']:.3f}\")\n",
    "print(f\"Sharpe Ratio: {bl_result['sharpe_ratio']:.3f}\")\n",
    "print(f\"Max Drawdown: {bl_result['max_drawdown']:.3f}\")\n",
    "print(f\"VaR (95%): {bl_result['var_95']:.3f}\")\n",
    "print(\"\\nOptimal Weights:\")\n",
    "for asset, weight in bl_result['weights'].items():\n",
    "    print(f\"  {asset}: {weight:.3f}\")"
   ]
  },
  {
   "cell_type": "markdown",
   "metadata": {},
   "source": [
    "## 4. Compare Results and Validate"
   ]
  },
  {
   "cell_type": "code",
   "execution_count": 10,
   "metadata": {},
   "outputs": [
    {
     "name": "stdout",
     "output_type": "stream",
     "text": [
      "Optimization Method Comparison:\n",
      "            Metric  Monte Carlo  Black-Litterman\n",
      "0  Expected Return       0.0442           0.0247\n",
      "1       Volatility       0.0979           0.0992\n",
      "2     Sharpe Ratio      -0.0083          -0.2050\n",
      "3     Max Drawdown      -0.0695          -0.2169\n",
      "4        VaR (95%)      -0.0426          -0.0390\n",
      "\n",
      "Validation Checks:\n",
      "1. Weights sum to 1: True\n",
      "2. All weights >= 0: True\n",
      "3. All weights <= max_weight: False\n",
      "4. Sharpe ratio reasonable: True\n",
      "5. Volatility reasonable: True\n"
     ]
    }
   ],
   "source": [
    "# Compare optimization methods\n",
    "comparison_df = pd.DataFrame({\n",
    "    'Metric': ['Expected Return', 'Volatility', 'Sharpe Ratio', 'Max Drawdown', 'VaR (95%)'],\n",
    "    'Monte Carlo': [\n",
    "        mc_result['expected_return'],\n",
    "        mc_result['volatility'],\n",
    "        mc_result['sharpe_ratio'],\n",
    "        mc_result['max_drawdown'],\n",
    "        mc_result['var_95']\n",
    "    ],\n",
    "    'Black-Litterman': [\n",
    "        bl_result['expected_return'],\n",
    "        bl_result['volatility'],\n",
    "        bl_result['sharpe_ratio'],\n",
    "        bl_result['max_drawdown'],\n",
    "        bl_result['var_95']\n",
    "    ]\n",
    "})\n",
    "\n",
    "print(\"Optimization Method Comparison:\")\n",
    "print(comparison_df.round(4))\n",
    "\n",
    "# Check if results are reasonable\n",
    "print(\"\\nValidation Checks:\")\n",
    "print(f\"1. Weights sum to 1: {abs(np.sum(list(mc_result['weights'].values)) - 1) < 0.01}\")\n",
    "print(f\"2. All weights >= 0: {np.all(np.array(list(mc_result['weights'].values)) >= 0)}\")\n",
    "print(f\"3. All weights <= max_weight: {np.all(np.array(list(mc_result['weights'].values)) <= 0.25)}\")\n",
    "print(f\"4. Sharpe ratio reasonable: {-2 < mc_result['sharpe_ratio'] < 3}\")\n",
    "print(f\"5. Volatility reasonable: {0.05 < mc_result['volatility'] < 0.5}\")"
   ]
  },
  {
   "cell_type": "code",
   "execution_count": 11,
   "metadata": {},
   "outputs": [
    {
     "data": {
      "image/png": "[encoded data removed]",
      "text/plain": [
       "<Figure size 1500x1000 with 4 Axes>"
      ]
     },
     "metadata": {},
     "output_type": "display_data"
    }
   ],
   "source": [
    "# Visualize results\n",
    "fig, axes = plt.subplots(2, 2, figsize=(15, 10))\n",
    "\n",
    "# 1. Weight comparison\n",
    "weights_df = pd.DataFrame({\n",
    "    'Monte Carlo': mc_result['weights'].values,  # Access values directly since it's a numpy array\n",
    "    'Black-Litterman': bl_result['weights'].values\n",
    "}, index=mc_result['weights'].index)  # Use index from Series\n",
    "\n",
    "weights_df.plot(kind='bar', ax=axes[0,0], title='Portfolio Weights Comparison')\n",
    "axes[0,0].set_ylabel('Weight')\n",
    "axes[0,0].tick_params(axis='x', rotation=45)\n",
    "\n",
    "# 2. Risk-Return scatter\n",
    "axes[0,1].scatter([mc_result['volatility']], [mc_result['expected_return']], \n",
    "                   c='blue', s=100, label='Monte Carlo')\n",
    "axes[0,1].scatter([bl_result['volatility']], [bl_result['expected_return']], \n",
    "                   c='red', s=100, label='Black-Litterman')\n",
    "axes[0,1].set_xlabel('Volatility')\n",
    "axes[0,1].set_ylabel('Expected Return')\n",
    "axes[0,1].set_title('Risk-Return Comparison')\n",
    "axes[0,1].legend()\n",
    "axes[0,1].grid(True)\n",
    "\n",
    "# 3. Sharpe ratio comparison\n",
    "methods = ['Monte Carlo', 'Black-Litterman']\n",
    "sharpe_ratios = [mc_result['sharpe_ratio'], bl_result['sharpe_ratio']]\n",
    "axes[1,0].bar(methods, sharpe_ratios, color=['blue', 'red'])\n",
    "axes[1,0].set_ylabel('Sharpe Ratio')\n",
    "axes[1,0].set_title('Sharpe Ratio Comparison')\n",
    "axes[1,0].axhline(y=0, color='black', linestyle='--', alpha=0.5)\n",
    "\n",
    "# 4. Risk metrics comparison\n",
    "risk_metrics = ['Max Drawdown', 'VaR (95%)']\n",
    "mc_risk = [mc_result['max_drawdown'], mc_result['var_95']]\n",
    "bl_risk = [bl_result['max_drawdown'], bl_result['var_95']]\n",
    "\n",
    "x = np.arange(len(risk_metrics))\n",
    "width = 0.35\n",
    "axes[1,1].bar(x - width/2, mc_risk, width, label='Monte Carlo', color='blue')\n",
    "axes[1,1].bar(x + width/2, bl_risk, width, label='Black-Litterman', color='red')\n",
    "axes[1,1].set_xlabel('Risk Metric')\n",
    "axes[1,1].set_ylabel('Value')\n",
    "axes[1,1].set_title('Risk Metrics Comparison')\n",
    "axes[1,1].set_xticks(x)\n",
    "axes[1,1].set_xticklabels(risk_metrics)\n",
    "axes[1,1].legend()\n",
    "\n",
    "plt.tight_layout()\n",
    "plt.show()"
   ]
  },
  {
   "cell_type": "markdown",
   "metadata": {},
   "source": [
    "## 5. Test CLI Integration"
   ]
  },
  {
   "cell_type": "code",
   "execution_count": 12,
   "metadata": {},
   "outputs": [
    {
     "name": "stdout",
     "output_type": "stream",
     "text": [
      "Testing CLI optimization command...\n",
      "CLI Output:\n",
      "\u001b[32m2025-07-05 20:06:30.038\u001b[0m | \u001b[1mINFO    \u001b[0m | \u001b[36m__main__\u001b[0m:\u001b[36moptimize_portfolio\u001b[0m:\u001b[36m503\u001b[0m - \u001b[1mStarting portfolio optimization using monte_carlo method...\u001b[0m\n",
      "\u001b[32m2025-07-05 20:06:30.048\u001b[0m | \u001b[1mINFO    \u001b[0m | \u001b[36m__main__\u001b[0m:\u001b[36moptimize_portfolio\u001b[0m:\u001b[36m547\u001b[0m - \u001b[1mLoading data for optimization...\u001b[0m\n",
      "\u001b[32m2025-07-05 20:06:30.048\u001b[0m | \u001b[1mINFO    \u001b[0m | \u001b[36mquantfolio_engine.optimizer.portfolio_engine\u001b[0m:\u001b[36mload_data\u001b[0m:\u001b[36m116\u001b[0m - \u001b[1mLoading data for portfolio optimization...\u001b[0m\n",
      "\u001b[32m2025-07-05 20:06:30.054\u001b[0m | \u001b[1mINFO    \u001b[0m | \u001b[36mquantfolio_engine.optimizer.portfolio_engine\u001b[0m:\u001b[36mload_data\u001b[0m:\u001b[36m137\u001b[0m - \u001b[1mLoaded returns data: (2, 1)\u001b[0m\n",
      "\u001b[32m2025-07-05 20:06:30.055\u001b[0m | \u001b[1mINFO    \u001b[0m | \u001b[36mquantfolio_engine.optimizer.portfolio_engine\u001b[0m:\u001b[36mload_data\u001b[0m:\u001b[36m149\u001b[0m - \u001b[1mLoaded factor exposures: (100, 3)\u001b[0m\n",
      "\u001b[32m2025-07-05 20:06:30.056\u001b[0m | \u001b[1mINFO    \u001b[0m | \u001b[36mquantfolio_engine.optimizer.portfolio_engine\u001b[0m:\u001b[36mload_data\u001b[0m:\u001b[36m160\u001b[0m - \u001b[1mLoaded factor regimes: (100, 1)\u001b[0m\n",
      "\u001b[32m2025-07-05 20:06:30.057\u001b[0m | \u001b[1mINFO    \u001b[0m | \u001b[36mquantfolio_engine.optimizer.portfolio_engine\u001b[0m:\u001b[36mload_data\u001b[0m:\u001b[36m169\u001b[0m - \u001b[1mLoaded sentiment data: (300, 14)\u001b[0m\n",
      "\u001b[32m2025-07-05 20:06:30.058\u001b[0m | \u001b[1mINFO    \u001b[0m | \u001b[36mquantfolio_engine.optimizer.portfolio_engine\u001b[0m:\u001b[36mload_data\u001b[0m:\u001b[36m178\u001b[0m - \u001b[1mLoaded macro data: (400, 10)\u001b[0m\n",
      "\u001b[32m2025-07-05 20:06:30.058\u001b[0m | \u001b[1mINFO    \u001b[0m | \u001b[36m__main__\u001b[0m:\u001b[36moptimize_portfolio\u001b[0m:\u001b[36m605\u001b[0m - \u001b[1mRunning portfolio optimization...\u001b[0m\n",
      "\u001b[32m2025-07-05 20:06:30.058\u001b[0m | \u001b[1mINFO    \u001b[0m | \u001b[36mquantfolio_engine.optimizer.portfolio_engine\u001b[0m:\u001b[36moptimize_portfolio\u001b[0m:\u001b[36m205\u001b[0m - \u001b[1mStarting portfolio optimization using monte_carlo method...\u001b[0m\n",
      "\u001b[32m2025-07-05 20:06:30.058\u001b[0m | \u001b[1mINFO    \u001b[0m | \u001b[36mquantfolio_engine.optimizer.portfolio_engine\u001b[0m:\u001b[36m_optimize_monte_carlo\u001b[0m:\u001b[36m303\u001b[0m - \u001b[1mRunning Monte Carlo optimization...\u001b[0m\n",
      "\u001b[32m2025-07-05 20:06:30.058\u001b[0m | \u001b[1mINFO    \u001b[0m | \u001b[36mquantfolio_engine.optimizer.monte_carlo\u001b[0m:\u001b[36mgenerate_scenarios\u001b[0m:\u001b[36m91\u001b[0m - \u001b[1mGenerating 1000 Monte Carlo scenarios...\u001b[0m\n",
      "\u001b[32m2025-07-05 20:06:30.059\u001b[0m | \u001b[1mINFO    \u001b[0m | \u001b[36mquantfolio_engine.optimizer.monte_carlo\u001b[0m:\u001b[36mgenerate_scenarios\u001b[0m:\u001b[36m110\u001b[0m - \u001b[1mGenerated scenarios with shape: (1000, 12, 1)\u001b[0m\n",
      "\u001b[32m2025-07-05 20:06:30.059\u001b[0m | \u001b[1mINFO    \u001b[0m | \u001b[36mquantfolio_engine.optimizer.monte_carlo\u001b[0m:\u001b[36moptimize_with_constraints\u001b[0m:\u001b[36m136\u001b[0m - \u001b[1mOptimizing portfolio with Monte Carlo constraints...\u001b[0m\n",
      "\u001b[32m2025-07-05 20:06:30.059\u001b[0m | \u001b[1mINFO    \u001b[0m | \u001b[36mquantfolio_engine.optimizer.monte_carlo\u001b[0m:\u001b[36moptimize_with_constraints\u001b[0m:\u001b[36m151\u001b[0m - \u001b[1mAnnualizing mean and covariance with factor 12.00\u001b[0m\n",
      "\u001b[32m2025-07-05 20:06:30.059\u001b[0m | \u001b[31m\u001b[1mERROR   \u001b[0m | \u001b[36m__main__\u001b[0m:\u001b[36moptimize_portfolio\u001b[0m:\u001b[36m698\u001b[0m - \u001b[31m\u001b[1mOptimization failed: Invalid dimensions for arguments.\u001b[0m\n",
      "\n",
      "CLI Errors:\n",
      "2025-07-05 20:06:29.244 | INFO     | quantfolio_engine.config:<module>:14 - PROJ_ROOT path is: /Users/dominusdeorum/Documents/Vanderbilt/Projects/quantfolio-engine\n",
      "/Users/dominusdeorum/Documents/Vanderbilt/Projects/quantfolio-engine/quantfolio_engine/optimizer/portfolio_engine.py:146: UserWarning: Could not infer format, so each element will be parsed individually, falling back to `dateutil`. To ensure parsing is consistent and as-expected, please specify a format.\n",
      "  data[\"factor_exposures\"] = pd.read_csv(\n",
      "/Users/dominusdeorum/Documents/Vanderbilt/Projects/quantfolio-engine/quantfolio_engine/optimizer/portfolio_engine.py:157: UserWarning: Could not infer format, so each element will be parsed individually, falling back to `dateutil`. To ensure parsing is consistent and as-expected, please specify a format.\n",
      "  data[\"factor_regimes\"] = pd.read_csv(\n",
      "\n"
     ]
    }
   ],
   "source": [
    "# Test CLI command\n",
    "import subprocess\n",
    "import os\n",
    "\n",
    "print(\"Testing CLI optimization command...\")\n",
    "try:\n",
    "    result = subprocess.run([\n",
    "        'python', '-m', 'quantfolio_engine.cli', 'optimize-portfolio',\n",
    "        '--method', 'monte_carlo',\n",
    "        '--max-weight', '0.25',\n",
    "        '--min-weight', '0.05',\n",
    "        '--risk-free-rate', '0.045'\n",
    "    ], capture_output=True, text=True, cwd=os.getcwd())\n",
    "    \n",
    "    print(\"CLI Output:\")\n",
    "    print(result.stdout)\n",
    "    \n",
    "    if result.stderr:\n",
    "        print(\"CLI Errors:\")\n",
    "        print(result.stderr)\n",
    "        \n",
    "except Exception as e:\n",
    "    print(f\"CLI test failed: {e}\")"
   ]
  },
  {
   "cell_type": "markdown",
   "metadata": {},
   "source": [
    "## 6. Summary and Conclusions"
   ]
  },
  {
   "cell_type": "code",
   "execution_count": 13,
   "metadata": {},
   "outputs": [
    {
     "name": "stdout",
     "output_type": "stream",
     "text": [
      "=== OPTIMIZATION TESTING SUMMARY ===\n",
      "\n",
      "1. Data Generation:\n",
      "   - Generated 12 assets with realistic characteristics\n",
      "   - Created 120 months of historical data\n",
      "   - Included 6 macro factors\n",
      "   - Generated 4 market regimes\n",
      "   - Added 8 sentiment factors\n",
      "\n",
      "2. Optimization Results:\n",
      "   - Monte Carlo Sharpe: -0.008\n",
      "   - Black-Litterman Sharpe: -0.205\n",
      "   - Best method: Monte Carlo\n",
      "\n",
      "3. Validation Checks:\n",
      "   Weights sum to 1: ✓ PASS\n",
      "   All weights >= 0: ✓ PASS\n",
      "   All weights <= max_weight: ✗ FAIL\n",
      "   Sharpe ratio reasonable: ✓ PASS\n",
      "   Volatility reasonable: ✓ PASS\n",
      "\n",
      "4. Overall Assessment: FAIL\n",
      "   Issues detected that need to be addressed.\n"
     ]
    }
   ],
   "source": [
    "print(\"=== OPTIMIZATION TESTING SUMMARY ===\\n\")\n",
    "\n",
    "print(\"1. Data Generation:\")\n",
    "print(f\"   - Generated {len(assets)} assets with realistic characteristics\")\n",
    "print(f\"   - Created {n_periods} months of historical data\")\n",
    "print(f\"   - Included {n_factors} macro factors\")\n",
    "print(f\"   - Generated {n_regimes} market regimes\")\n",
    "print(f\"   - Added {n_sentiment_factors} sentiment factors\")\n",
    "\n",
    "print(\"\\n2. Optimization Results:\")\n",
    "print(f\"   - Monte Carlo Sharpe: {mc_result['sharpe_ratio']:.3f}\")\n",
    "print(f\"   - Black-Litterman Sharpe: {bl_result['sharpe_ratio']:.3f}\")\n",
    "print(f\"   - Best method: {'Monte Carlo' if mc_result['sharpe_ratio'] > bl_result['sharpe_ratio'] else 'Black-Litterman'}\")\n",
    "\n",
    "print(\"\\n3. Validation Checks:\")\n",
    "checks = [\n",
    "    abs(sum(mc_result['weights'].values) - 1) < 0.01,\n",
    "    all(w >= 0 for w in mc_result['weights'].values),\n",
    "    all(w <= 0.25 for w in mc_result['weights'].values),\n",
    "    -2 < mc_result['sharpe_ratio'] < 3,\n",
    "    0.05 < mc_result['volatility'] < 0.5\n",
    "]\n",
    "check_names = [\n",
    "    \"Weights sum to 1\",\n",
    "    \"All weights >= 0\",\n",
    "    \"All weights <= max_weight\",\n",
    "    \"Sharpe ratio reasonable\",\n",
    "    \"Volatility reasonable\"\n",
    "]\n",
    "\n",
    "for check, name in zip(checks, check_names):\n",
    "    status = \"✓ PASS\" if check else \"✗ FAIL\"\n",
    "    print(f\"   {name}: {status}\")\n",
    "\n",
    "print(f\"\\n4. Overall Assessment: {'PASS' if all(checks) else 'FAIL'}\")\n",
    "if all(checks):\n",
    "    print(\"   The portfolio optimization is working correctly with realistic data!\")\n",
    "else:\n",
    "    print(\"   Issues detected that need to be addressed.\")"
   ]
  },
  {
   "cell_type": "code",
   "execution_count": null,
   "metadata": {},
   "outputs": [],
   "source": []
  }
 ],
 "metadata": {
  "kernelspec": {
   "display_name": "quantfolio-engine",
   "language": "python",
   "name": "python3"
  },
  "language_info": {
   "codemirror_mode": {
    "name": "ipython",
    "version": 3
   },
   "file_extension": ".py",
   "mimetype": "text/x-python",
   "name": "python",
   "nbconvert_exporter": "python",
   "pygments_lexer": "ipython3",
   "version": "3.11.13"
  }
 },
 "nbformat": 4,
 "nbformat_minor": 4
}
